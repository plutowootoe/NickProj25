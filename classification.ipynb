{
 "cells": [
  {
   "cell_type": "code",
   "id": "initial_id",
   "metadata": {
    "collapsed": true,
    "ExecuteTime": {
     "end_time": "2025-04-26T17:10:32.349663Z",
     "start_time": "2025-04-26T17:10:32.335625Z"
    }
   },
   "source": [
    "import numpy as np\n",
    "import pandas as pd\n",
    "import matplotlib.pyplot as plt\n",
    "from sklearn import svm\n",
    "from sklearn.compose import ColumnTransformer\n",
    "from sklearn.ensemble import RandomForestClassifier\n",
    "from sklearn.model_selection import GridSearchCV, train_test_split\n",
    "from sklearn.neighbors import KNeighborsClassifier\n",
    "from sklearn.preprocessing import FunctionTransformer, RobustScaler, StandardScaler, PowerTransformer, MinMaxScaler\n",
    "from sklearn.pipeline import Pipeline\n",
    "\n",
    "df = pd.read_csv(\"tracks.csv\")"
   ],
   "outputs": [],
   "execution_count": 678
  },
  {
   "metadata": {
    "ExecuteTime": {
     "end_time": "2025-04-26T17:10:32.380662Z",
     "start_time": "2025-04-26T17:10:32.369668Z"
    }
   },
   "cell_type": "code",
   "source": "df[\"popularity\"].describe()",
   "id": "800506e5dd3ee2d2",
   "outputs": [
    {
     "data": {
      "text/plain": [
       "count    1500.000000\n",
       "mean       28.554000\n",
       "std        24.038587\n",
       "min         0.000000\n",
       "25%         1.000000\n",
       "50%        25.000000\n",
       "75%        47.000000\n",
       "max        93.000000\n",
       "Name: popularity, dtype: float64"
      ]
     },
     "execution_count": 679,
     "metadata": {},
     "output_type": "execute_result"
    }
   ],
   "execution_count": 679
  },
  {
   "metadata": {
    "ExecuteTime": {
     "end_time": "2025-04-26T17:10:33.726707Z",
     "start_time": "2025-04-26T17:10:33.712663Z"
    }
   },
   "cell_type": "code",
   "source": [
    "m = df[\"popularity\"].median()\n",
    "print(m)"
   ],
   "id": "fbcd7579dfd00bb0",
   "outputs": [
    {
     "name": "stdout",
     "output_type": "stream",
     "text": [
      "25.0\n"
     ]
    }
   ],
   "execution_count": 680
  },
  {
   "metadata": {
    "ExecuteTime": {
     "end_time": "2025-04-26T17:10:33.868707Z",
     "start_time": "2025-04-26T17:10:33.852712Z"
    }
   },
   "cell_type": "code",
   "source": [
    "df[\"popularity_binary\"] = df[\"popularity\"].map(lambda x: 1 if x > m else 0)\n",
    "df.drop(columns=[\"popularity\"], inplace=True)\n",
    "\n",
    "df[\"explicit\"] = df[\"explicit\"].map({True: 1, False: 0})\n",
    "df = pd.get_dummies(df, columns=['key', 'time_signature', 'track_genre'], drop_first=True, dtype=int)\n"
   ],
   "id": "da457a2396672310",
   "outputs": [],
   "execution_count": 681
  },
  {
   "metadata": {},
   "cell_type": "markdown",
   "source": "taking key and time sig look numeric but really categorical",
   "id": "7b60ad6d38c8d7ac"
  },
  {
   "metadata": {
    "ExecuteTime": {
     "end_time": "2025-04-26T17:10:35.214874Z",
     "start_time": "2025-04-26T17:10:35.185878Z"
    }
   },
   "cell_type": "code",
   "source": "df",
   "id": "b79c9a9b3ba4fb4f",
   "outputs": [
    {
     "data": {
      "text/plain": [
       "      duration_ms  explicit  danceability  energy  loudness  mode  \\\n",
       "0          202093         1         0.658   0.671   -12.210     1   \n",
       "1          215973         0         0.627   0.505   -12.659     1   \n",
       "2          188160         0         0.807   0.835    -6.849     0   \n",
       "3          233965         0         0.748   0.549    -5.447     0   \n",
       "4          187173         0         0.683   0.869    -4.828     1   \n",
       "...           ...       ...           ...     ...       ...   ...   \n",
       "1495       352371         0         0.273   0.122   -22.173     0   \n",
       "1496       204310         0         0.457   0.498    -8.387     1   \n",
       "1497       225506         0         0.241   0.207   -16.353     1   \n",
       "1498       148600         0         0.280   0.208   -20.158     1   \n",
       "1499       257800         0         0.244   0.205   -15.596     1   \n",
       "\n",
       "      speechiness  acousticness  instrumentalness  liveness  ...  key_8  \\\n",
       "0          0.0363       0.09330          0.000927    0.1150  ...      0   \n",
       "1          0.0549       0.19700          0.014900    0.0583  ...      0   \n",
       "2          0.0631       0.00148          0.527000    0.2330  ...      0   \n",
       "3          0.0650       0.00268          0.792000    0.1960  ...      0   \n",
       "4          0.0515       0.00088          0.836000    0.2060  ...      0   \n",
       "...           ...           ...               ...       ...  ...    ...   \n",
       "1495       0.0575       0.96000          0.003330    0.0635  ...      0   \n",
       "1496       0.0368       0.76600          0.000002    0.2890  ...      0   \n",
       "1497       0.0374       0.98200          0.002260    0.1140  ...      0   \n",
       "1498       0.0521       0.94100          0.000200    0.4100  ...      0   \n",
       "1499       0.0367       0.98400          0.329000    0.0788  ...      0   \n",
       "\n",
       "      key_9  key_10  key_11  time_signature_1  time_signature_3  \\\n",
       "0         0       0       0                 0                 0   \n",
       "1         0       0       0                 0                 0   \n",
       "2         1       0       0                 0                 0   \n",
       "3         0       0       0                 0                 0   \n",
       "4         0       0       0                 0                 0   \n",
       "...     ...     ...     ...               ...               ...   \n",
       "1495      0       0       0                 0                 0   \n",
       "1496      0       0       0                 0                 0   \n",
       "1497      0       0       0                 1                 0   \n",
       "1498      0       0       0                 0                 0   \n",
       "1499      0       0       0                 0                 0   \n",
       "\n",
       "      time_signature_4  time_signature_5  track_genre_dance  track_genre_opera  \n",
       "0                    1                 0                  0                  0  \n",
       "1                    1                 0                  0                  0  \n",
       "2                    1                 0                  0                  0  \n",
       "3                    1                 0                  0                  0  \n",
       "4                    1                 0                  0                  0  \n",
       "...                ...               ...                ...                ...  \n",
       "1495                 1                 0                  0                  1  \n",
       "1496                 1                 0                  0                  1  \n",
       "1497                 0                 0                  0                  1  \n",
       "1498                 1                 0                  0                  1  \n",
       "1499                 1                 0                  0                  1  \n",
       "\n",
       "[1500 rows x 30 columns]"
      ],
      "text/html": [
       "<div>\n",
       "<style scoped>\n",
       "    .dataframe tbody tr th:only-of-type {\n",
       "        vertical-align: middle;\n",
       "    }\n",
       "\n",
       "    .dataframe tbody tr th {\n",
       "        vertical-align: top;\n",
       "    }\n",
       "\n",
       "    .dataframe thead th {\n",
       "        text-align: right;\n",
       "    }\n",
       "</style>\n",
       "<table border=\"1\" class=\"dataframe\">\n",
       "  <thead>\n",
       "    <tr style=\"text-align: right;\">\n",
       "      <th></th>\n",
       "      <th>duration_ms</th>\n",
       "      <th>explicit</th>\n",
       "      <th>danceability</th>\n",
       "      <th>energy</th>\n",
       "      <th>loudness</th>\n",
       "      <th>mode</th>\n",
       "      <th>speechiness</th>\n",
       "      <th>acousticness</th>\n",
       "      <th>instrumentalness</th>\n",
       "      <th>liveness</th>\n",
       "      <th>...</th>\n",
       "      <th>key_8</th>\n",
       "      <th>key_9</th>\n",
       "      <th>key_10</th>\n",
       "      <th>key_11</th>\n",
       "      <th>time_signature_1</th>\n",
       "      <th>time_signature_3</th>\n",
       "      <th>time_signature_4</th>\n",
       "      <th>time_signature_5</th>\n",
       "      <th>track_genre_dance</th>\n",
       "      <th>track_genre_opera</th>\n",
       "    </tr>\n",
       "  </thead>\n",
       "  <tbody>\n",
       "    <tr>\n",
       "      <th>0</th>\n",
       "      <td>202093</td>\n",
       "      <td>1</td>\n",
       "      <td>0.658</td>\n",
       "      <td>0.671</td>\n",
       "      <td>-12.210</td>\n",
       "      <td>1</td>\n",
       "      <td>0.0363</td>\n",
       "      <td>0.09330</td>\n",
       "      <td>0.000927</td>\n",
       "      <td>0.1150</td>\n",
       "      <td>...</td>\n",
       "      <td>0</td>\n",
       "      <td>0</td>\n",
       "      <td>0</td>\n",
       "      <td>0</td>\n",
       "      <td>0</td>\n",
       "      <td>0</td>\n",
       "      <td>1</td>\n",
       "      <td>0</td>\n",
       "      <td>0</td>\n",
       "      <td>0</td>\n",
       "    </tr>\n",
       "    <tr>\n",
       "      <th>1</th>\n",
       "      <td>215973</td>\n",
       "      <td>0</td>\n",
       "      <td>0.627</td>\n",
       "      <td>0.505</td>\n",
       "      <td>-12.659</td>\n",
       "      <td>1</td>\n",
       "      <td>0.0549</td>\n",
       "      <td>0.19700</td>\n",
       "      <td>0.014900</td>\n",
       "      <td>0.0583</td>\n",
       "      <td>...</td>\n",
       "      <td>0</td>\n",
       "      <td>0</td>\n",
       "      <td>0</td>\n",
       "      <td>0</td>\n",
       "      <td>0</td>\n",
       "      <td>0</td>\n",
       "      <td>1</td>\n",
       "      <td>0</td>\n",
       "      <td>0</td>\n",
       "      <td>0</td>\n",
       "    </tr>\n",
       "    <tr>\n",
       "      <th>2</th>\n",
       "      <td>188160</td>\n",
       "      <td>0</td>\n",
       "      <td>0.807</td>\n",
       "      <td>0.835</td>\n",
       "      <td>-6.849</td>\n",
       "      <td>0</td>\n",
       "      <td>0.0631</td>\n",
       "      <td>0.00148</td>\n",
       "      <td>0.527000</td>\n",
       "      <td>0.2330</td>\n",
       "      <td>...</td>\n",
       "      <td>0</td>\n",
       "      <td>1</td>\n",
       "      <td>0</td>\n",
       "      <td>0</td>\n",
       "      <td>0</td>\n",
       "      <td>0</td>\n",
       "      <td>1</td>\n",
       "      <td>0</td>\n",
       "      <td>0</td>\n",
       "      <td>0</td>\n",
       "    </tr>\n",
       "    <tr>\n",
       "      <th>3</th>\n",
       "      <td>233965</td>\n",
       "      <td>0</td>\n",
       "      <td>0.748</td>\n",
       "      <td>0.549</td>\n",
       "      <td>-5.447</td>\n",
       "      <td>0</td>\n",
       "      <td>0.0650</td>\n",
       "      <td>0.00268</td>\n",
       "      <td>0.792000</td>\n",
       "      <td>0.1960</td>\n",
       "      <td>...</td>\n",
       "      <td>0</td>\n",
       "      <td>0</td>\n",
       "      <td>0</td>\n",
       "      <td>0</td>\n",
       "      <td>0</td>\n",
       "      <td>0</td>\n",
       "      <td>1</td>\n",
       "      <td>0</td>\n",
       "      <td>0</td>\n",
       "      <td>0</td>\n",
       "    </tr>\n",
       "    <tr>\n",
       "      <th>4</th>\n",
       "      <td>187173</td>\n",
       "      <td>0</td>\n",
       "      <td>0.683</td>\n",
       "      <td>0.869</td>\n",
       "      <td>-4.828</td>\n",
       "      <td>1</td>\n",
       "      <td>0.0515</td>\n",
       "      <td>0.00088</td>\n",
       "      <td>0.836000</td>\n",
       "      <td>0.2060</td>\n",
       "      <td>...</td>\n",
       "      <td>0</td>\n",
       "      <td>0</td>\n",
       "      <td>0</td>\n",
       "      <td>0</td>\n",
       "      <td>0</td>\n",
       "      <td>0</td>\n",
       "      <td>1</td>\n",
       "      <td>0</td>\n",
       "      <td>0</td>\n",
       "      <td>0</td>\n",
       "    </tr>\n",
       "    <tr>\n",
       "      <th>...</th>\n",
       "      <td>...</td>\n",
       "      <td>...</td>\n",
       "      <td>...</td>\n",
       "      <td>...</td>\n",
       "      <td>...</td>\n",
       "      <td>...</td>\n",
       "      <td>...</td>\n",
       "      <td>...</td>\n",
       "      <td>...</td>\n",
       "      <td>...</td>\n",
       "      <td>...</td>\n",
       "      <td>...</td>\n",
       "      <td>...</td>\n",
       "      <td>...</td>\n",
       "      <td>...</td>\n",
       "      <td>...</td>\n",
       "      <td>...</td>\n",
       "      <td>...</td>\n",
       "      <td>...</td>\n",
       "      <td>...</td>\n",
       "      <td>...</td>\n",
       "    </tr>\n",
       "    <tr>\n",
       "      <th>1495</th>\n",
       "      <td>352371</td>\n",
       "      <td>0</td>\n",
       "      <td>0.273</td>\n",
       "      <td>0.122</td>\n",
       "      <td>-22.173</td>\n",
       "      <td>0</td>\n",
       "      <td>0.0575</td>\n",
       "      <td>0.96000</td>\n",
       "      <td>0.003330</td>\n",
       "      <td>0.0635</td>\n",
       "      <td>...</td>\n",
       "      <td>0</td>\n",
       "      <td>0</td>\n",
       "      <td>0</td>\n",
       "      <td>0</td>\n",
       "      <td>0</td>\n",
       "      <td>0</td>\n",
       "      <td>1</td>\n",
       "      <td>0</td>\n",
       "      <td>0</td>\n",
       "      <td>1</td>\n",
       "    </tr>\n",
       "    <tr>\n",
       "      <th>1496</th>\n",
       "      <td>204310</td>\n",
       "      <td>0</td>\n",
       "      <td>0.457</td>\n",
       "      <td>0.498</td>\n",
       "      <td>-8.387</td>\n",
       "      <td>1</td>\n",
       "      <td>0.0368</td>\n",
       "      <td>0.76600</td>\n",
       "      <td>0.000002</td>\n",
       "      <td>0.2890</td>\n",
       "      <td>...</td>\n",
       "      <td>0</td>\n",
       "      <td>0</td>\n",
       "      <td>0</td>\n",
       "      <td>0</td>\n",
       "      <td>0</td>\n",
       "      <td>0</td>\n",
       "      <td>1</td>\n",
       "      <td>0</td>\n",
       "      <td>0</td>\n",
       "      <td>1</td>\n",
       "    </tr>\n",
       "    <tr>\n",
       "      <th>1497</th>\n",
       "      <td>225506</td>\n",
       "      <td>0</td>\n",
       "      <td>0.241</td>\n",
       "      <td>0.207</td>\n",
       "      <td>-16.353</td>\n",
       "      <td>1</td>\n",
       "      <td>0.0374</td>\n",
       "      <td>0.98200</td>\n",
       "      <td>0.002260</td>\n",
       "      <td>0.1140</td>\n",
       "      <td>...</td>\n",
       "      <td>0</td>\n",
       "      <td>0</td>\n",
       "      <td>0</td>\n",
       "      <td>0</td>\n",
       "      <td>1</td>\n",
       "      <td>0</td>\n",
       "      <td>0</td>\n",
       "      <td>0</td>\n",
       "      <td>0</td>\n",
       "      <td>1</td>\n",
       "    </tr>\n",
       "    <tr>\n",
       "      <th>1498</th>\n",
       "      <td>148600</td>\n",
       "      <td>0</td>\n",
       "      <td>0.280</td>\n",
       "      <td>0.208</td>\n",
       "      <td>-20.158</td>\n",
       "      <td>1</td>\n",
       "      <td>0.0521</td>\n",
       "      <td>0.94100</td>\n",
       "      <td>0.000200</td>\n",
       "      <td>0.4100</td>\n",
       "      <td>...</td>\n",
       "      <td>0</td>\n",
       "      <td>0</td>\n",
       "      <td>0</td>\n",
       "      <td>0</td>\n",
       "      <td>0</td>\n",
       "      <td>0</td>\n",
       "      <td>1</td>\n",
       "      <td>0</td>\n",
       "      <td>0</td>\n",
       "      <td>1</td>\n",
       "    </tr>\n",
       "    <tr>\n",
       "      <th>1499</th>\n",
       "      <td>257800</td>\n",
       "      <td>0</td>\n",
       "      <td>0.244</td>\n",
       "      <td>0.205</td>\n",
       "      <td>-15.596</td>\n",
       "      <td>1</td>\n",
       "      <td>0.0367</td>\n",
       "      <td>0.98400</td>\n",
       "      <td>0.329000</td>\n",
       "      <td>0.0788</td>\n",
       "      <td>...</td>\n",
       "      <td>0</td>\n",
       "      <td>0</td>\n",
       "      <td>0</td>\n",
       "      <td>0</td>\n",
       "      <td>0</td>\n",
       "      <td>0</td>\n",
       "      <td>1</td>\n",
       "      <td>0</td>\n",
       "      <td>0</td>\n",
       "      <td>1</td>\n",
       "    </tr>\n",
       "  </tbody>\n",
       "</table>\n",
       "<p>1500 rows × 30 columns</p>\n",
       "</div>"
      ]
     },
     "execution_count": 682,
     "metadata": {},
     "output_type": "execute_result"
    }
   ],
   "execution_count": 682
  },
  {
   "metadata": {
    "ExecuteTime": {
     "end_time": "2025-04-26T17:10:35.499876Z",
     "start_time": "2025-04-26T17:10:35.311890Z"
    }
   },
   "cell_type": "code",
   "source": [
    "# look at all cols with vals between -1 and 1\n",
    "cat_cols = df.columns[df.columns.str.contains('key_|time_signature_|track_genre_')].tolist()\n",
    "df.drop(columns=[\"duration_ms\", \"tempo\", \"loudness\", \"explicit\", \"popularity_binary\"] + cat_cols).boxplot(\n",
    "    figsize=(20, 5))\n",
    "plt.show()"
   ],
   "id": "dc681682305b9fcf",
   "outputs": [
    {
     "data": {
      "text/plain": [
       "<Figure size 2000x500 with 1 Axes>"
      ],
      "image/png": "[encoded data removed]"
     },
     "metadata": {},
     "output_type": "display_data"
    }
   ],
   "execution_count": 683
  },
  {
   "metadata": {
    "ExecuteTime": {
     "end_time": "2025-04-26T17:10:35.675875Z",
     "start_time": "2025-04-26T17:10:35.566882Z"
    }
   },
   "cell_type": "code",
   "source": [
    "# look at all cols with vals between -1 and 1\n",
    "df[[\"tempo\", \"loudness\"]].boxplot(figsize=(20, 5))\n",
    "plt.show()"
   ],
   "id": "4e0740c2cc5248e4",
   "outputs": [
    {
     "data": {
      "text/plain": [
       "<Figure size 2000x500 with 1 Axes>"
      ],
      "image/png": "[encoded data removed]"
     },
     "metadata": {},
     "output_type": "display_data"
    }
   ],
   "execution_count": 684
  },
  {
   "metadata": {
    "ExecuteTime": {
     "end_time": "2025-04-26T17:10:35.912894Z",
     "start_time": "2025-04-26T17:10:35.799880Z"
    }
   },
   "cell_type": "code",
   "source": [
    "df[[\"duration_ms\"]].boxplot(figsize=(20, 5))\n",
    "plt.show()"
   ],
   "id": "c9b8bca337f0f35d",
   "outputs": [
    {
     "data": {
      "text/plain": [
       "<Figure size 2000x500 with 1 Axes>"
      ],
      "image/png": "[encoded data removed]"
     },
     "metadata": {},
     "output_type": "display_data"
    }
   ],
   "execution_count": 685
  },
  {
   "metadata": {},
   "cell_type": "markdown",
   "source": [
    "outliers\n",
    "- duration\n",
    "- loudness\n",
    "- speechiness\n",
    "- instrumentalness\n",
    "- liveness\n",
    "- tempo"
   ],
   "id": "5385f6bb5c713b7d"
  },
  {
   "metadata": {
    "ExecuteTime": {
     "end_time": "2025-04-26T17:10:37.069908Z",
     "start_time": "2025-04-26T17:10:37.055896Z"
    }
   },
   "cell_type": "code",
   "source": "df.isna().sum()",
   "id": "e0281139e50a9ada",
   "outputs": [
    {
     "data": {
      "text/plain": [
       "duration_ms          0\n",
       "explicit             0\n",
       "danceability         0\n",
       "energy               0\n",
       "loudness             0\n",
       "mode                 0\n",
       "speechiness          0\n",
       "acousticness         0\n",
       "instrumentalness     0\n",
       "liveness             0\n",
       "valence              0\n",
       "tempo                0\n",
       "popularity_binary    0\n",
       "key_1                0\n",
       "key_2                0\n",
       "key_3                0\n",
       "key_4                0\n",
       "key_5                0\n",
       "key_6                0\n",
       "key_7                0\n",
       "key_8                0\n",
       "key_9                0\n",
       "key_10               0\n",
       "key_11               0\n",
       "time_signature_1     0\n",
       "time_signature_3     0\n",
       "time_signature_4     0\n",
       "time_signature_5     0\n",
       "track_genre_dance    0\n",
       "track_genre_opera    0\n",
       "dtype: int64"
      ]
     },
     "execution_count": 686,
     "metadata": {},
     "output_type": "execute_result"
    }
   ],
   "execution_count": 686
  },
  {
   "metadata": {
    "ExecuteTime": {
     "end_time": "2025-04-26T17:10:38.283912Z",
     "start_time": "2025-04-26T17:10:38.269926Z"
    }
   },
   "cell_type": "code",
   "source": "df[\"explicit\"].value_counts()",
   "id": "282689a3fb5be0f3",
   "outputs": [
    {
     "data": {
      "text/plain": [
       "explicit\n",
       "0    1343\n",
       "1     157\n",
       "Name: count, dtype: int64"
      ]
     },
     "execution_count": 687,
     "metadata": {},
     "output_type": "execute_result"
    }
   ],
   "execution_count": 687
  },
  {
   "metadata": {
    "ExecuteTime": {
     "end_time": "2025-04-26T17:10:39.828478Z",
     "start_time": "2025-04-26T17:10:38.379917Z"
    }
   },
   "cell_type": "code",
   "source": [
    "df.drop(columns=cat_cols + [\"popularity_binary\"]).hist(figsize=(20, 20))\n",
    "plt.show()"
   ],
   "id": "336398210c6a20bf",
   "outputs": [
    {
     "data": {
      "text/plain": [
       "<Figure size 2000x2000 with 12 Axes>"
      ],
      "image/png": "[encoded data removed]"
     },
     "metadata": {},
     "output_type": "display_data"
    }
   ],
   "execution_count": 688
  },
  {
   "metadata": {
    "ExecuteTime": {
     "end_time": "2025-04-26T17:10:39.907475Z",
     "start_time": "2025-04-26T17:10:39.895479Z"
    }
   },
   "cell_type": "code",
   "source": "len(df.columns)",
   "id": "74a5fb47a6cdf28e",
   "outputs": [
    {
     "data": {
      "text/plain": [
       "30"
      ]
     },
     "execution_count": 689,
     "metadata": {},
     "output_type": "execute_result"
    }
   ],
   "execution_count": 689
  },
  {
   "metadata": {
    "ExecuteTime": {
     "end_time": "2025-04-26T17:10:39.985479Z",
     "start_time": "2025-04-26T17:10:39.966476Z"
    }
   },
   "cell_type": "code",
   "source": [
    "# # df = df.sample(frac=0.5)\n",
    "#\n",
    "# orig_n = len(df)\n",
    "#\n",
    "# outlier_cols = [\n",
    "#     \"duration_ms\",\n",
    "#     \"loudness\",\n",
    "#     \"speechiness\",\n",
    "#     \"instrumentalness\",\n",
    "#     \"liveness\",\n",
    "#     \"tempo\",\n",
    "# ]\n",
    "#\n",
    "# # (2) Compute cut-offs on THAT sample\n",
    "# lower_q = df[outlier_cols].quantile(0.01)\n",
    "# upper_q = df[outlier_cols].quantile(0.99)\n",
    "#\n",
    "# # (3) Now *sequentially* drop rows that fall outside each column’s [1%,99%] range\n",
    "# for col in outlier_cols:\n",
    "#     lo, hi = lower_q[col], upper_q[col]\n",
    "#     df = df[df[col].between(lo, hi)]\n",
    "#\n",
    "# df = df.reset_index(drop=True)\n",
    "#\n",
    "# dropped = orig_n - len(df)\n",
    "# print(f\"Remaining rows: {len(df)} (dropped {dropped} rows out of {orig_n})\")\n",
    "#\n"
   ],
   "id": "ce3248af584f6aaf",
   "outputs": [],
   "execution_count": 690
  },
  {
   "metadata": {},
   "cell_type": "markdown",
   "source": "tried this to remove extreme outliers but had little if any effect, idk if we wanna keep it in commented out and say that or just leave out completely?",
   "id": "b9eea6f88c6cee0e"
  },
  {
   "metadata": {
    "ExecuteTime": {
     "end_time": "2025-04-26T17:10:42.217327Z",
     "start_time": "2025-04-26T17:10:42.204050Z"
    }
   },
   "cell_type": "code",
   "source": [
    "# from sklearn.preprocessing import PolynomialFeatures\n",
    "#\n",
    "\n",
    "#\n",
    "df['tempo_acousticness'] = df['tempo'] * df['acousticness']\n",
    "df['danceability_energy'] = df['danceability'] * df['energy']\n",
    "# df['loudness_valence'] = df['loudness'] * df['valence']\n",
    "# df['duration_tempo'] = df['duration_ms'] * df['tempo']\n",
    "#\n",
    "# top_feats = ['tempo', 'acousticness', 'danceability', 'energy']\n",
    "# poly = PolynomialFeatures(degree=2, interaction_only=True, include_bias=False)\n",
    "# poly_arr = poly.fit_transform(df[top_feats])\n",
    "# poly_cols = poly.get_feature_names_out(top_feats)\n",
    "#\n",
    "# poly_df = pd.DataFrame(poly_arr, columns=poly_cols, index=df.index)\n",
    "# poly_new = poly_df.drop(columns=top_feats)\n",
    "# df = pd.concat([df, poly_new], axis=1)"
   ],
   "id": "507d735096e47b89",
   "outputs": [],
   "execution_count": 691
  },
  {
   "metadata": {},
   "cell_type": "markdown",
   "source": "tried adding these features, little diff.",
   "id": "97113dd03f039387"
  },
  {
   "metadata": {
    "ExecuteTime": {
     "end_time": "2025-04-26T17:10:42.233354Z",
     "start_time": "2025-04-26T17:10:42.222327Z"
    }
   },
   "cell_type": "code",
   "source": [
    "y = df['popularity_binary']\n",
    "X = df.drop('popularity_binary', axis=1)"
   ],
   "id": "d927ca297bcddf6d",
   "outputs": [],
   "execution_count": 692
  },
  {
   "metadata": {
    "ExecuteTime": {
     "end_time": "2025-04-26T17:10:43.297238Z",
     "start_time": "2025-04-26T17:10:43.284026Z"
    }
   },
   "cell_type": "code",
   "source": [
    "from sklearn.preprocessing import OneHotEncoder\n",
    "\n",
    "# outliers\n",
    "# - duration\n",
    "# - loudness\n",
    "# - speechiness\n",
    "# - instrumentalness\n",
    "# - liveness\n",
    "# - tempo\n",
    "\n",
    "\n",
    "columns_outliers_no_skew = [\"speechiness\", \"instrumentalness\", \"liveness\"]\n",
    "\n",
    "columns_outliers_skewed = ['duration_ms', 'loudness', 'tempo']\n",
    "\n",
    "columns_no_outliers_skewed = [\"duration_ms\",\n",
    "                              \"danceability\",\n",
    "                              \"energy\",\n",
    "                              \"loudness\",\n",
    "                              \"speechiness\",\n",
    "                              \"acousticness\",\n",
    "                              \"instrumentalness\",\n",
    "                              \"liveness\",\n",
    "                              \"valence\",\n",
    "                              \"tempo\",\n",
    "                              \"tempo_acousticness\",\n",
    "                              \"danceability_energy\"\n",
    "                              ]\n",
    "\n",
    "columns_no_outliers_no_skew = [col for col in X.columns if\n",
    "                               col not in columns_outliers_no_skew and col not in columns_no_outliers_skewed and col not in columns_outliers_skewed]\n",
    "\n",
    "outliers_no_skew_pipeline = Pipeline(\n",
    "    steps=[\n",
    "        (\"log_transform\", PowerTransformer(method=\"yeo-johnson\")),\n",
    "        (\"scaler\", RobustScaler())\n",
    "    ]\n",
    ")\n",
    "\n",
    "outliers_skewed_pipeline = Pipeline(steps=[\n",
    "    (\"log_transform\", PowerTransformer(method=\"yeo-johnson\")),\n",
    "    ('scale', RobustScaler())\n",
    "])\n",
    "\n",
    "no_outliers_skewed_pipeline = Pipeline(\n",
    "    steps=[\n",
    "        (\"log_transform\", PowerTransformer(method=\"yeo-johnson\")),\n",
    "        (\"scaler\", MinMaxScaler())\n",
    "    ]\n",
    ")\n",
    "\n",
    "no_outliers_no_skew_pipeline = Pipeline(\n",
    "    steps=[\n",
    "        (\"scaler\", MinMaxScaler())\n",
    "    ]\n",
    ")\n",
    "\n",
    "preprocess_pipeline = ColumnTransformer(\n",
    "    transformers=[\n",
    "        (\"outliers_skewed\", outliers_skewed_pipeline, columns_outliers_skewed),\n",
    "        (\"outliers_not_skewed\", outliers_no_skew_pipeline, columns_outliers_no_skew),\n",
    "        (\"no_outliers_skewed\", no_outliers_skewed_pipeline, columns_no_outliers_skewed),\n",
    "        (\"no_outliers_no_skew\", no_outliers_no_skew_pipeline, columns_no_outliers_no_skew)\n",
    "    ],\n",
    "    remainder=\"passthrough\"\n",
    ")"
   ],
   "id": "3a2b3ac46a7ab16d",
   "outputs": [],
   "execution_count": 693
  },
  {
   "metadata": {},
   "cell_type": "markdown",
   "source": "yeo-johnson instead of log transformation for skewed cols cause it handles negative values, and I think is a lil better (check this)",
   "id": "d477bdf9ec928994"
  },
  {
   "metadata": {
    "ExecuteTime": {
     "end_time": "2025-04-26T17:10:44.379297Z",
     "start_time": "2025-04-26T17:10:44.365210Z"
    }
   },
   "cell_type": "code",
   "source": "X_train, X_test, y_train, y_test = train_test_split(X, y, test_size=0.2, random_state=42, shuffle=True, stratify=y)",
   "id": "c11584e58f05360c",
   "outputs": [],
   "execution_count": 694
  },
  {
   "metadata": {
    "ExecuteTime": {
     "end_time": "2025-04-26T17:10:45.443366Z",
     "start_time": "2025-04-26T17:10:45.429367Z"
    }
   },
   "cell_type": "code",
   "source": "df[\"popularity_binary\"].value_counts()",
   "id": "cb231f5d1487899d",
   "outputs": [
    {
     "data": {
      "text/plain": [
       "popularity_binary\n",
       "0    784\n",
       "1    716\n",
       "Name: count, dtype: int64"
      ]
     },
     "execution_count": 695,
     "metadata": {},
     "output_type": "execute_result"
    }
   ],
   "execution_count": 695
  },
  {
   "metadata": {
    "ExecuteTime": {
     "end_time": "2025-04-26T17:10:46.564710Z",
     "start_time": "2025-04-26T17:10:46.550708Z"
    }
   },
   "cell_type": "code",
   "source": [
    "from sklearn.model_selection import StratifiedKFold\n",
    "\n",
    "cv = StratifiedKFold(n_splits=5, shuffle=True, random_state=42)"
   ],
   "id": "ba86fee2196bed1e",
   "outputs": [],
   "execution_count": 696
  },
  {
   "metadata": {},
   "cell_type": "markdown",
   "source": "## Random Forest",
   "id": "2bf8eda9f7402d54"
  },
  {
   "metadata": {
    "ExecuteTime": {
     "end_time": "2025-04-26T17:10:46.644706Z",
     "start_time": "2025-04-26T17:10:46.634711Z"
    }
   },
   "cell_type": "code",
   "source": [
    "from sklearn.feature_selection import RFE\n",
    "\n",
    "rfe_estimator = RandomForestClassifier(n_jobs=-1, class_weight='balanced', random_state=42)\n",
    "rfe = RFE(estimator=rfe_estimator, step=0.1)"
   ],
   "id": "82520248342f17eb",
   "outputs": [],
   "execution_count": 697
  },
  {
   "metadata": {
    "ExecuteTime": {
     "end_time": "2025-04-26T17:10:47.877258Z",
     "start_time": "2025-04-26T17:10:47.864246Z"
    }
   },
   "cell_type": "code",
   "source": [
    "from sklearn.decomposition import PCA\n",
    "\n",
    "pipe_rf = Pipeline(steps=[('preprocess', preprocess_pipeline),\n",
    "                          ('feature_sel', rfe),\n",
    "                          ('rf', RandomForestClassifier())])"
   ],
   "id": "96f64217b54c7ce0",
   "outputs": [],
   "execution_count": 698
  },
  {
   "metadata": {
    "ExecuteTime": {
     "end_time": "2025-04-26T17:13:27.254133Z",
     "start_time": "2025-04-26T17:10:47.884259Z"
    }
   },
   "cell_type": "code",
   "source": [
    "from sklearn.model_selection import RandomizedSearchCV\n",
    "\n",
    "param_grid = {\n",
    "    'rf__n_estimators': [100, 150, 200],\n",
    "    'rf__max_depth': [8, 10, 15, 20],\n",
    "    'feature_sel__n_features_to_select': [20, 25, 27, 30],\n",
    "    'feature_sel__step': [0.1, 0.2, 0.3],\n",
    "}\n",
    "\n",
    "# search_rf = RandomizedSearchCV(\n",
    "#     pipe_rf,\n",
    "#     param_distributions=param_grid,\n",
    "#     n_iter=30,  # try updating this\n",
    "#     # scoring='roc_auc',\n",
    "#     cv=cv,\n",
    "#     n_jobs=-1,\n",
    "#     random_state=42\n",
    "# )\n",
    "\n",
    "search_rf = GridSearchCV(pipe_rf, param_grid, n_jobs=-1, cv=5, refit=True)\n",
    "search_rf.fit(X_train, y_train)\n",
    "print(\"Best CV score = %0.3f:\" % search_rf.best_score_)\n",
    "print(\"Best parameters: \", search_rf.best_params_)\n",
    "\n",
    "RF_best_params = search_rf.best_params_\n",
    "RF_best_model = search_rf.best_estimator_\n",
    "\n",
    "# .765\n",
    "# 0.777 with rfe"
   ],
   "id": "1624a254516bcbcd",
   "outputs": [
    {
     "name": "stderr",
     "output_type": "stream",
     "text": [
      "C:\\Users\\jason\\AppData\\Local\\Programs\\Python\\Python310\\lib\\site-packages\\numpy\\ma\\core.py:2892: RuntimeWarning: invalid value encountered in cast\n",
      "  _data = np.array(data, dtype=dtype, copy=copy,\n"
     ]
    },
    {
     "name": "stdout",
     "output_type": "stream",
     "text": [
      "Best CV score = 0.780:\n",
      "Best parameters:  {'feature_sel__n_features_to_select': 20, 'feature_sel__step': 0.2, 'rf__max_depth': 15, 'rf__n_estimators': 200}\n"
     ]
    }
   ],
   "execution_count": 699
  },
  {
   "metadata": {},
   "cell_type": "markdown",
   "source": "## SVM",
   "id": "2e04e3b8dc7185ed"
  },
  {
   "metadata": {
    "ExecuteTime": {
     "end_time": "2025-04-26T17:13:29.361684Z",
     "start_time": "2025-04-26T17:13:29.348684Z"
    }
   },
   "cell_type": "code",
   "source": [
    "# create the pipeline\n",
    "pipe = Pipeline(steps=[('preprocess', preprocess_pipeline), ('svm', svm.SVC(probability=True))])"
   ],
   "id": "e0f5d8efa4d433c3",
   "outputs": [],
   "execution_count": 700
  },
  {
   "metadata": {
    "ExecuteTime": {
     "end_time": "2025-04-26T17:13:29.377684Z",
     "start_time": "2025-04-26T17:13:29.367686Z"
    }
   },
   "cell_type": "code",
   "source": [
    "# # prepare a parameter grid\n",
    "# param_grid = {\n",
    "#     'svm__C': [0.1, 1, 10, 100],\n",
    "#     'svm__gamma': [1, 0.1, 0.01, 0.001],\n",
    "#     'svm__kernel': ['rbf', 'linear', 'poly']}\n",
    "#\n",
    "# search = GridSearchCV(pipe, param_grid, n_jobs=-1, cv=5, refit=True)\n",
    "# search.fit(X_train, y_train)\n",
    "#\n",
    "# print(\"Best CV score = %0.3f:\" % search.best_score_)\n",
    "# print(\"Best parameters: \", search.best_params_)\n",
    "#\n",
    "# # store the best params and best model for later use\n",
    "# SVM_best_params = search.best_params_\n",
    "# SVM_best_model = search.best_estimator_\n",
    "\n",
    "# Best CV score = 0.723:\n",
    "# Best parameters:  {'svm__C': 1, 'svm__gamma': 0.1, 'svm__kernel': 'rbf'}"
   ],
   "id": "8c4e9ebd75066e04",
   "outputs": [],
   "execution_count": 701
  },
  {
   "metadata": {},
   "cell_type": "markdown",
   "source": "## KNN",
   "id": "8d73a013bdf92ab3"
  },
  {
   "metadata": {
    "ExecuteTime": {
     "end_time": "2025-04-26T17:13:30.436727Z",
     "start_time": "2025-04-26T17:13:30.422719Z"
    }
   },
   "cell_type": "code",
   "source": [
    "# create the pipeline\n",
    "pipe_knn = Pipeline(steps=[('preprocess', preprocess_pipeline),\n",
    "                           ('feature_sel', rfe),\n",
    "                           ('knn', KNeighborsClassifier())])"
   ],
   "id": "ee29518c5efd116b",
   "outputs": [],
   "execution_count": 702
  },
  {
   "metadata": {
    "ExecuteTime": {
     "end_time": "2025-04-26T17:14:29.593165Z",
     "start_time": "2025-04-26T17:13:31.505747Z"
    }
   },
   "cell_type": "code",
   "source": [
    "# prepare a parameter grid\n",
    "param_grid = {\n",
    "    'knn__n_neighbors': [4, 5, 10],\n",
    "    'knn__weights': [\"uniform\", \"distance\"],\n",
    "    'feature_sel__n_features_to_select': [20, 25, 27, 30],\n",
    "    'feature_sel__step': [0.1, 0.2, 0.3],\n",
    "}\n",
    "\n",
    "search = GridSearchCV(pipe_knn, param_grid, n_jobs=-1, cv=5, refit=True)\n",
    "\n",
    "search.fit(X_train, y_train)\n",
    "print(\"Best CV score = %0.3f:\" % search.best_score_)\n",
    "print(\"Best parameters: \", search.best_params_)\n",
    "\n",
    "KNN_best_params = search.best_params_\n",
    "KNN_best_model = search.best_estimator_"
   ],
   "id": "66b644db00acceee",
   "outputs": [
    {
     "name": "stdout",
     "output_type": "stream",
     "text": [
      "Best CV score = 0.712:\n",
      "Best parameters:  {'feature_sel__n_features_to_select': 30, 'feature_sel__step': 0.1, 'knn__n_neighbors': 10, 'knn__weights': 'distance'}\n"
     ]
    }
   ],
   "execution_count": 703
  },
  {
   "metadata": {},
   "cell_type": "markdown",
   "source": "## XGB",
   "id": "2f1387256fb68d96"
  },
  {
   "metadata": {
    "ExecuteTime": {
     "end_time": "2025-04-26T17:14:30.673892Z",
     "start_time": "2025-04-26T17:14:30.659781Z"
    }
   },
   "cell_type": "code",
   "source": [
    "from xgboost import XGBClassifier\n",
    "\n",
    "pipe_xgb = Pipeline([\n",
    "    ('preprocess', preprocess_pipeline),\n",
    "    ('feature_sel', rfe),\n",
    "    ('xgb', XGBClassifier(\n",
    "        n_jobs=-1,\n",
    "        eval_metric='logloss',\n",
    "        random_state=42\n",
    "    )),\n",
    "])"
   ],
   "id": "c463f0d40a52a535",
   "outputs": [],
   "execution_count": 704
  },
  {
   "metadata": {
    "ExecuteTime": {
     "end_time": "2025-04-26T17:16:16.998051Z",
     "start_time": "2025-04-26T17:14:31.736263Z"
    }
   },
   "cell_type": "code",
   "source": [
    "from sklearn.model_selection import RandomizedSearchCV\n",
    "\n",
    "param_dist_xgb = {\n",
    "    'xgb__n_estimators': [500, 600, 700],\n",
    "    'xgb__max_depth': [7, 8, 9, 10],\n",
    "    'xgb__learning_rate': [0.001, 0.005, 0.01, 0.05],\n",
    "    'xgb__subsample': [0.5, 0.6, 0.8, 1.0],\n",
    "    'xgb__colsample_bytree': [0.8, 1.0],\n",
    "    'feature_sel__n_features_to_select': [18, 20, 25, 27, 30],\n",
    "    'feature_sel__step': [0.1, 0.2, 0.3],\n",
    "}\n",
    "\n",
    "search_xgb = RandomizedSearchCV(\n",
    "    pipe_xgb,\n",
    "    param_distributions=param_dist_xgb,\n",
    "    n_iter=30,\n",
    "    # scoring='roc_auc',\n",
    "    cv=cv,\n",
    "    n_jobs=-1,\n",
    "    random_state=42\n",
    ")\n",
    "search_xgb.fit(X_train, y_train)\n",
    "\n",
    "print(\"Best XGB CV:\", search_xgb.best_score_)\n",
    "print(\"Best XGB Params:\", search_xgb.best_params_)\n",
    "\n",
    "XGB_best_model = search_xgb.best_estimator_\n",
    "\n",
    "# .765 with no feature selection stuff\n",
    "# .766\n",
    "# .769 with rfe"
   ],
   "id": "98e5797aa0a7c602",
   "outputs": [
    {
     "name": "stdout",
     "output_type": "stream",
     "text": [
      "Best XGB CV: 0.7649999999999999\n",
      "Best XGB Params: {'xgb__subsample': 0.6, 'xgb__n_estimators': 500, 'xgb__max_depth': 9, 'xgb__learning_rate': 0.01, 'xgb__colsample_bytree': 1.0, 'feature_sel__step': 0.3, 'feature_sel__n_features_to_select': 25}\n"
     ]
    }
   ],
   "execution_count": 705
  },
  {
   "metadata": {},
   "cell_type": "markdown",
   "source": "## MLP",
   "id": "8512df72d2d4a694"
  },
  {
   "metadata": {
    "ExecuteTime": {
     "end_time": "2025-04-26T17:16:19.152115Z",
     "start_time": "2025-04-26T17:16:19.138064Z"
    }
   },
   "cell_type": "code",
   "source": [
    "from sklearn.neural_network import MLPClassifier\n",
    "\n",
    "pipe_mlp = Pipeline([\n",
    "    ('preprocess', preprocess_pipeline),\n",
    "    ('pca', PCA()),\n",
    "    ('clf', MLPClassifier(\n",
    "        random_state=42,\n",
    "        max_iter=200,\n",
    "        early_stopping=True,\n",
    "    )),\n",
    "])"
   ],
   "id": "796e308ffc422312",
   "outputs": [],
   "execution_count": 706
  },
  {
   "metadata": {
    "ExecuteTime": {
     "end_time": "2025-04-26T17:16:22.721244Z",
     "start_time": "2025-04-26T17:16:19.159118Z"
    }
   },
   "cell_type": "code",
   "source": [
    "param_dist = {\n",
    "    'clf__hidden_layer_sizes': [(100, 50), (100, 100), (150, 100), (150, 150)],\n",
    "    'clf__alpha': [1e-4, 1e-3, 1e-2, 1e-1],\n",
    "    'clf__learning_rate_init': [1e-4, 1e-3, 1e-2, 1e-1],\n",
    "    'clf__activation': ['relu', 'tanh', 'logistic'],\n",
    "    'clf__learning_rate': ['constant', 'adaptive'],\n",
    "    'pca__n_components': [5, 10, 15, 20],\n",
    "    'pca__whiten': [False, True],\n",
    "}\n",
    "\n",
    "search_mlp = RandomizedSearchCV(\n",
    "    pipe_mlp,\n",
    "    param_distributions=param_dist,\n",
    "    # n_iter=20,\n",
    "    # scoring='roc_auc',\n",
    "    cv=cv,\n",
    "    n_jobs=-1,\n",
    "    random_state=42,\n",
    "    verbose=2,\n",
    ")\n",
    "search_mlp.fit(X_train, y_train)\n",
    "\n",
    "MLP_best_model = search_mlp.best_estimator_\n",
    "\n",
    "print(\"Best MLP CV:\", search_mlp.best_score_)\n",
    "print(\"Best MLP params:\", search_mlp.best_params_)"
   ],
   "id": "5836a7a33a6bb619",
   "outputs": [
    {
     "name": "stdout",
     "output_type": "stream",
     "text": [
      "Fitting 5 folds for each of 10 candidates, totalling 50 fits\n",
      "Best MLP CV: 0.7074999999999999\n",
      "Best MLP params: {'pca__whiten': False, 'pca__n_components': 10, 'clf__learning_rate_init': 0.01, 'clf__learning_rate': 'constant', 'clf__hidden_layer_sizes': (150, 150), 'clf__alpha': 0.001, 'clf__activation': 'relu'}\n"
     ]
    }
   ],
   "execution_count": 707
  },
  {
   "metadata": {},
   "cell_type": "markdown",
   "source": "## Logistic Regression",
   "id": "a1838ef6c0fcf557"
  },
  {
   "metadata": {
    "ExecuteTime": {
     "end_time": "2025-04-26T17:16:23.783298Z",
     "start_time": "2025-04-26T17:16:23.769300Z"
    }
   },
   "cell_type": "code",
   "source": [
    "from sklearn.linear_model import LogisticRegression\n",
    "\n",
    "pipe_lr = Pipeline([\n",
    "    ('preprocess', preprocess_pipeline),\n",
    "    ('pca', PCA()),\n",
    "    ('clf', LogisticRegression(\n",
    "        max_iter=1000, solver='saga', random_state=42\n",
    "    )),\n",
    "])"
   ],
   "id": "1a0c6d598b18ab35",
   "outputs": [],
   "execution_count": 708
  },
  {
   "metadata": {
    "ExecuteTime": {
     "end_time": "2025-04-26T17:16:26.478829Z",
     "start_time": "2025-04-26T17:16:25.912398Z"
    }
   },
   "cell_type": "code",
   "source": [
    "param_dist = {\n",
    "    'clf__C': np.logspace(-3, 3, 7),\n",
    "    'clf__penalty': ['l1', 'l2'],\n",
    "    'pca__n_components': [5, 10, 15, 20],\n",
    "    'pca__whiten': [False, True],\n",
    "}\n",
    "\n",
    "search_lr = RandomizedSearchCV(\n",
    "    pipe_lr,\n",
    "    param_distributions=param_dist,\n",
    "    cv=cv,\n",
    "    n_jobs=-1,\n",
    "    random_state=42,\n",
    "    verbose=2,\n",
    ")\n",
    "search_lr.fit(X_train, y_train)\n",
    "\n",
    "LR_best_model = search_lr.best_estimator_\n",
    "\n",
    "print(\"Best LR CV:\", search_lr.best_score_)\n",
    "print(\"Best LR params:\", search_lr.best_params_)"
   ],
   "id": "15013b47d7a1a21a",
   "outputs": [
    {
     "name": "stdout",
     "output_type": "stream",
     "text": [
      "Fitting 5 folds for each of 10 candidates, totalling 50 fits\n",
      "Best LR CV: 0.7016666666666667\n",
      "Best LR params: {'pca__whiten': True, 'pca__n_components': 20, 'clf__penalty': 'l2', 'clf__C': np.float64(0.1)}\n"
     ]
    }
   ],
   "execution_count": 709
  },
  {
   "metadata": {},
   "cell_type": "markdown",
   "source": "## CatBoost",
   "id": "6f6c06bc6b4c8831"
  },
  {
   "metadata": {
    "ExecuteTime": {
     "end_time": "2025-04-26T17:16:26.494829Z",
     "start_time": "2025-04-26T17:16:26.483831Z"
    }
   },
   "cell_type": "code",
   "source": [
    "from catboost import CatBoostClassifier, Pool\n",
    "\n",
    "pipe_cb = Pipeline([\n",
    "    ('preprocess', preprocess_pipeline),\n",
    "    ('pca', PCA()),\n",
    "    ('clf', CatBoostClassifier(\n",
    "        random_seed=42,\n",
    "        early_stopping_rounds=50,\n",
    "        depth=4,\n",
    "        l2_leaf_reg=10,\n",
    "        verbose=False,\n",
    "    )),\n",
    "])"
   ],
   "id": "df75300a09726a47",
   "outputs": [],
   "execution_count": 710
  },
  {
   "metadata": {
    "ExecuteTime": {
     "end_time": "2025-04-26T17:17:40.251588Z",
     "start_time": "2025-04-26T17:16:27.552221Z"
    }
   },
   "cell_type": "code",
   "source": [
    "param_dist = {\n",
    "    'clf__iterations': [200, 500, 800],\n",
    "    'clf__depth': [4, 6, 8],\n",
    "    'clf__learning_rate': [0.01, 0.03, 0.1],\n",
    "    'clf__subsample': [0.6, 0.8, 1.0],\n",
    "    'clf__rsm': [0.6, 0.8, 1.0],\n",
    "    'clf__l2_leaf_reg': [1, 3, 5, 7, 9],\n",
    "    'clf__bagging_temperature': [0.0, 0.2, 0.5, 1.0],\n",
    "    'clf__random_strength': [0, 1, 2, 3],\n",
    "\n",
    "    'pca__n_components': [5, 10, 15, 20],\n",
    "    'pca__whiten': [False, True],\n",
    "}\n",
    "\n",
    "search_cb = RandomizedSearchCV(\n",
    "    pipe_cb,\n",
    "    param_distributions=param_dist,\n",
    "    # n_iter=20,\n",
    "    # scoring='roc_auc',\n",
    "    cv=cv,\n",
    "    n_jobs=-1,\n",
    "    random_state=42,\n",
    "    verbose=2,\n",
    ")\n",
    "search_cb.fit(X_train, y_train)\n",
    "\n",
    "CB_best_model = search_cb.best_estimator_\n",
    "\n",
    "print(\"Best CB CV:\", search_cb.best_score_)\n",
    "print(\"Best CB params:\", search_cb.best_params_)"
   ],
   "id": "85634edf55fffb2a",
   "outputs": [
    {
     "name": "stdout",
     "output_type": "stream",
     "text": [
      "Fitting 5 folds for each of 10 candidates, totalling 50 fits\n",
      "Best CB CV: 0.7291666666666667\n",
      "Best CB params: {'pca__whiten': True, 'pca__n_components': 20, 'clf__subsample': 1.0, 'clf__rsm': 0.8, 'clf__random_strength': 1, 'clf__learning_rate': 0.03, 'clf__l2_leaf_reg': 1, 'clf__iterations': 800, 'clf__depth': 8, 'clf__bagging_temperature': 0.5}\n"
     ]
    }
   ],
   "execution_count": 711
  },
  {
   "metadata": {},
   "cell_type": "markdown",
   "source": "# Evaluation",
   "id": "ad79233fe48a8c"
  },
  {
   "metadata": {
    "ExecuteTime": {
     "end_time": "2025-04-26T17:17:42.436119Z",
     "start_time": "2025-04-26T17:17:42.423001Z"
    }
   },
   "cell_type": "code",
   "source": "mean_fpr = np.linspace(start=0, stop=1, num=100)",
   "id": "4aa17a845842614c",
   "outputs": [],
   "execution_count": 712
  },
  {
   "metadata": {
    "ExecuteTime": {
     "end_time": "2025-04-26T17:17:42.452120Z",
     "start_time": "2025-04-26T17:17:42.440120Z"
    }
   },
   "cell_type": "code",
   "source": [
    "from sklearn.metrics import accuracy_score, precision_recall_fscore_support, roc_curve, auc\n",
    "\n",
    "\n",
    "# taken from labs\n",
    "\n",
    "# model - a trained binary probabilistic classification model;\n",
    "#         it is assumed that there are two classes: 0 and 1\n",
    "#         and the classifier learns to predict probabilities for the examples to belong to class 1\n",
    "\n",
    "\n",
    "def evaluate_model(X_test, y_test, model):\n",
    "    # compute probabilistic predictiond for the evaluation set\n",
    "    _probabilities = model.predict_proba(X_test)[:, 1]\n",
    "\n",
    "    # compute exact predictiond for the evaluation set\n",
    "    _predicted_values = model.predict(X_test)\n",
    "\n",
    "    # compute accuracy\n",
    "    _accuracy = accuracy_score(y_test, _predicted_values)\n",
    "\n",
    "    # compute precision, recall and f1 score for class 1\n",
    "    _precision, _recall, _f1_score, _ = precision_recall_fscore_support(y_test, _predicted_values, labels=[1])\n",
    "\n",
    "    # compute fpr and tpr values for various thresholds\n",
    "    # by comparing the true target values to the predicted probabilities for class 1\n",
    "    _fpr, _tpr, _ = roc_curve(y_test, _probabilities)\n",
    "\n",
    "    # compute true positive rates for the values in the array mean_fpr\n",
    "    _tpr_transformed = np.array([np.interp(mean_fpr, _fpr, _tpr)])\n",
    "\n",
    "    # compute the area under the curve\n",
    "    _auc = auc(_fpr, _tpr)\n",
    "\n",
    "    return _accuracy, _precision[0], _recall[0], _f1_score[0], _tpr_transformed, _auc"
   ],
   "id": "74189a7f7e6c7d5a",
   "outputs": [],
   "execution_count": 713
  },
  {
   "metadata": {
    "ExecuteTime": {
     "end_time": "2025-04-26T17:17:43.750076Z",
     "start_time": "2025-04-26T17:17:43.505096Z"
    }
   },
   "cell_type": "code",
   "source": [
    "# SVM_accuracy, SVM_precision, SVM_recall, SVM_f1_score, SVM_tpr, SVM_auc = evaluate_model(X_test, y_test, SVM_best_model)\n",
    "RF_accuracy, RF_precision, RF_recall, RF_f1_score, RF_tpr, RF_auc = evaluate_model(X_test, y_test, RF_best_model)\n",
    "KNN_accuracy, KNN_precision, KNN_recall, KNN_f1_score, KNN_tpr, KNN_auc = evaluate_model(X_test, y_test, KNN_best_model)\n",
    "XGB_accuracy, XGB_precision, XGB_recall, XGB_f1_score, XGB_tpr, XGB_auc = evaluate_model(X_test, y_test, XGB_best_model)\n",
    "CB_accuracy, CB_precision, CB_recall, CB_f1_score, CB_tpr, CB_auc = evaluate_model(X_test, y_test, CB_best_model)\n",
    "MLP_accuracy, MLP_precision, MLP_recall, MLP_f1_score, MLP_tpr, MLP_auc = evaluate_model(X_test, y_test, MLP_best_model)\n",
    "LR_accuracy, LR_precision, LR_recall, LR_f1_score, LR_tpr, LR_auc = evaluate_model(X_test, y_test, LR_best_model)"
   ],
   "id": "ce52d03a011b1e4b",
   "outputs": [],
   "execution_count": 714
  },
  {
   "metadata": {
    "ExecuteTime": {
     "end_time": "2025-04-26T17:17:44.997998Z",
     "start_time": "2025-04-26T17:17:44.815Z"
    }
   },
   "cell_type": "code",
   "source": [
    "XGB_metrics = np.array([XGB_accuracy, XGB_precision, XGB_recall, XGB_f1_score])\n",
    "RF_metrics = np.array([RF_accuracy, RF_precision, RF_recall, RF_f1_score])\n",
    "KNN_metrics = np.array([KNN_accuracy, KNN_precision, KNN_recall, KNN_f1_score])\n",
    "CB_metrics = np.array([CB_accuracy, CB_precision, CB_recall, CB_f1_score])\n",
    "MLP_metrics = np.array([MLP_accuracy, MLP_precision, MLP_recall, MLP_f1_score])\n",
    "LR_metrics = np.array([LR_accuracy, LR_precision, LR_recall, LR_f1_score])\n",
    "index = ['accuracy', 'precision', 'recall', 'F1-score']\n",
    "df_metrics = pd.DataFrame(\n",
    "    {'Random Forest': RF_metrics, 'KNN': KNN_metrics, \"XGB\": XGB_metrics, \"CB\": CB_metrics, \"MLP\": MLP_metrics, \"LR\": LR_metrics},\n",
    "    index=index)\n",
    "df_metrics.plot.bar(rot=0)\n",
    "plt.legend(loc=\"lower right\")\n",
    "plt.show()"
   ],
   "id": "e362db97a8908c07",
   "outputs": [
    {
     "data": {
      "text/plain": [
       "<Figure size 640x480 with 1 Axes>"
      ],
      "image/png": "[encoded data removed]"
     },
     "metadata": {},
     "output_type": "display_data"
    }
   ],
   "execution_count": 715
  },
  {
   "metadata": {},
   "cell_type": "markdown",
   "source": [
    "Overall, CB is best.\n",
    "\n",
    "KNN good accuracy, precision, recall drops off.\n",
    "RF good accuracy precision and recall. Good across all.\n",
    "\n",
    "looking at the 2 gradient boosting algorithms: XGB good overall, CB better.\n",
    "\n",
    "MLP good accuracy and precision but worse recall and hence F1-score drops\n",
    "\n",
    "LR good accuracy and precision, poor recall, hence poorer F1-score"
   ],
   "id": "4d74e308980a09d9"
  },
  {
   "metadata": {
    "ExecuteTime": {
     "end_time": "2025-04-26T17:20:04.814425Z",
     "start_time": "2025-04-26T17:20:04.795322Z"
    }
   },
   "cell_type": "code",
   "source": [
    "print(f\"Accuracy {CB_accuracy}\")\n",
    "print(f\"Precision {CB_precision}\")\n",
    "print(f\"Recall {CB_recall}\")\n",
    "print(f\"F1-score {CB_f1_score}\")"
   ],
   "id": "7488930f34bf52b3",
   "outputs": [
    {
     "name": "stdout",
     "output_type": "stream",
     "text": [
      "Accuracy 0.7333333333333333\n",
      "Precision 0.7142857142857143\n",
      "Recall 0.7342657342657343\n",
      "F1-score 0.7241379310344828\n"
     ]
    }
   ],
   "execution_count": 720
  },
  {
   "metadata": {
    "ExecuteTime": {
     "end_time": "2025-04-26T17:17:47.412709Z",
     "start_time": "2025-04-26T17:17:47.398710Z"
    }
   },
   "cell_type": "code",
   "source": [
    "print(f\"Accuracy {KNN_accuracy}\")\n",
    "print(f\"Precision {KNN_precision}\")\n",
    "print(f\"Recall {KNN_recall}\")\n",
    "print(f\"F1-score {KNN_f1_score}\")"
   ],
   "id": "ac32cfe796cdd3b0",
   "outputs": [
    {
     "name": "stdout",
     "output_type": "stream",
     "text": [
      "Accuracy 0.7233333333333334\n",
      "Precision 0.7380952380952381\n",
      "Recall 0.6503496503496503\n",
      "F1-score 0.6914498141263941\n"
     ]
    }
   ],
   "execution_count": 717
  },
  {
   "metadata": {
    "ExecuteTime": {
     "end_time": "2025-04-26T17:23:01.175888Z",
     "start_time": "2025-04-26T17:22:50.271898Z"
    }
   },
   "cell_type": "code",
   "source": [
    "from sklearn.metrics import roc_auc_score, precision_score, recall_score, f1_score, classification_report\n",
    "from sklearn.ensemble import VotingClassifier\n",
    "\n",
    "# combine models together to get slightly better results than any 1 of them in isolation\n",
    "voting = VotingClassifier(\n",
    "    estimators=[('rf', RF_best_model), ('cb', CB_best_model)],\n",
    "    voting='soft',\n",
    ")\n",
    "\n",
    "voting.fit(X_train, y_train)\n",
    "y_pred_v = voting.predict(X_test)\n",
    "y_prob_v = voting.predict_proba(X_test)[:, 1]\n",
    "\n",
    "# compute metrics\n",
    "acc = accuracy_score(y_test, y_pred_v)\n",
    "prec = precision_score(y_test, y_pred_v)\n",
    "rec = recall_score(y_test, y_pred_v)\n",
    "f1 = f1_score(y_test, y_pred_v)\n",
    "auc = roc_auc_score(y_test, y_prob_v)\n",
    "\n",
    "print(f\"Ensemble accuracy: {acc:.3f}\")\n",
    "print(f\"Ensemble precision: {prec:.3f}\")\n",
    "print(f\"Ensemble recall: {rec:.3f}\")\n",
    "print(f\"Ensemble F1-score: {f1:.3f}\")\n",
    "print(f\"Ensemble AUC-ROC: {auc:.3f}\")\n",
    "\n",
    "print(\"\\nClassification Report:\")\n",
    "print(classification_report(y_test, y_pred_v))\n",
    "\n",
    "fpr, tpr, _ = roc_curve(y_test, y_prob_v)\n",
    "plt.figure()\n",
    "plt.plot(fpr, tpr, label=f'Voting (AUC = {auc:.3f})')\n",
    "plt.plot([0, 1], [0, 1], linestyle='--', color='gray')\n",
    "plt.xlabel('False Positive Rate')\n",
    "plt.ylabel('True Positive Rate')\n",
    "plt.title('ROC Curve')\n",
    "plt.legend(loc='lower right')\n",
    "plt.show()"
   ],
   "id": "74a416984ea4e8f9",
   "outputs": [
    {
     "name": "stdout",
     "output_type": "stream",
     "text": [
      "Ensemble accuracy: 0.740\n",
      "Ensemble precision: 0.730\n",
      "Ensemble recall: 0.720\n",
      "Ensemble F1-score: 0.725\n",
      "Ensemble AUC-ROC: 0.815\n",
      "\n",
      "Classification Report:\n",
      "              precision    recall  f1-score   support\n",
      "\n",
      "           0       0.75      0.76      0.75       157\n",
      "           1       0.73      0.72      0.73       143\n",
      "\n",
      "    accuracy                           0.74       300\n",
      "   macro avg       0.74      0.74      0.74       300\n",
      "weighted avg       0.74      0.74      0.74       300\n",
      "\n"
     ]
    },
    {
     "data": {
      "text/plain": [
       "<Figure size 640x480 with 1 Axes>"
      ],
      "image/png": "[encoded data removed]"
     },
     "metadata": {},
     "output_type": "display_data"
    }
   ],
   "execution_count": 722
  },
  {
   "metadata": {},
   "cell_type": "markdown",
   "source": ".8 area is pretty good considering",
   "id": "831dd0bbbaf287d9"
  },
  {
   "metadata": {
    "ExecuteTime": {
     "end_time": "2025-04-26T17:17:53.678954Z",
     "start_time": "2025-04-26T17:17:53.475958Z"
    }
   },
   "cell_type": "code",
   "source": [
    "import numpy as np\n",
    "import pandas as pd\n",
    "from sklearn.feature_selection import mutual_info_classif\n",
    "\n",
    "mi = mutual_info_classif(X_train, y_train, discrete_features='auto')\n",
    "mi_series = pd.Series(mi, index=X_train.columns).sort_values(ascending=False)\n",
    "print(mi_series.head(10))\n",
    "\n",
    "# this shows the amount of information per column (in bits????)\n",
    "# needa check exactly what this mean"
   ],
   "id": "c4e2b4e1436e880",
   "outputs": [
    {
     "name": "stdout",
     "output_type": "stream",
     "text": [
      "danceability_energy    0.118736\n",
      "acousticness           0.117602\n",
      "loudness               0.116161\n",
      "tempo                  0.108634\n",
      "energy                 0.099544\n",
      "tempo_acousticness     0.094334\n",
      "valence                0.076604\n",
      "duration_ms            0.076256\n",
      "danceability           0.073445\n",
      "instrumentalness       0.052762\n",
      "dtype: float64\n"
     ]
    }
   ],
   "execution_count": 719
  }
 ],
 "metadata": {
  "kernelspec": {
   "display_name": "Python 3",
   "language": "python",
   "name": "python3"
  },
  "language_info": {
   "codemirror_mode": {
    "name": "ipython",
    "version": 2
   },
   "file_extension": ".py",
   "mimetype": "text/x-python",
   "name": "python",
   "nbconvert_exporter": "python",
   "pygments_lexer": "ipython2",
   "version": "2.7.6"
  }
 },
 "nbformat": 4,
 "nbformat_minor": 5
}
