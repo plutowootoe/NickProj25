{
 "cells": [
  {
   "cell_type": "markdown",
   "metadata": {
    "id": "B9xEH2HhSyIs"
   },
   "source": [
    "### Clustering\n",
    "\n",
    "---\n"
   ]
  },
  {
   "cell_type": "markdown",
   "metadata": {
    "id": "bmyxzpfESyIv"
   },
   "source": [
    "### A. Import Python Modules and Dataset"
   ]
  },
  {
   "metadata": {
    "ExecuteTime": {
     "end_time": "2025-04-27T19:54:17.982808Z",
     "start_time": "2025-04-27T19:54:14.040607Z"
    }
   },
   "cell_type": "code",
   "source": [
    "import pandas as pd\n",
    "import numpy as np\n",
    "import matplotlib.pyplot as plt\n",
    "\n",
    "from sklearn import manifold  #needed for and t-SNE\n",
    "from sklearn.manifold import TSNE, MDS\n",
    "from sklearn.cluster import DBSCAN\n",
    "from sklearn.metrics import silhouette_samples, silhouette_score\n",
    "from sklearn.preprocessing import StandardScaler\n",
    "from sklearn import cluster  #needed for k-Means clustering\n",
    "from sklearn import metrics  #needed for Silhouette method\n",
    "from sklearn import preprocessing  #needed for scaling attributes to the nterval [0,1]"
   ],
   "outputs": [],
   "execution_count": 1
  },
  {
   "cell_type": "markdown",
   "metadata": {
    "id": "j7jOXo54SyIx"
   },
   "source": [
    "#### Load the dataset"
   ]
  },
  {
   "cell_type": "code",
   "metadata": {
    "colab": {
     "base_uri": "https://localhost:8080/",
     "height": 226
    },
    "id": "9iP_TLFLSyIx",
    "outputId": "b74bf9ce-fc25-4587-d1cd-b4dd59a74f84",
    "ExecuteTime": {
     "end_time": "2025-04-27T19:54:18.030810Z",
     "start_time": "2025-04-27T19:54:17.990812Z"
    }
   },
   "source": [
    "df = pd.read_csv(\"./tracks.csv\")\n",
    "df.tail()"
   ],
   "outputs": [
    {
     "data": {
      "text/plain": [
       "      popularity  duration_ms  explicit  danceability  energy  key  loudness  \\\n",
       "1495          23       352371     False         0.273   0.122    0   -22.173   \n",
       "1496          22       204310     False         0.457   0.498    6    -8.387   \n",
       "1497          23       225506     False         0.241   0.207    1   -16.353   \n",
       "1498          23       148600     False         0.280   0.208    5   -20.158   \n",
       "1499          23       257800     False         0.244   0.205    3   -15.596   \n",
       "\n",
       "      mode  speechiness  acousticness  instrumentalness  liveness  valence  \\\n",
       "1495     0       0.0575         0.960          0.003330    0.0635   0.0731   \n",
       "1496     1       0.0368         0.766          0.000002    0.2890   0.2020   \n",
       "1497     1       0.0374         0.982          0.002260    0.1140   0.0735   \n",
       "1498     1       0.0521         0.941          0.000200    0.4100   0.2410   \n",
       "1499     1       0.0367         0.984          0.329000    0.0788   0.0750   \n",
       "\n",
       "        tempo  time_signature track_genre  \n",
       "1495  117.718               4       opera  \n",
       "1496  116.255               4       opera  \n",
       "1497   86.885               1       opera  \n",
       "1498   90.477               4       opera  \n",
       "1499   71.370               4       opera  "
      ],
      "text/html": [
       "<div>\n",
       "<style scoped>\n",
       "    .dataframe tbody tr th:only-of-type {\n",
       "        vertical-align: middle;\n",
       "    }\n",
       "\n",
       "    .dataframe tbody tr th {\n",
       "        vertical-align: top;\n",
       "    }\n",
       "\n",
       "    .dataframe thead th {\n",
       "        text-align: right;\n",
       "    }\n",
       "</style>\n",
       "<table border=\"1\" class=\"dataframe\">\n",
       "  <thead>\n",
       "    <tr style=\"text-align: right;\">\n",
       "      <th></th>\n",
       "      <th>popularity</th>\n",
       "      <th>duration_ms</th>\n",
       "      <th>explicit</th>\n",
       "      <th>danceability</th>\n",
       "      <th>energy</th>\n",
       "      <th>key</th>\n",
       "      <th>loudness</th>\n",
       "      <th>mode</th>\n",
       "      <th>speechiness</th>\n",
       "      <th>acousticness</th>\n",
       "      <th>instrumentalness</th>\n",
       "      <th>liveness</th>\n",
       "      <th>valence</th>\n",
       "      <th>tempo</th>\n",
       "      <th>time_signature</th>\n",
       "      <th>track_genre</th>\n",
       "    </tr>\n",
       "  </thead>\n",
       "  <tbody>\n",
       "    <tr>\n",
       "      <th>1495</th>\n",
       "      <td>23</td>\n",
       "      <td>352371</td>\n",
       "      <td>False</td>\n",
       "      <td>0.273</td>\n",
       "      <td>0.122</td>\n",
       "      <td>0</td>\n",
       "      <td>-22.173</td>\n",
       "      <td>0</td>\n",
       "      <td>0.0575</td>\n",
       "      <td>0.960</td>\n",
       "      <td>0.003330</td>\n",
       "      <td>0.0635</td>\n",
       "      <td>0.0731</td>\n",
       "      <td>117.718</td>\n",
       "      <td>4</td>\n",
       "      <td>opera</td>\n",
       "    </tr>\n",
       "    <tr>\n",
       "      <th>1496</th>\n",
       "      <td>22</td>\n",
       "      <td>204310</td>\n",
       "      <td>False</td>\n",
       "      <td>0.457</td>\n",
       "      <td>0.498</td>\n",
       "      <td>6</td>\n",
       "      <td>-8.387</td>\n",
       "      <td>1</td>\n",
       "      <td>0.0368</td>\n",
       "      <td>0.766</td>\n",
       "      <td>0.000002</td>\n",
       "      <td>0.2890</td>\n",
       "      <td>0.2020</td>\n",
       "      <td>116.255</td>\n",
       "      <td>4</td>\n",
       "      <td>opera</td>\n",
       "    </tr>\n",
       "    <tr>\n",
       "      <th>1497</th>\n",
       "      <td>23</td>\n",
       "      <td>225506</td>\n",
       "      <td>False</td>\n",
       "      <td>0.241</td>\n",
       "      <td>0.207</td>\n",
       "      <td>1</td>\n",
       "      <td>-16.353</td>\n",
       "      <td>1</td>\n",
       "      <td>0.0374</td>\n",
       "      <td>0.982</td>\n",
       "      <td>0.002260</td>\n",
       "      <td>0.1140</td>\n",
       "      <td>0.0735</td>\n",
       "      <td>86.885</td>\n",
       "      <td>1</td>\n",
       "      <td>opera</td>\n",
       "    </tr>\n",
       "    <tr>\n",
       "      <th>1498</th>\n",
       "      <td>23</td>\n",
       "      <td>148600</td>\n",
       "      <td>False</td>\n",
       "      <td>0.280</td>\n",
       "      <td>0.208</td>\n",
       "      <td>5</td>\n",
       "      <td>-20.158</td>\n",
       "      <td>1</td>\n",
       "      <td>0.0521</td>\n",
       "      <td>0.941</td>\n",
       "      <td>0.000200</td>\n",
       "      <td>0.4100</td>\n",
       "      <td>0.2410</td>\n",
       "      <td>90.477</td>\n",
       "      <td>4</td>\n",
       "      <td>opera</td>\n",
       "    </tr>\n",
       "    <tr>\n",
       "      <th>1499</th>\n",
       "      <td>23</td>\n",
       "      <td>257800</td>\n",
       "      <td>False</td>\n",
       "      <td>0.244</td>\n",
       "      <td>0.205</td>\n",
       "      <td>3</td>\n",
       "      <td>-15.596</td>\n",
       "      <td>1</td>\n",
       "      <td>0.0367</td>\n",
       "      <td>0.984</td>\n",
       "      <td>0.329000</td>\n",
       "      <td>0.0788</td>\n",
       "      <td>0.0750</td>\n",
       "      <td>71.370</td>\n",
       "      <td>4</td>\n",
       "      <td>opera</td>\n",
       "    </tr>\n",
       "  </tbody>\n",
       "</table>\n",
       "</div>"
      ]
     },
     "execution_count": 2,
     "metadata": {},
     "output_type": "execute_result"
    }
   ],
   "execution_count": 2
  },
  {
   "cell_type": "code",
   "metadata": {
    "colab": {
     "base_uri": "https://localhost:8080/",
     "height": 586
    },
    "id": "pJfY3CyobJNk",
    "outputId": "562cb9ca-2feb-414e-9360-912a65c07e7f",
    "ExecuteTime": {
     "end_time": "2025-04-27T19:54:19.017607Z",
     "start_time": "2025-04-27T19:54:19.003605Z"
    }
   },
   "source": [
    "df.isna().sum()"
   ],
   "outputs": [
    {
     "data": {
      "text/plain": [
       "popularity          0\n",
       "duration_ms         0\n",
       "explicit            0\n",
       "danceability        0\n",
       "energy              0\n",
       "key                 0\n",
       "loudness            0\n",
       "mode                0\n",
       "speechiness         0\n",
       "acousticness        0\n",
       "instrumentalness    0\n",
       "liveness            0\n",
       "valence             0\n",
       "tempo               0\n",
       "time_signature      0\n",
       "track_genre         0\n",
       "dtype: int64"
      ]
     },
     "execution_count": 3,
     "metadata": {},
     "output_type": "execute_result"
    }
   ],
   "execution_count": 3
  },
  {
   "cell_type": "markdown",
   "source": [
    "# Parameter tuning"
   ],
   "metadata": {
    "id": "12iSzdoS9MPC"
   }
  },
  {
   "cell_type": "markdown",
   "metadata": {
    "id": "vjmhIp3lsACw"
   },
   "source": [
    "Genre is dropped, as it is categorical data.\n",
    "\n",
    "Explicit is mapped to 0 and 1, to replace the bool, as well as to be more consistent with other features being in the range of 0-1\n",
    "\n",
    "Popularity is changed to a boolean value of 0 and 1, with songs ranked over 50 being considered popular. This produced better results for clustering and a more definitive silhouette coefficient."
   ]
  },
  {
   "cell_type": "code",
   "metadata": {
    "colab": {
     "base_uri": "https://localhost:8080/",
     "height": 226
    },
    "id": "CynoDm_RGn3k",
    "outputId": "ba51af3d-0bf1-4562-ea2e-4363db47e8a4",
    "ExecuteTime": {
     "end_time": "2025-04-27T19:54:19.128604Z",
     "start_time": "2025-04-27T19:54:19.100606Z"
    }
   },
   "source": [
    "df.drop(columns=[\"track_genre\"], inplace=True, errors='ignore')\n",
    "\n",
    "bool_mapper = {\n",
    "    False: 0,\n",
    "    True: 1,\n",
    "}\n",
    "df['popularity'] = df['popularity'].apply(lambda x: 1 if x > 50 else 0)\n",
    "df['explicit'] = df['explicit'].replace(bool_mapper)\n",
    "df.tail()"
   ],
   "outputs": [
    {
     "name": "stderr",
     "output_type": "stream",
     "text": [
      "C:\\Users\\jason\\AppData\\Local\\Temp\\ipykernel_23568\\3214626510.py:8: FutureWarning: Downcasting behavior in `replace` is deprecated and will be removed in a future version. To retain the old behavior, explicitly call `result.infer_objects(copy=False)`. To opt-in to the future behavior, set `pd.set_option('future.no_silent_downcasting', True)`\n",
      "  df['explicit'] = df['explicit'].replace(bool_mapper)\n"
     ]
    },
    {
     "data": {
      "text/plain": [
       "      popularity  duration_ms  explicit  danceability  energy  key  loudness  \\\n",
       "1495           0       352371         0         0.273   0.122    0   -22.173   \n",
       "1496           0       204310         0         0.457   0.498    6    -8.387   \n",
       "1497           0       225506         0         0.241   0.207    1   -16.353   \n",
       "1498           0       148600         0         0.280   0.208    5   -20.158   \n",
       "1499           0       257800         0         0.244   0.205    3   -15.596   \n",
       "\n",
       "      mode  speechiness  acousticness  instrumentalness  liveness  valence  \\\n",
       "1495     0       0.0575         0.960          0.003330    0.0635   0.0731   \n",
       "1496     1       0.0368         0.766          0.000002    0.2890   0.2020   \n",
       "1497     1       0.0374         0.982          0.002260    0.1140   0.0735   \n",
       "1498     1       0.0521         0.941          0.000200    0.4100   0.2410   \n",
       "1499     1       0.0367         0.984          0.329000    0.0788   0.0750   \n",
       "\n",
       "        tempo  time_signature  \n",
       "1495  117.718               4  \n",
       "1496  116.255               4  \n",
       "1497   86.885               1  \n",
       "1498   90.477               4  \n",
       "1499   71.370               4  "
      ],
      "text/html": [
       "<div>\n",
       "<style scoped>\n",
       "    .dataframe tbody tr th:only-of-type {\n",
       "        vertical-align: middle;\n",
       "    }\n",
       "\n",
       "    .dataframe tbody tr th {\n",
       "        vertical-align: top;\n",
       "    }\n",
       "\n",
       "    .dataframe thead th {\n",
       "        text-align: right;\n",
       "    }\n",
       "</style>\n",
       "<table border=\"1\" class=\"dataframe\">\n",
       "  <thead>\n",
       "    <tr style=\"text-align: right;\">\n",
       "      <th></th>\n",
       "      <th>popularity</th>\n",
       "      <th>duration_ms</th>\n",
       "      <th>explicit</th>\n",
       "      <th>danceability</th>\n",
       "      <th>energy</th>\n",
       "      <th>key</th>\n",
       "      <th>loudness</th>\n",
       "      <th>mode</th>\n",
       "      <th>speechiness</th>\n",
       "      <th>acousticness</th>\n",
       "      <th>instrumentalness</th>\n",
       "      <th>liveness</th>\n",
       "      <th>valence</th>\n",
       "      <th>tempo</th>\n",
       "      <th>time_signature</th>\n",
       "    </tr>\n",
       "  </thead>\n",
       "  <tbody>\n",
       "    <tr>\n",
       "      <th>1495</th>\n",
       "      <td>0</td>\n",
       "      <td>352371</td>\n",
       "      <td>0</td>\n",
       "      <td>0.273</td>\n",
       "      <td>0.122</td>\n",
       "      <td>0</td>\n",
       "      <td>-22.173</td>\n",
       "      <td>0</td>\n",
       "      <td>0.0575</td>\n",
       "      <td>0.960</td>\n",
       "      <td>0.003330</td>\n",
       "      <td>0.0635</td>\n",
       "      <td>0.0731</td>\n",
       "      <td>117.718</td>\n",
       "      <td>4</td>\n",
       "    </tr>\n",
       "    <tr>\n",
       "      <th>1496</th>\n",
       "      <td>0</td>\n",
       "      <td>204310</td>\n",
       "      <td>0</td>\n",
       "      <td>0.457</td>\n",
       "      <td>0.498</td>\n",
       "      <td>6</td>\n",
       "      <td>-8.387</td>\n",
       "      <td>1</td>\n",
       "      <td>0.0368</td>\n",
       "      <td>0.766</td>\n",
       "      <td>0.000002</td>\n",
       "      <td>0.2890</td>\n",
       "      <td>0.2020</td>\n",
       "      <td>116.255</td>\n",
       "      <td>4</td>\n",
       "    </tr>\n",
       "    <tr>\n",
       "      <th>1497</th>\n",
       "      <td>0</td>\n",
       "      <td>225506</td>\n",
       "      <td>0</td>\n",
       "      <td>0.241</td>\n",
       "      <td>0.207</td>\n",
       "      <td>1</td>\n",
       "      <td>-16.353</td>\n",
       "      <td>1</td>\n",
       "      <td>0.0374</td>\n",
       "      <td>0.982</td>\n",
       "      <td>0.002260</td>\n",
       "      <td>0.1140</td>\n",
       "      <td>0.0735</td>\n",
       "      <td>86.885</td>\n",
       "      <td>1</td>\n",
       "    </tr>\n",
       "    <tr>\n",
       "      <th>1498</th>\n",
       "      <td>0</td>\n",
       "      <td>148600</td>\n",
       "      <td>0</td>\n",
       "      <td>0.280</td>\n",
       "      <td>0.208</td>\n",
       "      <td>5</td>\n",
       "      <td>-20.158</td>\n",
       "      <td>1</td>\n",
       "      <td>0.0521</td>\n",
       "      <td>0.941</td>\n",
       "      <td>0.000200</td>\n",
       "      <td>0.4100</td>\n",
       "      <td>0.2410</td>\n",
       "      <td>90.477</td>\n",
       "      <td>4</td>\n",
       "    </tr>\n",
       "    <tr>\n",
       "      <th>1499</th>\n",
       "      <td>0</td>\n",
       "      <td>257800</td>\n",
       "      <td>0</td>\n",
       "      <td>0.244</td>\n",
       "      <td>0.205</td>\n",
       "      <td>3</td>\n",
       "      <td>-15.596</td>\n",
       "      <td>1</td>\n",
       "      <td>0.0367</td>\n",
       "      <td>0.984</td>\n",
       "      <td>0.329000</td>\n",
       "      <td>0.0788</td>\n",
       "      <td>0.0750</td>\n",
       "      <td>71.370</td>\n",
       "      <td>4</td>\n",
       "    </tr>\n",
       "  </tbody>\n",
       "</table>\n",
       "</div>"
      ]
     },
     "execution_count": 4,
     "metadata": {},
     "output_type": "execute_result"
    }
   ],
   "execution_count": 4
  },
  {
   "cell_type": "markdown",
   "source": [
    "Here we created the `preprocess_pipeline` in order to make sure that the features of this dataset were appropriately scaled and transformed before being fed into the clustering model."
   ],
   "metadata": {
    "id": "PUcgTTtzE-0K"
   }
  },
  {
   "cell_type": "code",
   "source": [
    "y = df['popularity']\n",
    "X = df.drop('popularity', axis=1)"
   ],
   "metadata": {
    "id": "FThSk3-R__gE",
    "ExecuteTime": {
     "end_time": "2025-04-27T19:54:19.349178Z",
     "start_time": "2025-04-27T19:54:19.335178Z"
    }
   },
   "outputs": [],
   "execution_count": 5
  },
  {
   "metadata": {
    "ExecuteTime": {
     "end_time": "2025-04-27T19:54:19.522506Z",
     "start_time": "2025-04-27T19:54:19.500191Z"
    }
   },
   "cell_type": "code",
   "source": [
    "from sklearn.preprocessing import OneHotEncoder\n",
    "from sklearn.compose import ColumnTransformer\n",
    "from sklearn.pipeline import Pipeline\n",
    "\n",
    "# outliers\n",
    "# - duration\n",
    "# - loudness\n",
    "# - speechiness\n",
    "# - instrumentalness\n",
    "# - liveness\n",
    "# - tempo\n",
    "\n",
    "\n",
    "columns_outliers_no_skew = [\"speechiness\", \"instrumentalness\", \"liveness\"]\n",
    "\n",
    "columns_outliers_skewed = ['duration_ms', 'loudness', 'tempo']\n",
    "\n",
    "columns_no_outliers_skewed = [\"duration_ms\",\n",
    "                              \"danceability\",\n",
    "                              \"energy\",\n",
    "                              \"loudness\",\n",
    "                              \"speechiness\",\n",
    "                              \"acousticness\",\n",
    "                              \"instrumentalness\",\n",
    "                              \"liveness\",\n",
    "                              \"valence\",\n",
    "                              \"tempo\",\n",
    "                              ]\n",
    "\n",
    "columns_no_outliers_no_skew = [col for col in X.columns if\n",
    "                               col not in columns_outliers_no_skew and col not in columns_no_outliers_skewed and col not in columns_outliers_skewed]\n",
    "\n",
    "outliers_no_skew_pipeline = Pipeline(\n",
    "    steps=[\n",
    "        (\"log_transform\", preprocessing.PowerTransformer(method=\"yeo-johnson\")),\n",
    "        (\"scaler\", preprocessing.RobustScaler())\n",
    "    ]\n",
    ")\n",
    "\n",
    "outliers_skewed_pipeline = Pipeline(steps=[\n",
    "    (\"log_transform\", preprocessing.PowerTransformer(method=\"yeo-johnson\")),\n",
    "    ('scale', preprocessing.RobustScaler())\n",
    "])\n",
    "\n",
    "no_outliers_skewed_pipeline = Pipeline(\n",
    "    steps=[\n",
    "        (\"log_transform\", preprocessing.PowerTransformer(method=\"yeo-johnson\")),\n",
    "        (\"scaler\", preprocessing.MinMaxScaler())\n",
    "    ]\n",
    ")\n",
    "\n",
    "no_outliers_no_skew_pipeline = Pipeline(\n",
    "    steps=[\n",
    "        (\"scaler\", preprocessing.MinMaxScaler())\n",
    "    ]\n",
    ")\n",
    "\n",
    "preprocess_pipeline = ColumnTransformer(\n",
    "    transformers=[\n",
    "        (\"outliers_skewed\", outliers_skewed_pipeline, columns_outliers_skewed),\n",
    "        (\"outliers_not_skewed\", outliers_no_skew_pipeline, columns_outliers_no_skew),\n",
    "        (\"no_outliers_skewed\", no_outliers_skewed_pipeline, columns_no_outliers_skewed),\n",
    "        (\"no_outliers_no_skew\", no_outliers_no_skew_pipeline, columns_no_outliers_no_skew)\n",
    "    ],\n",
    "    remainder=\"passthrough\"\n",
    ")"
   ],
   "outputs": [],
   "execution_count": 6
  },
  {
   "metadata": {},
   "cell_type": "markdown",
   "source": [
    "- Firsly, for features with strong outliers and no skew, we applied a Yeo-Johnson transform followed by scaling with the RobustScaler.\n",
    "- Then, for highly skewed features with significant outliers, we applied a Yeo-Johnson power transformation followed by robust scaling to mitigate the impact of extreme values.\n",
    "- Then for moderately skewed features without strong outliers, we applied a Yeo-Johnson transform followed by MinMax scaling.\n",
    "- And lastly, features without noticeable skew or outliers were scaled directly using a MinMax scaler.\n",
    "\n",
    "**Note**: We chose the Yeo-Johnson transformation over a log transformation because it can handle both positive and negative values, including zeros, without requiring manual data shifts, providing a more flexible and robust normalization method. (reference [here](https://scikit-learn.org/stable/modules/generated/sklearn.preprocessing.PowerTransformer.html))\n",
    "\n"
   ]
  },
  {
   "metadata": {},
   "cell_type": "code",
   "outputs": [],
   "execution_count": null,
   "source": [
    "data = np.array(df.values, dtype=float)\n",
    "print('(number of examples, number of attributes): ', data.shape)"
   ]
  },
  {
   "cell_type": "markdown",
   "metadata": {
    "id": "Wdxj1CXPSyIz"
   },
   "source": [
    "---\n",
    "\n",
    "### Scatterplot\n",
    "\n",
    "\n"
   ]
  },
  {
   "metadata": {
    "ExecuteTime": {
     "end_time": "2025-04-27T19:54:19.886506Z",
     "start_time": "2025-04-27T19:54:19.867502Z"
    }
   },
   "cell_type": "code",
   "source": [
    "colors = np.array(['orange', 'blue', 'lime', 'khaki', 'pink', 'green', 'purple'])\n",
    "\n",
    "\n",
    "# points - a 2D array of (x,y) coordinates of data points\n",
    "# labels - an array of numeric labels in the interval [0..k-1], one for each point\n",
    "# centers - a 2D array of (x, y) coordinates of cluster centers\n",
    "# title - title of the plot\n",
    "\n",
    "\n",
    "def clustering_scatterplot(points, labels, centers, title):\n",
    "    n_clusters = np.unique(labels).size\n",
    "    for i in range(n_clusters):\n",
    "        h = plt.scatter(points[labels == i, 0],\n",
    "                        points[labels == i, 1],\n",
    "                        c=colors[i % colors.size],\n",
    "                        label='cluster ' + str(i))\n",
    "\n",
    "    # plot the centers of the clusters\n",
    "    if centers is not None:\n",
    "        plt.scatter(centers[:, 0], centers[:, 1], c='r', marker='*', s=500)\n",
    "\n",
    "    _ = plt.title(title)\n",
    "    _ = plt.legend()\n",
    "    _ = plt.xlabel('x')\n",
    "    _ = plt.ylabel('y')"
   ],
   "outputs": [],
   "execution_count": 8
  },
  {
   "cell_type": "markdown",
   "metadata": {
    "id": "aPnzX-9hSyI0"
   },
   "source": [
    "---\n",
    "### K-Means Clustering (Roy)"
   ]
  },
  {
   "cell_type": "markdown",
   "metadata": {
    "id": "jArjQRDESyI1"
   },
   "source": [
    "Number of clusters $k$."
   ]
  },
  {
   "cell_type": "markdown",
   "metadata": {
    "id": "CSbe_GSyukPV"
   },
   "source": [
    "For determining the ideal value of K, the elbow-method was used, mapping the sum of squares of the clusters to the graph. When the decline starts to flatten, like a bent elbow, that is the ideal value of k.\n",
    "\n",
    "Through this, k=3 was the ideal value of k"
   ]
  },
  {
   "metadata": {
    "ExecuteTime": {
     "end_time": "2025-04-27T19:54:21.755746Z",
     "start_time": "2025-04-27T19:54:20.030503Z"
    }
   },
   "cell_type": "code",
   "source": [
    "inertias = []  # the sum of squared distances\n",
    "k_values = range(1, 11)\n",
    "\n",
    "for k in k_values:\n",
    "    kmeans = cluster.KMeans(n_clusters=k, random_state=42, n_init=10)\n",
    "    kmeans.fit(data)\n",
    "    inertias.append(kmeans.inertia_)\n",
    "\n",
    "plt.figure(figsize=(8, 5))\n",
    "plt.plot(k_values, inertias, marker='o', linestyle='--')\n",
    "plt.xlabel('Number of Clusters (k)')\n",
    "plt.ylabel('Within-Cluster Sum of Squares (inertias)')\n",
    "plt.title('Elbow Method for Optimal k')\n",
    "plt.grid(True)\n",
    "plt.show()"
   ],
   "outputs": [
    {
     "data": {
      "text/plain": [
       "<Figure size 800x500 with 1 Axes>"
      ],
      "image/png": "[encoded data removed]"
     },
     "metadata": {},
     "output_type": "display_data"
    }
   ],
   "execution_count": 9
  },
  {
   "metadata": {
    "ExecuteTime": {
     "end_time": "2025-04-27T20:34:14.349015Z",
     "start_time": "2025-04-27T20:34:14.340018Z"
    }
   },
   "cell_type": "code",
   "source": "k = 3",
   "outputs": [],
   "execution_count": 66
  },
  {
   "cell_type": "markdown",
   "metadata": {
    "id": "NvwTlsC1SyI1"
   },
   "source": [
    "#### Run k-Means"
   ]
  },
  {
   "cell_type": "markdown",
   "source": [
    "This creates a pipeline that runs the preprocessing pipeline, and then kmeans"
   ],
   "metadata": {
    "id": "74IbDnmaOaoy"
   }
  },
  {
   "metadata": {
    "ExecuteTime": {
     "end_time": "2025-04-27T20:42:58.211150Z",
     "start_time": "2025-04-27T20:42:47.585825Z"
    }
   },
   "cell_type": "code",
   "source": [
    "from sklearn.decomposition import PCA\n",
    "from sklearn.model_selection import GridSearchCV\n",
    "\n",
    "kmeans_pipeline = Pipeline(steps=[\n",
    "    ('preprocess', preprocess_pipeline),\n",
    "    ('pca', PCA()),  # dimensionality reduction\n",
    "    ('kMeans', cluster.KMeans(n_init=10, n_clusters=k, max_iter=300))\n",
    "])\n",
    "\n",
    "param_grid = {\n",
    "    'kMeans__n_clusters': [3, 4, 5, 8, 10],  # want at least 3 as per elbow method\n",
    "    'kMeans__n_init': [1, 2, 3, 4, 5, 10],\n",
    "\n",
    "    'pca__n_components': [None, 5, 10, 15],  # None = keep all attributes\n",
    "    'pca__whiten': [False, True],\n",
    "}\n",
    "\n",
    "\n",
    "def silhouette_scorer(estimator, X, y=None):\n",
    "    # pipelines generally used for supervised learning, but clustering is unsupervised\n",
    "    # this method allows us to use silhouette score as our sort of supervision\n",
    "    # to do this, we follow same steps as pipeline, then cluster using the given config\n",
    "    # and use silhouette score to evaluate it\n",
    "    # using this in grid search will allow it to pick best params for clustering\n",
    "    transformed = estimator.named_steps['preprocess'].transform(X)\n",
    "    pca_done = estimator.named_steps['pca'].transform(transformed)\n",
    "    labels = estimator.named_steps['kMeans'].predict(pca_done)\n",
    "    # If we got only one cluster, silhouette is undefined\n",
    "    if len(np.unique(labels)) < 2:\n",
    "        return -1.0\n",
    "    return silhouette_score(pca_done, labels)\n",
    "\n",
    "\n",
    "grid_search = GridSearchCV(\n",
    "    estimator=kmeans_pipeline,\n",
    "    param_grid=param_grid,\n",
    "    cv=5,\n",
    "    scoring=silhouette_scorer,\n",
    "    n_jobs=-1\n",
    ")\n",
    "\n",
    "grid_search.fit(df)\n",
    "\n",
    "print(\"Best params:\", grid_search.best_params_)\n",
    "print(\"Best silhouette score:\", grid_search.best_score_)\n",
    "best_pipeline = grid_search.best_estimator_\n",
    "\n",
    "clustered_model = best_pipeline\n",
    "preprocessed_data = clustered_model[\"preprocess\"].transform(df)\n",
    "preprocessed_data = clustered_model[\"pca\"].transform(preprocessed_data)\n",
    "preprocessed_data"
   ],
   "outputs": [
    {
     "name": "stdout",
     "output_type": "stream",
     "text": [
      "Best params: {'kMeans__n_clusters': 3, 'kMeans__n_init': 3, 'pca__n_components': 5, 'pca__whiten': False}\n",
      "Best silhouette score: 0.30768443437136617\n"
     ]
    },
    {
     "data": {
      "text/plain": [
       "array([[ 0.22896419,  0.51928343, -0.75250162, -0.37725173, -0.09231461],\n",
       "       [ 0.3870103 ,  0.50088756, -0.58306676, -0.81076927, -0.33911064],\n",
       "       [ 1.30186367, -1.4036119 ,  0.89798682,  0.5326381 ,  0.08290956],\n",
       "       ...,\n",
       "       [ 0.81243117,  1.15206902, -1.22738592, -0.24236044,  0.03615498],\n",
       "       [ 0.36234999,  0.08836243, -1.91092678,  0.88696219,  0.92931464],\n",
       "       [ 2.75629348,  0.43662705, -0.45338403, -0.09788414, -0.82024356]],\n",
       "      shape=(1500, 5))"
      ]
     },
     "execution_count": 84,
     "metadata": {},
     "output_type": "execute_result"
    }
   ],
   "execution_count": 84
  },
  {
   "metadata": {},
   "cell_type": "markdown",
   "source": "Note here how value of k found to be best differs from that of elbow method"
  },
  {
   "cell_type": "markdown",
   "metadata": {
    "id": "7I5zHtP2SyI2"
   },
   "source": [
    "### E. Apply a manifold-learning technique to project the data set to a 2D space\n",
    "\n",
    "https://scikit-learn.org/stable/modules/manifold.html"
   ]
  },
  {
   "cell_type": "markdown",
   "metadata": {
    "id": "uylJksO9SyI2"
   },
   "source": [
    "Append the cluster centers to the dataset."
   ]
  },
  {
   "metadata": {
    "ExecuteTime": {
     "end_time": "2025-04-27T20:43:01.379689Z",
     "start_time": "2025-04-27T20:43:01.365678Z"
    }
   },
   "cell_type": "code",
   "source": "data_and_centers = np.r_[preprocessed_data, clustered_model['kMeans'].cluster_centers_]",
   "outputs": [],
   "execution_count": 85
  },
  {
   "metadata": {},
   "cell_type": "markdown",
   "source": "#### E1. Apply multi-dimensional scaling (MDS) to project both the data and the k-Means cluster centers to a 2D space"
  },
  {
   "metadata": {
    "ExecuteTime": {
     "end_time": "2025-04-27T20:45:04.776791Z",
     "start_time": "2025-04-27T20:43:43.680987Z"
    }
   },
   "cell_type": "code",
   "source": [
    "XYcoordinates = manifold.MDS(n_components=2, normalized_stress='auto').fit_transform(data_and_centers)\n",
    "print(\"transformation complete\")"
   ],
   "outputs": [
    {
     "name": "stdout",
     "output_type": "stream",
     "text": [
      "transformation complete\n"
     ]
    }
   ],
   "execution_count": 88
  },
  {
   "metadata": {
    "ExecuteTime": {
     "end_time": "2025-04-27T20:45:18.140345Z",
     "start_time": "2025-04-27T20:45:17.931088Z"
    }
   },
   "cell_type": "code",
   "source": [
    "clustering_scatterplot(points=XYcoordinates[:-k, :],\n",
    "                       labels=clustered_model['kMeans'].labels_,\n",
    "                       centers=XYcoordinates[-k:, :],\n",
    "                       title='MDS')"
   ],
   "outputs": [
    {
     "data": {
      "text/plain": [
       "<Figure size 640x480 with 1 Axes>"
      ],
      "image/png": "[encoded data removed]"
     },
     "metadata": {},
     "output_type": "display_data"
    }
   ],
   "execution_count": 90
  },
  {
   "metadata": {},
   "cell_type": "markdown",
   "source": "TODO conclusions from MDS clustering"
  },
  {
   "cell_type": "markdown",
   "metadata": {
    "id": "Skv4QLH2SyI3"
   },
   "source": [
    "#### E2. Apply t-SNE to project both the data and the k-Means cluster centers to a 2D space"
   ]
  },
  {
   "cell_type": "markdown",
   "metadata": {
    "id": "y2EGUrZESyI4"
   },
   "source": [
    "Project both the data and the k-Means cluster centers to 2D."
   ]
  },
  {
   "metadata": {
    "ExecuteTime": {
     "end_time": "2025-04-27T20:43:06.611227Z",
     "start_time": "2025-04-27T20:43:03.024634Z"
    }
   },
   "cell_type": "code",
   "source": [
    "XYcoordinates = manifold.TSNE(n_components=2).fit_transform(data_and_centers)\n",
    "print(\"transformation complete\")"
   ],
   "outputs": [
    {
     "name": "stdout",
     "output_type": "stream",
     "text": [
      "transformation complete\n"
     ]
    }
   ],
   "execution_count": 86
  },
  {
   "metadata": {
    "ExecuteTime": {
     "end_time": "2025-04-27T20:43:06.946226Z",
     "start_time": "2025-04-27T20:43:06.706228Z"
    }
   },
   "cell_type": "code",
   "source": [
    "clustering_scatterplot(points=XYcoordinates[:-k, :],\n",
    "                       labels=clustered_model['kMeans'].labels_,\n",
    "                       centers=XYcoordinates[-k:, :],\n",
    "                       title='Tracks clustered by T-SNE')"
   ],
   "outputs": [
    {
     "data": {
      "text/plain": [
       "<Figure size 640x480 with 1 Axes>"
      ],
      "image/png": "[encoded data removed]"
     },
     "metadata": {},
     "output_type": "display_data"
    }
   ],
   "execution_count": 87
  },
  {
   "cell_type": "markdown",
   "metadata": {
    "id": "SeHJehewSyI4"
   },
   "source": [
    "### F. Cluster Analysis"
   ]
  },
  {
   "cell_type": "markdown",
   "metadata": {
    "id": "J08Vn5RPSyI5"
   },
   "source": [
    "#### Add the cluster labels as an extra column in the original dataframe"
   ]
  },
  {
   "metadata": {
    "ExecuteTime": {
     "end_time": "2025-04-27T19:57:28.012328Z",
     "start_time": "2025-04-27T19:57:27.999328Z"
    }
   },
   "cell_type": "code",
   "source": "df['cluster'] = pd.Series(clustered_model['kMeans'].labels_, index=df.index)",
   "outputs": [],
   "execution_count": 15
  },
  {
   "metadata": {
    "ExecuteTime": {
     "end_time": "2025-04-27T19:57:34.392300Z",
     "start_time": "2025-04-27T19:57:34.377300Z"
    }
   },
   "cell_type": "code",
   "source": "df.tail()",
   "outputs": [
    {
     "data": {
      "text/plain": [
       "      popularity  duration_ms  explicit  danceability  energy  key  loudness  \\\n",
       "1495           0       352371         0         0.273   0.122    0   -22.173   \n",
       "1496           0       204310         0         0.457   0.498    6    -8.387   \n",
       "1497           0       225506         0         0.241   0.207    1   -16.353   \n",
       "1498           0       148600         0         0.280   0.208    5   -20.158   \n",
       "1499           0       257800         0         0.244   0.205    3   -15.596   \n",
       "\n",
       "      mode  speechiness  acousticness  instrumentalness  liveness  valence  \\\n",
       "1495     0       0.0575         0.960          0.003330    0.0635   0.0731   \n",
       "1496     1       0.0368         0.766          0.000002    0.2890   0.2020   \n",
       "1497     1       0.0374         0.982          0.002260    0.1140   0.0735   \n",
       "1498     1       0.0521         0.941          0.000200    0.4100   0.2410   \n",
       "1499     1       0.0367         0.984          0.329000    0.0788   0.0750   \n",
       "\n",
       "        tempo  time_signature  cluster  \n",
       "1495  117.718               4        1  \n",
       "1496  116.255               4        1  \n",
       "1497   86.885               1        1  \n",
       "1498   90.477               4        1  \n",
       "1499   71.370               4        2  "
      ],
      "text/html": [
       "<div>\n",
       "<style scoped>\n",
       "    .dataframe tbody tr th:only-of-type {\n",
       "        vertical-align: middle;\n",
       "    }\n",
       "\n",
       "    .dataframe tbody tr th {\n",
       "        vertical-align: top;\n",
       "    }\n",
       "\n",
       "    .dataframe thead th {\n",
       "        text-align: right;\n",
       "    }\n",
       "</style>\n",
       "<table border=\"1\" class=\"dataframe\">\n",
       "  <thead>\n",
       "    <tr style=\"text-align: right;\">\n",
       "      <th></th>\n",
       "      <th>popularity</th>\n",
       "      <th>duration_ms</th>\n",
       "      <th>explicit</th>\n",
       "      <th>danceability</th>\n",
       "      <th>energy</th>\n",
       "      <th>key</th>\n",
       "      <th>loudness</th>\n",
       "      <th>mode</th>\n",
       "      <th>speechiness</th>\n",
       "      <th>acousticness</th>\n",
       "      <th>instrumentalness</th>\n",
       "      <th>liveness</th>\n",
       "      <th>valence</th>\n",
       "      <th>tempo</th>\n",
       "      <th>time_signature</th>\n",
       "      <th>cluster</th>\n",
       "    </tr>\n",
       "  </thead>\n",
       "  <tbody>\n",
       "    <tr>\n",
       "      <th>1495</th>\n",
       "      <td>0</td>\n",
       "      <td>352371</td>\n",
       "      <td>0</td>\n",
       "      <td>0.273</td>\n",
       "      <td>0.122</td>\n",
       "      <td>0</td>\n",
       "      <td>-22.173</td>\n",
       "      <td>0</td>\n",
       "      <td>0.0575</td>\n",
       "      <td>0.960</td>\n",
       "      <td>0.003330</td>\n",
       "      <td>0.0635</td>\n",
       "      <td>0.0731</td>\n",
       "      <td>117.718</td>\n",
       "      <td>4</td>\n",
       "      <td>1</td>\n",
       "    </tr>\n",
       "    <tr>\n",
       "      <th>1496</th>\n",
       "      <td>0</td>\n",
       "      <td>204310</td>\n",
       "      <td>0</td>\n",
       "      <td>0.457</td>\n",
       "      <td>0.498</td>\n",
       "      <td>6</td>\n",
       "      <td>-8.387</td>\n",
       "      <td>1</td>\n",
       "      <td>0.0368</td>\n",
       "      <td>0.766</td>\n",
       "      <td>0.000002</td>\n",
       "      <td>0.2890</td>\n",
       "      <td>0.2020</td>\n",
       "      <td>116.255</td>\n",
       "      <td>4</td>\n",
       "      <td>1</td>\n",
       "    </tr>\n",
       "    <tr>\n",
       "      <th>1497</th>\n",
       "      <td>0</td>\n",
       "      <td>225506</td>\n",
       "      <td>0</td>\n",
       "      <td>0.241</td>\n",
       "      <td>0.207</td>\n",
       "      <td>1</td>\n",
       "      <td>-16.353</td>\n",
       "      <td>1</td>\n",
       "      <td>0.0374</td>\n",
       "      <td>0.982</td>\n",
       "      <td>0.002260</td>\n",
       "      <td>0.1140</td>\n",
       "      <td>0.0735</td>\n",
       "      <td>86.885</td>\n",
       "      <td>1</td>\n",
       "      <td>1</td>\n",
       "    </tr>\n",
       "    <tr>\n",
       "      <th>1498</th>\n",
       "      <td>0</td>\n",
       "      <td>148600</td>\n",
       "      <td>0</td>\n",
       "      <td>0.280</td>\n",
       "      <td>0.208</td>\n",
       "      <td>5</td>\n",
       "      <td>-20.158</td>\n",
       "      <td>1</td>\n",
       "      <td>0.0521</td>\n",
       "      <td>0.941</td>\n",
       "      <td>0.000200</td>\n",
       "      <td>0.4100</td>\n",
       "      <td>0.2410</td>\n",
       "      <td>90.477</td>\n",
       "      <td>4</td>\n",
       "      <td>1</td>\n",
       "    </tr>\n",
       "    <tr>\n",
       "      <th>1499</th>\n",
       "      <td>0</td>\n",
       "      <td>257800</td>\n",
       "      <td>0</td>\n",
       "      <td>0.244</td>\n",
       "      <td>0.205</td>\n",
       "      <td>3</td>\n",
       "      <td>-15.596</td>\n",
       "      <td>1</td>\n",
       "      <td>0.0367</td>\n",
       "      <td>0.984</td>\n",
       "      <td>0.329000</td>\n",
       "      <td>0.0788</td>\n",
       "      <td>0.0750</td>\n",
       "      <td>71.370</td>\n",
       "      <td>4</td>\n",
       "      <td>2</td>\n",
       "    </tr>\n",
       "  </tbody>\n",
       "</table>\n",
       "</div>"
      ]
     },
     "execution_count": 16,
     "metadata": {},
     "output_type": "execute_result"
    }
   ],
   "execution_count": 16
  },
  {
   "cell_type": "markdown",
   "metadata": {
    "id": "fswl5KBiSyI6"
   },
   "source": [
    "#### Compute the mean value of each attribute for each cluster"
   ]
  },
  {
   "cell_type": "code",
   "metadata": {
    "colab": {
     "base_uri": "https://localhost:8080/",
     "height": 226
    },
    "id": "kVulG_1uSyI6",
    "outputId": "c3901526-7f80-401d-ada5-3992abfb6fc3",
    "ExecuteTime": {
     "end_time": "2025-04-27T19:57:39.741406Z",
     "start_time": "2025-04-27T19:57:39.718406Z"
    }
   },
   "source": [
    "df.groupby('cluster').mean()"
   ],
   "outputs": [
    {
     "data": {
      "text/plain": [
       "         popularity    duration_ms  explicit  danceability    energy  \\\n",
       "cluster                                                                \n",
       "0          0.218126  187594.725038  0.198157      0.665490  0.735014   \n",
       "1          0.179226  238429.761711  0.022403      0.410039  0.414643   \n",
       "2          0.170391  210690.511173  0.047486      0.494525  0.585150   \n",
       "\n",
       "              key   loudness      mode  speechiness  acousticness  \\\n",
       "cluster                                                             \n",
       "0        5.347158  -5.413392  0.536098     0.112524      0.126028   \n",
       "1        4.963340 -10.492293  0.759674     0.041670      0.625401   \n",
       "2        4.600559 -10.592799  0.723464     0.062855      0.370890   \n",
       "\n",
       "         instrumentalness  liveness   valence       tempo  time_signature  \n",
       "cluster                                                                    \n",
       "0                0.004208  0.201800  0.528667  125.405880        3.989247  \n",
       "1                0.010033  0.190326  0.272071  107.190444        3.757637  \n",
       "2                0.676643  0.188404  0.251600  114.851980        3.849162  "
      ],
      "text/html": [
       "<div>\n",
       "<style scoped>\n",
       "    .dataframe tbody tr th:only-of-type {\n",
       "        vertical-align: middle;\n",
       "    }\n",
       "\n",
       "    .dataframe tbody tr th {\n",
       "        vertical-align: top;\n",
       "    }\n",
       "\n",
       "    .dataframe thead th {\n",
       "        text-align: right;\n",
       "    }\n",
       "</style>\n",
       "<table border=\"1\" class=\"dataframe\">\n",
       "  <thead>\n",
       "    <tr style=\"text-align: right;\">\n",
       "      <th></th>\n",
       "      <th>popularity</th>\n",
       "      <th>duration_ms</th>\n",
       "      <th>explicit</th>\n",
       "      <th>danceability</th>\n",
       "      <th>energy</th>\n",
       "      <th>key</th>\n",
       "      <th>loudness</th>\n",
       "      <th>mode</th>\n",
       "      <th>speechiness</th>\n",
       "      <th>acousticness</th>\n",
       "      <th>instrumentalness</th>\n",
       "      <th>liveness</th>\n",
       "      <th>valence</th>\n",
       "      <th>tempo</th>\n",
       "      <th>time_signature</th>\n",
       "    </tr>\n",
       "    <tr>\n",
       "      <th>cluster</th>\n",
       "      <th></th>\n",
       "      <th></th>\n",
       "      <th></th>\n",
       "      <th></th>\n",
       "      <th></th>\n",
       "      <th></th>\n",
       "      <th></th>\n",
       "      <th></th>\n",
       "      <th></th>\n",
       "      <th></th>\n",
       "      <th></th>\n",
       "      <th></th>\n",
       "      <th></th>\n",
       "      <th></th>\n",
       "      <th></th>\n",
       "    </tr>\n",
       "  </thead>\n",
       "  <tbody>\n",
       "    <tr>\n",
       "      <th>0</th>\n",
       "      <td>0.218126</td>\n",
       "      <td>187594.725038</td>\n",
       "      <td>0.198157</td>\n",
       "      <td>0.665490</td>\n",
       "      <td>0.735014</td>\n",
       "      <td>5.347158</td>\n",
       "      <td>-5.413392</td>\n",
       "      <td>0.536098</td>\n",
       "      <td>0.112524</td>\n",
       "      <td>0.126028</td>\n",
       "      <td>0.004208</td>\n",
       "      <td>0.201800</td>\n",
       "      <td>0.528667</td>\n",
       "      <td>125.405880</td>\n",
       "      <td>3.989247</td>\n",
       "    </tr>\n",
       "    <tr>\n",
       "      <th>1</th>\n",
       "      <td>0.179226</td>\n",
       "      <td>238429.761711</td>\n",
       "      <td>0.022403</td>\n",
       "      <td>0.410039</td>\n",
       "      <td>0.414643</td>\n",
       "      <td>4.963340</td>\n",
       "      <td>-10.492293</td>\n",
       "      <td>0.759674</td>\n",
       "      <td>0.041670</td>\n",
       "      <td>0.625401</td>\n",
       "      <td>0.010033</td>\n",
       "      <td>0.190326</td>\n",
       "      <td>0.272071</td>\n",
       "      <td>107.190444</td>\n",
       "      <td>3.757637</td>\n",
       "    </tr>\n",
       "    <tr>\n",
       "      <th>2</th>\n",
       "      <td>0.170391</td>\n",
       "      <td>210690.511173</td>\n",
       "      <td>0.047486</td>\n",
       "      <td>0.494525</td>\n",
       "      <td>0.585150</td>\n",
       "      <td>4.600559</td>\n",
       "      <td>-10.592799</td>\n",
       "      <td>0.723464</td>\n",
       "      <td>0.062855</td>\n",
       "      <td>0.370890</td>\n",
       "      <td>0.676643</td>\n",
       "      <td>0.188404</td>\n",
       "      <td>0.251600</td>\n",
       "      <td>114.851980</td>\n",
       "      <td>3.849162</td>\n",
       "    </tr>\n",
       "  </tbody>\n",
       "</table>\n",
       "</div>"
      ]
     },
     "execution_count": 17,
     "metadata": {},
     "output_type": "execute_result"
    }
   ],
   "execution_count": 17
  },
  {
   "cell_type": "markdown",
   "metadata": {
    "id": "Dt55CprVSyI6"
   },
   "source": [
    "- Cluster 0 are unpopular tracks all in major.\n",
    "- Cluster 1 are quieter, acoustic, lower-tempo, lower-energy tracks.\n",
    "- Cluster 2 tracks that rank from 50-100 in popularity.\n",
    "- Cluster 3 are unpopular tracks all in minor."
   ]
  },
  {
   "metadata": {},
   "cell_type": "markdown",
   "source": "TODO check above conclusions still relevant"
  },
  {
   "metadata": {},
   "cell_type": "markdown",
   "source": "# Clustering with DBScan"
  },
  {
   "metadata": {},
   "cell_type": "markdown",
   "source": "TODO use same pipeline here"
  },
  {
   "metadata": {},
   "cell_type": "code",
   "outputs": [],
   "execution_count": null,
   "source": "data = df[['loudness', 'energy']].dropna().values"
  },
  {
   "metadata": {},
   "cell_type": "code",
   "outputs": [],
   "execution_count": null,
   "source": [
    "# DBSCAN parameters\n",
    "epsilon = 2\n",
    "min_samples = 10\n",
    "\n",
    "# Run DBSCAN\n",
    "db = DBSCAN(eps=epsilon, min_samples=min_samples).fit(data)\n",
    "labels = db.labels_\n",
    "\n",
    "scaled_data = StandardScaler().fit_transform(data)"
   ]
  },
  {
   "cell_type": "code",
   "execution_count": null,
   "metadata": {
    "id": "UbiPhdBe8-Mp",
    "outputId": "bc87b8c9-ddb0-4ecc-9496-a2f6159a9cac"
   },
   "outputs": [
    {
     "data": {
      "image/png": "[encoded data removed]",
      "text/plain": [
       "<Figure size 432x288 with 1 Axes>"
      ]
     },
     "metadata": {
      "needs_background": "light"
     },
     "output_type": "display_data"
    }
   ],
   "source": [
    "# Map labels to colors\n",
    "colors = list(map(lambda x: '#3b4cc0' if x == 1 else '#b40426' if x == 0 else '#9e9e9e', labels))\n",
    "\n",
    "plt.scatter(scaled_data[:, 1], data[:, 0], c=colors, marker=\"o\", picker=True)\n",
    "plt.title('DBSCAN Clustering on Tracks Data')\n",
    "plt.xlabel('Feature 1: Loudness')\n",
    "plt.ylabel('Feature 2: Energy')\n",
    "plt.show()"
   ]
  },
  {
   "cell_type": "code",
   "execution_count": null,
   "metadata": {
    "id": "O3WWWxLo8-Mp",
    "outputId": "b6bfeeb1-eb96-4ed4-e398-119959c8427c"
   },
   "outputs": [
    {
     "name": "stderr",
     "output_type": "stream",
     "text": [
      "/Users/adamgreenan/opt/anaconda3/lib/python3.8/site-packages/sklearn/manifold/_mds.py:298: FutureWarning: The default value of `normalized_stress` will change to `'auto'` in version 1.4. To suppress this warning, manually set the value of `normalized_stress`.\n",
      "  warnings.warn(\n"
     ]
    },
    {
     "data": {
      "image/png": "[encoded data removed]",
      "text/plain": [
       "<Figure size 576x432 with 2 Axes>"
      ]
     },
     "metadata": {
      "needs_background": "light"
     },
     "output_type": "display_data"
    }
   ],
   "source": [
    "X = df.select_dtypes(include=['int64', 'float64'])\n",
    "\n",
    "# Apply DBSCAN clustering\n",
    "dbscan = DBSCAN(eps=0.5, min_samples=5)\n",
    "labels = dbscan.fit_predict(X)\n",
    "\n",
    "# Use t-SNE for visualization\n",
    "tsne = TSNE(n_components=2, random_state=42)\n",
    "X_tsne = tsne.fit_transform(X)\n",
    "\n",
    "mds = MDS(n_components=2, random_state=42)\n",
    "X_mds = mds.fit_transform(X)\n",
    "\n",
    "# Plot the results\n",
    "plt.figure(figsize=(8, 6))\n",
    "plt.scatter(X_tsne[:, 0], X_tsne[:, 1], c=labels, cmap='viridis', s=10)\n",
    "plt.title(\"DBSCAN Clusters with t-SNE Visualization\")\n",
    "plt.colorbar(label='Cluster Label')\n",
    "plt.show()"
   ]
  },
  {
   "cell_type": "code",
   "execution_count": null,
   "metadata": {
    "id": "9j3yZSyr8-Mq",
    "outputId": "7f144716-7b39-4eaf-8490-5fa739168bae"
   },
   "outputs": [
    {
     "data": {
      "image/png": "[encoded data removed]",
      "text/plain": [
       "<Figure size 576x432 with 2 Axes>"
      ]
     },
     "metadata": {
      "needs_background": "light"
     },
     "output_type": "display_data"
    }
   ],
   "source": [
    "plt.figure(figsize=(8, 6))\n",
    "plt.scatter(X_mds[:, 0], X_mds[:, 1], c=labels, cmap='viridis', s=10)\n",
    "plt.title(\"DBSCAN Clusters with MDS Visualization\")\n",
    "plt.colorbar(label='Cluster Label')\n",
    "plt.show()"
   ]
  },
  {
   "cell_type": "markdown",
   "metadata": {
    "id": "rzj9vHOR8-Mq"
   },
   "source": [
    "# Conclusion"
   ]
  },
  {
   "cell_type": "markdown",
   "metadata": {
    "id": "xeqFEH5q8-Mq"
   },
   "source": [
    "k-means clustering assumes that clusters are spherical and equally sized. It performed well in forming clear, compact clusters when the number of clusters (k) was appropriately chosen. However, it required setting k manually in advance, and its performance degraded if the true clusters were not globular or were very differently sized.\n",
    "\n",
    "DBSCAN (Density-Based Spatial Clustering of Applications with Noise), on the other hand, does not require specifying the number of clusters beforehand. It was able to discover clusters of arbitrary shape and effectively identified noise points (outliers). DBSCAN performed better when clusters were irregularly shaped but was sensitive to the choice of parameters like eps (neighborhood size) and min_samples (minimum points in a neighborhood)."
   ]
  }
 ],
 "metadata": {
  "colab": {
   "provenance": []
  },
  "kernelspec": {
   "display_name": "Python 3 (ipykernel)",
   "name": "python3",
   "language": "python"
  },
  "language_info": {
   "codemirror_mode": {
    "name": "ipython",
    "version": 3
   },
   "file_extension": ".py",
   "mimetype": "text/x-python",
   "name": "python",
   "nbconvert_exporter": "python",
   "pygments_lexer": "ipython3",
   "version": "3.8.8"
  }
 },
 "nbformat": 4,
 "nbformat_minor": 0
}
