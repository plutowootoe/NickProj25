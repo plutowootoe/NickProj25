{
 "cells": [
  {
   "cell_type": "markdown",
   "metadata": {
    "id": "B9xEH2HhSyIs"
   },
   "source": [
    "### Clustering\n",
    "\n",
    "---\n"
   ]
  },
  {
   "cell_type": "markdown",
   "metadata": {
    "id": "bmyxzpfESyIv"
   },
   "source": [
    "### A. Import Python Modules and Dataset"
   ]
  },
  {
   "cell_type": "code",
   "execution_count": 41,
   "metadata": {
    "id": "XHOgOna7SyIw"
   },
   "outputs": [],
   "source": [
    "import pandas as pd\n",
    "import numpy as np\n",
    "import matplotlib.pyplot as plt\n",
    "\n",
    "from sklearn import manifold #needed for and t-SNE\n",
    "from sklearn.manifold import TSNE,MDS\n",
    "from sklearn.cluster import DBSCAN\n",
    "from sklearn.metrics import silhouette_samples, silhouette_score\n",
    "from sklearn.preprocessing import StandardScaler\n",
    "from sklearn import cluster #needed for k-Means clustering\n",
    "from sklearn import metrics #needed for Silhouette method\n",
    "from sklearn import preprocessing #needed for scaling attributes to the nterval [0,1]"
   ]
  },
  {
   "cell_type": "markdown",
   "metadata": {
    "id": "j7jOXo54SyIx"
   },
   "source": [
    "#### Load the dataset"
   ]
  },
  {
   "cell_type": "code",
   "execution_count": 42,
   "metadata": {
    "colab": {
     "base_uri": "https://localhost:8080/",
     "height": 226
    },
    "id": "9iP_TLFLSyIx",
    "outputId": "0376ccb5-2f24-461d-80fe-ddd143ec4d3d"
   },
   "outputs": [
    {
     "data": {
      "text/html": [
       "<div>\n",
       "<style scoped>\n",
       "    .dataframe tbody tr th:only-of-type {\n",
       "        vertical-align: middle;\n",
       "    }\n",
       "\n",
       "    .dataframe tbody tr th {\n",
       "        vertical-align: top;\n",
       "    }\n",
       "\n",
       "    .dataframe thead th {\n",
       "        text-align: right;\n",
       "    }\n",
       "</style>\n",
       "<table border=\"1\" class=\"dataframe\">\n",
       "  <thead>\n",
       "    <tr style=\"text-align: right;\">\n",
       "      <th></th>\n",
       "      <th>popularity</th>\n",
       "      <th>duration_ms</th>\n",
       "      <th>explicit</th>\n",
       "      <th>danceability</th>\n",
       "      <th>energy</th>\n",
       "      <th>key</th>\n",
       "      <th>loudness</th>\n",
       "      <th>mode</th>\n",
       "      <th>speechiness</th>\n",
       "      <th>acousticness</th>\n",
       "      <th>instrumentalness</th>\n",
       "      <th>liveness</th>\n",
       "      <th>valence</th>\n",
       "      <th>tempo</th>\n",
       "      <th>time_signature</th>\n",
       "      <th>track_genre</th>\n",
       "    </tr>\n",
       "  </thead>\n",
       "  <tbody>\n",
       "    <tr>\n",
       "      <th>1495</th>\n",
       "      <td>23</td>\n",
       "      <td>352371</td>\n",
       "      <td>False</td>\n",
       "      <td>0.273</td>\n",
       "      <td>0.122</td>\n",
       "      <td>0</td>\n",
       "      <td>-22.173</td>\n",
       "      <td>0</td>\n",
       "      <td>0.0575</td>\n",
       "      <td>0.960</td>\n",
       "      <td>0.003330</td>\n",
       "      <td>0.0635</td>\n",
       "      <td>0.0731</td>\n",
       "      <td>117.718</td>\n",
       "      <td>4</td>\n",
       "      <td>opera</td>\n",
       "    </tr>\n",
       "    <tr>\n",
       "      <th>1496</th>\n",
       "      <td>22</td>\n",
       "      <td>204310</td>\n",
       "      <td>False</td>\n",
       "      <td>0.457</td>\n",
       "      <td>0.498</td>\n",
       "      <td>6</td>\n",
       "      <td>-8.387</td>\n",
       "      <td>1</td>\n",
       "      <td>0.0368</td>\n",
       "      <td>0.766</td>\n",
       "      <td>0.000002</td>\n",
       "      <td>0.2890</td>\n",
       "      <td>0.2020</td>\n",
       "      <td>116.255</td>\n",
       "      <td>4</td>\n",
       "      <td>opera</td>\n",
       "    </tr>\n",
       "    <tr>\n",
       "      <th>1497</th>\n",
       "      <td>23</td>\n",
       "      <td>225506</td>\n",
       "      <td>False</td>\n",
       "      <td>0.241</td>\n",
       "      <td>0.207</td>\n",
       "      <td>1</td>\n",
       "      <td>-16.353</td>\n",
       "      <td>1</td>\n",
       "      <td>0.0374</td>\n",
       "      <td>0.982</td>\n",
       "      <td>0.002260</td>\n",
       "      <td>0.1140</td>\n",
       "      <td>0.0735</td>\n",
       "      <td>86.885</td>\n",
       "      <td>1</td>\n",
       "      <td>opera</td>\n",
       "    </tr>\n",
       "    <tr>\n",
       "      <th>1498</th>\n",
       "      <td>23</td>\n",
       "      <td>148600</td>\n",
       "      <td>False</td>\n",
       "      <td>0.280</td>\n",
       "      <td>0.208</td>\n",
       "      <td>5</td>\n",
       "      <td>-20.158</td>\n",
       "      <td>1</td>\n",
       "      <td>0.0521</td>\n",
       "      <td>0.941</td>\n",
       "      <td>0.000200</td>\n",
       "      <td>0.4100</td>\n",
       "      <td>0.2410</td>\n",
       "      <td>90.477</td>\n",
       "      <td>4</td>\n",
       "      <td>opera</td>\n",
       "    </tr>\n",
       "    <tr>\n",
       "      <th>1499</th>\n",
       "      <td>23</td>\n",
       "      <td>257800</td>\n",
       "      <td>False</td>\n",
       "      <td>0.244</td>\n",
       "      <td>0.205</td>\n",
       "      <td>3</td>\n",
       "      <td>-15.596</td>\n",
       "      <td>1</td>\n",
       "      <td>0.0367</td>\n",
       "      <td>0.984</td>\n",
       "      <td>0.329000</td>\n",
       "      <td>0.0788</td>\n",
       "      <td>0.0750</td>\n",
       "      <td>71.370</td>\n",
       "      <td>4</td>\n",
       "      <td>opera</td>\n",
       "    </tr>\n",
       "  </tbody>\n",
       "</table>\n",
       "</div>"
      ],
      "text/plain": [
       "      popularity  duration_ms  explicit  danceability  energy  key  loudness  \\\n",
       "1495          23       352371     False         0.273   0.122    0   -22.173   \n",
       "1496          22       204310     False         0.457   0.498    6    -8.387   \n",
       "1497          23       225506     False         0.241   0.207    1   -16.353   \n",
       "1498          23       148600     False         0.280   0.208    5   -20.158   \n",
       "1499          23       257800     False         0.244   0.205    3   -15.596   \n",
       "\n",
       "      mode  speechiness  acousticness  instrumentalness  liveness  valence  \\\n",
       "1495     0       0.0575         0.960          0.003330    0.0635   0.0731   \n",
       "1496     1       0.0368         0.766          0.000002    0.2890   0.2020   \n",
       "1497     1       0.0374         0.982          0.002260    0.1140   0.0735   \n",
       "1498     1       0.0521         0.941          0.000200    0.4100   0.2410   \n",
       "1499     1       0.0367         0.984          0.329000    0.0788   0.0750   \n",
       "\n",
       "        tempo  time_signature track_genre  \n",
       "1495  117.718               4       opera  \n",
       "1496  116.255               4       opera  \n",
       "1497   86.885               1       opera  \n",
       "1498   90.477               4       opera  \n",
       "1499   71.370               4       opera  "
      ]
     },
     "execution_count": 42,
     "metadata": {},
     "output_type": "execute_result"
    }
   ],
   "source": [
    "df = pd.read_csv(\"./tracks.csv\")\n",
    "df.tail()"
   ]
  },
  {
   "cell_type": "code",
   "execution_count": 43,
   "metadata": {
    "colab": {
     "base_uri": "https://localhost:8080/",
     "height": 586
    },
    "id": "pJfY3CyobJNk",
    "outputId": "2f6b5045-3db8-40cc-f0a4-6ba57a33cdb4"
   },
   "outputs": [
    {
     "data": {
      "text/plain": [
       "popularity          0\n",
       "duration_ms         0\n",
       "explicit            0\n",
       "danceability        0\n",
       "energy              0\n",
       "key                 0\n",
       "loudness            0\n",
       "mode                0\n",
       "speechiness         0\n",
       "acousticness        0\n",
       "instrumentalness    0\n",
       "liveness            0\n",
       "valence             0\n",
       "tempo               0\n",
       "time_signature      0\n",
       "track_genre         0\n",
       "dtype: int64"
      ]
     },
     "execution_count": 43,
     "metadata": {},
     "output_type": "execute_result"
    }
   ],
   "source": [
    "df.isna().sum()"
   ]
  },
  {
   "cell_type": "markdown",
   "metadata": {
    "id": "vjmhIp3lsACw"
   },
   "source": [
    "Genre is dropped, as it is categorical data.\n",
    "\n",
    "Explicit is mapped to 0 and 1, to replace the bool, as well as to be more consistent with other features being in the range of 0-1\n",
    "\n",
    "Popularity is changed to a boolean value of 0 and 1, with songs ranked over 50 being considered popular. This produced better results for clustering and a more definitive silhouette coefficient."
   ]
  },
  {
   "cell_type": "code",
   "execution_count": 44,
   "metadata": {
    "colab": {
     "base_uri": "https://localhost:8080/",
     "height": 262
    },
    "id": "CynoDm_RGn3k",
    "outputId": "415e22b4-db02-4630-bde0-71ecd54f9ad8"
   },
   "outputs": [
    {
     "data": {
      "text/html": [
       "<div>\n",
       "<style scoped>\n",
       "    .dataframe tbody tr th:only-of-type {\n",
       "        vertical-align: middle;\n",
       "    }\n",
       "\n",
       "    .dataframe tbody tr th {\n",
       "        vertical-align: top;\n",
       "    }\n",
       "\n",
       "    .dataframe thead th {\n",
       "        text-align: right;\n",
       "    }\n",
       "</style>\n",
       "<table border=\"1\" class=\"dataframe\">\n",
       "  <thead>\n",
       "    <tr style=\"text-align: right;\">\n",
       "      <th></th>\n",
       "      <th>popularity</th>\n",
       "      <th>duration_ms</th>\n",
       "      <th>explicit</th>\n",
       "      <th>danceability</th>\n",
       "      <th>energy</th>\n",
       "      <th>key</th>\n",
       "      <th>loudness</th>\n",
       "      <th>mode</th>\n",
       "      <th>speechiness</th>\n",
       "      <th>acousticness</th>\n",
       "      <th>instrumentalness</th>\n",
       "      <th>liveness</th>\n",
       "      <th>valence</th>\n",
       "      <th>tempo</th>\n",
       "      <th>time_signature</th>\n",
       "    </tr>\n",
       "  </thead>\n",
       "  <tbody>\n",
       "    <tr>\n",
       "      <th>1495</th>\n",
       "      <td>0</td>\n",
       "      <td>352371</td>\n",
       "      <td>0</td>\n",
       "      <td>0.273</td>\n",
       "      <td>0.122</td>\n",
       "      <td>0</td>\n",
       "      <td>-22.173</td>\n",
       "      <td>0</td>\n",
       "      <td>0.0575</td>\n",
       "      <td>0.960</td>\n",
       "      <td>0.003330</td>\n",
       "      <td>0.0635</td>\n",
       "      <td>0.0731</td>\n",
       "      <td>117.718</td>\n",
       "      <td>4</td>\n",
       "    </tr>\n",
       "    <tr>\n",
       "      <th>1496</th>\n",
       "      <td>0</td>\n",
       "      <td>204310</td>\n",
       "      <td>0</td>\n",
       "      <td>0.457</td>\n",
       "      <td>0.498</td>\n",
       "      <td>6</td>\n",
       "      <td>-8.387</td>\n",
       "      <td>1</td>\n",
       "      <td>0.0368</td>\n",
       "      <td>0.766</td>\n",
       "      <td>0.000002</td>\n",
       "      <td>0.2890</td>\n",
       "      <td>0.2020</td>\n",
       "      <td>116.255</td>\n",
       "      <td>4</td>\n",
       "    </tr>\n",
       "    <tr>\n",
       "      <th>1497</th>\n",
       "      <td>0</td>\n",
       "      <td>225506</td>\n",
       "      <td>0</td>\n",
       "      <td>0.241</td>\n",
       "      <td>0.207</td>\n",
       "      <td>1</td>\n",
       "      <td>-16.353</td>\n",
       "      <td>1</td>\n",
       "      <td>0.0374</td>\n",
       "      <td>0.982</td>\n",
       "      <td>0.002260</td>\n",
       "      <td>0.1140</td>\n",
       "      <td>0.0735</td>\n",
       "      <td>86.885</td>\n",
       "      <td>1</td>\n",
       "    </tr>\n",
       "    <tr>\n",
       "      <th>1498</th>\n",
       "      <td>0</td>\n",
       "      <td>148600</td>\n",
       "      <td>0</td>\n",
       "      <td>0.280</td>\n",
       "      <td>0.208</td>\n",
       "      <td>5</td>\n",
       "      <td>-20.158</td>\n",
       "      <td>1</td>\n",
       "      <td>0.0521</td>\n",
       "      <td>0.941</td>\n",
       "      <td>0.000200</td>\n",
       "      <td>0.4100</td>\n",
       "      <td>0.2410</td>\n",
       "      <td>90.477</td>\n",
       "      <td>4</td>\n",
       "    </tr>\n",
       "    <tr>\n",
       "      <th>1499</th>\n",
       "      <td>0</td>\n",
       "      <td>257800</td>\n",
       "      <td>0</td>\n",
       "      <td>0.244</td>\n",
       "      <td>0.205</td>\n",
       "      <td>3</td>\n",
       "      <td>-15.596</td>\n",
       "      <td>1</td>\n",
       "      <td>0.0367</td>\n",
       "      <td>0.984</td>\n",
       "      <td>0.329000</td>\n",
       "      <td>0.0788</td>\n",
       "      <td>0.0750</td>\n",
       "      <td>71.370</td>\n",
       "      <td>4</td>\n",
       "    </tr>\n",
       "  </tbody>\n",
       "</table>\n",
       "</div>"
      ],
      "text/plain": [
       "      popularity  duration_ms  explicit  danceability  energy  key  loudness  \\\n",
       "1495           0       352371         0         0.273   0.122    0   -22.173   \n",
       "1496           0       204310         0         0.457   0.498    6    -8.387   \n",
       "1497           0       225506         0         0.241   0.207    1   -16.353   \n",
       "1498           0       148600         0         0.280   0.208    5   -20.158   \n",
       "1499           0       257800         0         0.244   0.205    3   -15.596   \n",
       "\n",
       "      mode  speechiness  acousticness  instrumentalness  liveness  valence  \\\n",
       "1495     0       0.0575         0.960          0.003330    0.0635   0.0731   \n",
       "1496     1       0.0368         0.766          0.000002    0.2890   0.2020   \n",
       "1497     1       0.0374         0.982          0.002260    0.1140   0.0735   \n",
       "1498     1       0.0521         0.941          0.000200    0.4100   0.2410   \n",
       "1499     1       0.0367         0.984          0.329000    0.0788   0.0750   \n",
       "\n",
       "        tempo  time_signature  \n",
       "1495  117.718               4  \n",
       "1496  116.255               4  \n",
       "1497   86.885               1  \n",
       "1498   90.477               4  \n",
       "1499   71.370               4  "
      ]
     },
     "execution_count": 44,
     "metadata": {},
     "output_type": "execute_result"
    }
   ],
   "source": [
    "df.drop(columns=[\"track_genre\"], inplace=True, errors='ignore')\n",
    "\n",
    "bool_mapper = {\n",
    "    False: 0,\n",
    "    True: 1,\n",
    "}\n",
    "df['popularity'] = df['popularity'].apply(lambda x: 1 if x > 50 else 0)\n",
    "df['explicit'] = df['explicit'].replace(bool_mapper)\n",
    "df.tail()"
   ]
  },
  {
   "cell_type": "code",
   "execution_count": 45,
   "metadata": {
    "colab": {
     "base_uri": "https://localhost:8080/"
    },
    "id": "QWwWAKJAHvH2",
    "outputId": "fdb6fee5-cb7c-4840-8a04-53a6459ba37a"
   },
   "outputs": [
    {
     "name": "stdout",
     "output_type": "stream",
     "text": [
      "(number of examples, number of attributes):  (1500, 15)\n"
     ]
    }
   ],
   "source": [
    "data = np.array(df.values, dtype=float)\n",
    "print('(number of examples, number of attributes): ', data.shape)"
   ]
  },
  {
   "cell_type": "code",
   "execution_count": 46,
   "metadata": {
    "id": "B1cVvq__SyIz"
   },
   "outputs": [],
   "source": [
    "min_max_scaler = preprocessing.MinMaxScaler()\n",
    "data = min_max_scaler.fit_transform(data)"
   ]
  },
  {
   "cell_type": "markdown",
   "metadata": {
    "id": "Wdxj1CXPSyIz"
   },
   "source": [
    "---\n",
    "\n",
    "### Scatterplot\n",
    "\n",
    "\n"
   ]
  },
  {
   "cell_type": "code",
   "execution_count": 47,
   "metadata": {
    "id": "ASm7QpxoSyIz"
   },
   "outputs": [],
   "source": [
    "colors = np.array(['orange', 'blue', 'lime', 'khaki', 'pink', 'green', 'purple'])\n",
    "\n",
    "# points - a 2D array of (x,y) coordinates of data points\n",
    "# labels - an array of numeric labels in the interval [0..k-1], one for each point\n",
    "# centers - a 2D array of (x, y) coordinates of cluster centers\n",
    "# title - title of the plot\n",
    "\n",
    "\n",
    "def clustering_scatterplot(points, labels, centers, title):\n",
    "\n",
    "\n",
    "    n_clusters = np.unique(labels).size\n",
    "    for i in range(n_clusters):\n",
    "        h = plt.scatter(points[labels==i,0],\n",
    "                        points[labels==i,1],\n",
    "                        c=colors[i%colors.size],\n",
    "                        label = 'cluster '+str(i))\n",
    "\n",
    "    # plot the centers of the clusters\n",
    "    if centers is not None:\n",
    "        plt.scatter(centers[:,0], centers[:,1], c='r', marker='*', s=500)\n",
    "\n",
    "    _ = plt.title(title)\n",
    "    _ = plt.legend()\n",
    "    _ = plt.xlabel('x')\n",
    "    _ = plt.ylabel('y')"
   ]
  },
  {
   "cell_type": "markdown",
   "metadata": {
    "id": "aPnzX-9hSyI0"
   },
   "source": [
    "---\n",
    "### K-Means Clustering (Roy)"
   ]
  },
  {
   "cell_type": "markdown",
   "metadata": {
    "id": "jArjQRDESyI1"
   },
   "source": [
    "Number of clusters $k$."
   ]
  },
  {
   "cell_type": "markdown",
   "metadata": {
    "id": "CSbe_GSyukPV"
   },
   "source": [
    "For determining the ideal value of K, the elbow-method was used, mapping the sum of squares of the clusters to the graph. When the decline starts to flatten, like a bent elbow, that is the ideal value of k.\n",
    "\n",
    "Through this, k=3 was the ideal value of k"
   ]
  },
  {
   "cell_type": "code",
   "execution_count": 48,
   "metadata": {
    "colab": {
     "base_uri": "https://localhost:8080/",
     "height": 487
    },
    "id": "zuGHtbBMnZdu",
    "outputId": "b9a165cc-f8a5-4e1b-db20-e3173c764412"
   },
   "outputs": [
    {
     "data": {
      "image/png": "[encoded data removed]",
      "text/plain": [
       "<Figure size 576x360 with 1 Axes>"
      ]
     },
     "metadata": {
      "needs_background": "light"
     },
     "output_type": "display_data"
    }
   ],
   "source": [
    "inertias = [] # the sum of squared distances\n",
    "k_values = range(1, 11)\n",
    "\n",
    "for k in k_values:\n",
    "    kmeans = cluster.KMeans(n_clusters=k, random_state=42, n_init=10)\n",
    "    kmeans.fit(data)\n",
    "    inertias.append(kmeans.inertia_)\n",
    "\n",
    "plt.figure(figsize=(8, 5))\n",
    "plt.plot(k_values, inertias, marker='o', linestyle='--')\n",
    "plt.xlabel('Number of Clusters (k)')\n",
    "plt.ylabel('Within-Cluster Sum of Squares (inertias)')\n",
    "plt.title('Elbow Method for Optimal k')\n",
    "plt.grid(True)\n",
    "plt.show()"
   ]
  },
  {
   "cell_type": "code",
   "execution_count": 49,
   "metadata": {
    "id": "ImxH7i9uSyI1"
   },
   "outputs": [],
   "source": [
    "k = 4"
   ]
  },
  {
   "cell_type": "markdown",
   "metadata": {
    "id": "NvwTlsC1SyI1"
   },
   "source": [
    "#### Run k-Means"
   ]
  },
  {
   "cell_type": "code",
   "execution_count": 50,
   "metadata": {
    "id": "7aqgn9hXSyI1"
   },
   "outputs": [],
   "source": [
    "clustered_data_sklearn = cluster.KMeans(n_clusters=k, n_init=10, max_iter=300).fit(data)"
   ]
  },
  {
   "cell_type": "markdown",
   "metadata": {
    "id": "7I5zHtP2SyI2"
   },
   "source": [
    "### E. Apply a manifold-learning technique to project the data set to a 2D space\n",
    "\n",
    "https://scikit-learn.org/stable/modules/manifold.html"
   ]
  },
  {
   "cell_type": "markdown",
   "metadata": {
    "id": "uylJksO9SyI2"
   },
   "source": [
    "Append the cluster centers to the dataset."
   ]
  },
  {
   "cell_type": "code",
   "execution_count": 51,
   "metadata": {
    "id": "owttC7cFSyI2"
   },
   "outputs": [],
   "source": [
    "data_and_centers = np.r_[data,clustered_data_sklearn.cluster_centers_]"
   ]
  },
  {
   "cell_type": "markdown",
   "metadata": {
    "id": "Skv4QLH2SyI3"
   },
   "source": [
    "#### E2. Apply t-SNE to project both the data and the k-Means cluster centers to a 2D space"
   ]
  },
  {
   "cell_type": "markdown",
   "metadata": {
    "id": "y2EGUrZESyI4"
   },
   "source": [
    "Project both the data and the k-Means cluster centers to 2D."
   ]
  },
  {
   "cell_type": "code",
   "execution_count": 52,
   "metadata": {
    "colab": {
     "base_uri": "https://localhost:8080/"
    },
    "id": "6lKVri4WSyI4",
    "outputId": "cbb36631-ee01-4c41-f432-5ac779296463"
   },
   "outputs": [
    {
     "name": "stdout",
     "output_type": "stream",
     "text": [
      "transformation complete\n"
     ]
    }
   ],
   "source": [
    "XYcoordinates = manifold.TSNE(n_components=2).fit_transform(data_and_centers)\n",
    "print(\"transformation complete\")"
   ]
  },
  {
   "cell_type": "code",
   "execution_count": 53,
   "metadata": {
    "colab": {
     "base_uri": "https://localhost:8080/",
     "height": 472
    },
    "id": "Ew4A5RN6SyI4",
    "outputId": "c0f672ce-8160-4783-fabc-b8fa42719746"
   },
   "outputs": [
    {
     "data": {
      "image/png": "[encoded data removed]",
      "text/plain": [
       "<Figure size 432x288 with 1 Axes>"
      ]
     },
     "metadata": {
      "needs_background": "light"
     },
     "output_type": "display_data"
    }
   ],
   "source": [
    "clustering_scatterplot(points=XYcoordinates[:-k,:],\n",
    "                       labels=clustered_data_sklearn.labels_,\n",
    "                       centers=XYcoordinates[-k:,:],\n",
    "                       title='Tracks clustered by T-SNE')"
   ]
  },
  {
   "cell_type": "markdown",
   "metadata": {
    "id": "SeHJehewSyI4"
   },
   "source": [
    "### F. Cluster Analysis"
   ]
  },
  {
   "cell_type": "markdown",
   "metadata": {
    "id": "J08Vn5RPSyI5"
   },
   "source": [
    "#### Add the cluster labels as an extra column in the original dataframe"
   ]
  },
  {
   "cell_type": "code",
   "execution_count": 54,
   "metadata": {
    "id": "jg1G54JMSyI5"
   },
   "outputs": [],
   "source": [
    "df['cluster'] = pd.Series(clustered_data_sklearn.labels_, index=df.index)"
   ]
  },
  {
   "cell_type": "code",
   "execution_count": 55,
   "metadata": {
    "colab": {
     "base_uri": "https://localhost:8080/",
     "height": 226
    },
    "id": "ZBpA-q1eSyI5",
    "outputId": "21b49670-7764-46f4-baf1-d91cf5a82cdc"
   },
   "outputs": [
    {
     "data": {
      "text/html": [
       "<div>\n",
       "<style scoped>\n",
       "    .dataframe tbody tr th:only-of-type {\n",
       "        vertical-align: middle;\n",
       "    }\n",
       "\n",
       "    .dataframe tbody tr th {\n",
       "        vertical-align: top;\n",
       "    }\n",
       "\n",
       "    .dataframe thead th {\n",
       "        text-align: right;\n",
       "    }\n",
       "</style>\n",
       "<table border=\"1\" class=\"dataframe\">\n",
       "  <thead>\n",
       "    <tr style=\"text-align: right;\">\n",
       "      <th></th>\n",
       "      <th>popularity</th>\n",
       "      <th>duration_ms</th>\n",
       "      <th>explicit</th>\n",
       "      <th>danceability</th>\n",
       "      <th>energy</th>\n",
       "      <th>key</th>\n",
       "      <th>loudness</th>\n",
       "      <th>mode</th>\n",
       "      <th>speechiness</th>\n",
       "      <th>acousticness</th>\n",
       "      <th>instrumentalness</th>\n",
       "      <th>liveness</th>\n",
       "      <th>valence</th>\n",
       "      <th>tempo</th>\n",
       "      <th>time_signature</th>\n",
       "      <th>cluster</th>\n",
       "    </tr>\n",
       "  </thead>\n",
       "  <tbody>\n",
       "    <tr>\n",
       "      <th>1495</th>\n",
       "      <td>0</td>\n",
       "      <td>352371</td>\n",
       "      <td>0</td>\n",
       "      <td>0.273</td>\n",
       "      <td>0.122</td>\n",
       "      <td>0</td>\n",
       "      <td>-22.173</td>\n",
       "      <td>0</td>\n",
       "      <td>0.0575</td>\n",
       "      <td>0.960</td>\n",
       "      <td>0.003330</td>\n",
       "      <td>0.0635</td>\n",
       "      <td>0.0731</td>\n",
       "      <td>117.718</td>\n",
       "      <td>4</td>\n",
       "      <td>3</td>\n",
       "    </tr>\n",
       "    <tr>\n",
       "      <th>1496</th>\n",
       "      <td>0</td>\n",
       "      <td>204310</td>\n",
       "      <td>0</td>\n",
       "      <td>0.457</td>\n",
       "      <td>0.498</td>\n",
       "      <td>6</td>\n",
       "      <td>-8.387</td>\n",
       "      <td>1</td>\n",
       "      <td>0.0368</td>\n",
       "      <td>0.766</td>\n",
       "      <td>0.000002</td>\n",
       "      <td>0.2890</td>\n",
       "      <td>0.2020</td>\n",
       "      <td>116.255</td>\n",
       "      <td>4</td>\n",
       "      <td>3</td>\n",
       "    </tr>\n",
       "    <tr>\n",
       "      <th>1497</th>\n",
       "      <td>0</td>\n",
       "      <td>225506</td>\n",
       "      <td>0</td>\n",
       "      <td>0.241</td>\n",
       "      <td>0.207</td>\n",
       "      <td>1</td>\n",
       "      <td>-16.353</td>\n",
       "      <td>1</td>\n",
       "      <td>0.0374</td>\n",
       "      <td>0.982</td>\n",
       "      <td>0.002260</td>\n",
       "      <td>0.1140</td>\n",
       "      <td>0.0735</td>\n",
       "      <td>86.885</td>\n",
       "      <td>1</td>\n",
       "      <td>3</td>\n",
       "    </tr>\n",
       "    <tr>\n",
       "      <th>1498</th>\n",
       "      <td>0</td>\n",
       "      <td>148600</td>\n",
       "      <td>0</td>\n",
       "      <td>0.280</td>\n",
       "      <td>0.208</td>\n",
       "      <td>5</td>\n",
       "      <td>-20.158</td>\n",
       "      <td>1</td>\n",
       "      <td>0.0521</td>\n",
       "      <td>0.941</td>\n",
       "      <td>0.000200</td>\n",
       "      <td>0.4100</td>\n",
       "      <td>0.2410</td>\n",
       "      <td>90.477</td>\n",
       "      <td>4</td>\n",
       "      <td>3</td>\n",
       "    </tr>\n",
       "    <tr>\n",
       "      <th>1499</th>\n",
       "      <td>0</td>\n",
       "      <td>257800</td>\n",
       "      <td>0</td>\n",
       "      <td>0.244</td>\n",
       "      <td>0.205</td>\n",
       "      <td>3</td>\n",
       "      <td>-15.596</td>\n",
       "      <td>1</td>\n",
       "      <td>0.0367</td>\n",
       "      <td>0.984</td>\n",
       "      <td>0.329000</td>\n",
       "      <td>0.0788</td>\n",
       "      <td>0.0750</td>\n",
       "      <td>71.370</td>\n",
       "      <td>4</td>\n",
       "      <td>3</td>\n",
       "    </tr>\n",
       "  </tbody>\n",
       "</table>\n",
       "</div>"
      ],
      "text/plain": [
       "      popularity  duration_ms  explicit  danceability  energy  key  loudness  \\\n",
       "1495           0       352371         0         0.273   0.122    0   -22.173   \n",
       "1496           0       204310         0         0.457   0.498    6    -8.387   \n",
       "1497           0       225506         0         0.241   0.207    1   -16.353   \n",
       "1498           0       148600         0         0.280   0.208    5   -20.158   \n",
       "1499           0       257800         0         0.244   0.205    3   -15.596   \n",
       "\n",
       "      mode  speechiness  acousticness  instrumentalness  liveness  valence  \\\n",
       "1495     0       0.0575         0.960          0.003330    0.0635   0.0731   \n",
       "1496     1       0.0368         0.766          0.000002    0.2890   0.2020   \n",
       "1497     1       0.0374         0.982          0.002260    0.1140   0.0735   \n",
       "1498     1       0.0521         0.941          0.000200    0.4100   0.2410   \n",
       "1499     1       0.0367         0.984          0.329000    0.0788   0.0750   \n",
       "\n",
       "        tempo  time_signature  cluster  \n",
       "1495  117.718               4        3  \n",
       "1496  116.255               4        3  \n",
       "1497   86.885               1        3  \n",
       "1498   90.477               4        3  \n",
       "1499   71.370               4        3  "
      ]
     },
     "execution_count": 55,
     "metadata": {},
     "output_type": "execute_result"
    }
   ],
   "source": [
    "df.tail()"
   ]
  },
  {
   "cell_type": "markdown",
   "metadata": {
    "id": "fswl5KBiSyI6"
   },
   "source": [
    "#### Compute the mean value of each attribute for each cluster"
   ]
  },
  {
   "cell_type": "code",
   "execution_count": 56,
   "metadata": {
    "colab": {
     "base_uri": "https://localhost:8080/",
     "height": 226
    },
    "id": "kVulG_1uSyI6",
    "outputId": "c3901526-7f80-401d-ada5-3992abfb6fc3"
   },
   "outputs": [
    {
     "data": {
      "text/html": [
       "<div>\n",
       "<style scoped>\n",
       "    .dataframe tbody tr th:only-of-type {\n",
       "        vertical-align: middle;\n",
       "    }\n",
       "\n",
       "    .dataframe tbody tr th {\n",
       "        vertical-align: top;\n",
       "    }\n",
       "\n",
       "    .dataframe thead th {\n",
       "        text-align: right;\n",
       "    }\n",
       "</style>\n",
       "<table border=\"1\" class=\"dataframe\">\n",
       "  <thead>\n",
       "    <tr style=\"text-align: right;\">\n",
       "      <th></th>\n",
       "      <th>popularity</th>\n",
       "      <th>duration_ms</th>\n",
       "      <th>explicit</th>\n",
       "      <th>danceability</th>\n",
       "      <th>energy</th>\n",
       "      <th>key</th>\n",
       "      <th>loudness</th>\n",
       "      <th>mode</th>\n",
       "      <th>speechiness</th>\n",
       "      <th>acousticness</th>\n",
       "      <th>instrumentalness</th>\n",
       "      <th>liveness</th>\n",
       "      <th>valence</th>\n",
       "      <th>tempo</th>\n",
       "      <th>time_signature</th>\n",
       "    </tr>\n",
       "    <tr>\n",
       "      <th>cluster</th>\n",
       "      <th></th>\n",
       "      <th></th>\n",
       "      <th></th>\n",
       "      <th></th>\n",
       "      <th></th>\n",
       "      <th></th>\n",
       "      <th></th>\n",
       "      <th></th>\n",
       "      <th></th>\n",
       "      <th></th>\n",
       "      <th></th>\n",
       "      <th></th>\n",
       "      <th></th>\n",
       "      <th></th>\n",
       "      <th></th>\n",
       "    </tr>\n",
       "  </thead>\n",
       "  <tbody>\n",
       "    <tr>\n",
       "      <th>0</th>\n",
       "      <td>0.000000</td>\n",
       "      <td>201258.824847</td>\n",
       "      <td>0.148676</td>\n",
       "      <td>0.632939</td>\n",
       "      <td>0.750532</td>\n",
       "      <td>4.680244</td>\n",
       "      <td>-5.696859</td>\n",
       "      <td>1.000000</td>\n",
       "      <td>0.094738</td>\n",
       "      <td>0.113558</td>\n",
       "      <td>0.199518</td>\n",
       "      <td>0.205758</td>\n",
       "      <td>0.445613</td>\n",
       "      <td>126.521436</td>\n",
       "      <td>3.967413</td>\n",
       "    </tr>\n",
       "    <tr>\n",
       "      <th>1</th>\n",
       "      <td>0.000000</td>\n",
       "      <td>206556.031429</td>\n",
       "      <td>0.165714</td>\n",
       "      <td>0.626766</td>\n",
       "      <td>0.711989</td>\n",
       "      <td>5.834286</td>\n",
       "      <td>-6.104851</td>\n",
       "      <td>0.000000</td>\n",
       "      <td>0.097500</td>\n",
       "      <td>0.156858</td>\n",
       "      <td>0.108718</td>\n",
       "      <td>0.195755</td>\n",
       "      <td>0.437807</td>\n",
       "      <td>119.129166</td>\n",
       "      <td>3.971429</td>\n",
       "    </tr>\n",
       "    <tr>\n",
       "      <th>2</th>\n",
       "      <td>1.000000</td>\n",
       "      <td>201642.031373</td>\n",
       "      <td>0.101961</td>\n",
       "      <td>0.620663</td>\n",
       "      <td>0.674706</td>\n",
       "      <td>4.992157</td>\n",
       "      <td>-5.984176</td>\n",
       "      <td>0.545098</td>\n",
       "      <td>0.067861</td>\n",
       "      <td>0.222890</td>\n",
       "      <td>0.119830</td>\n",
       "      <td>0.162611</td>\n",
       "      <td>0.453702</td>\n",
       "      <td>117.909627</td>\n",
       "      <td>3.929412</td>\n",
       "    </tr>\n",
       "    <tr>\n",
       "      <th>3</th>\n",
       "      <td>0.089109</td>\n",
       "      <td>227942.995050</td>\n",
       "      <td>0.000000</td>\n",
       "      <td>0.304934</td>\n",
       "      <td>0.252006</td>\n",
       "      <td>4.831683</td>\n",
       "      <td>-14.871869</td>\n",
       "      <td>0.868812</td>\n",
       "      <td>0.045222</td>\n",
       "      <td>0.877228</td>\n",
       "      <td>0.206267</td>\n",
       "      <td>0.201147</td>\n",
       "      <td>0.198265</td>\n",
       "      <td>102.729101</td>\n",
       "      <td>3.663366</td>\n",
       "    </tr>\n",
       "  </tbody>\n",
       "</table>\n",
       "</div>"
      ],
      "text/plain": [
       "         popularity    duration_ms  explicit  danceability    energy  \\\n",
       "cluster                                                                \n",
       "0          0.000000  201258.824847  0.148676      0.632939  0.750532   \n",
       "1          0.000000  206556.031429  0.165714      0.626766  0.711989   \n",
       "2          1.000000  201642.031373  0.101961      0.620663  0.674706   \n",
       "3          0.089109  227942.995050  0.000000      0.304934  0.252006   \n",
       "\n",
       "              key   loudness      mode  speechiness  acousticness  \\\n",
       "cluster                                                             \n",
       "0        4.680244  -5.696859  1.000000     0.094738      0.113558   \n",
       "1        5.834286  -6.104851  0.000000     0.097500      0.156858   \n",
       "2        4.992157  -5.984176  0.545098     0.067861      0.222890   \n",
       "3        4.831683 -14.871869  0.868812     0.045222      0.877228   \n",
       "\n",
       "         instrumentalness  liveness   valence       tempo  time_signature  \n",
       "cluster                                                                    \n",
       "0                0.199518  0.205758  0.445613  126.521436        3.967413  \n",
       "1                0.108718  0.195755  0.437807  119.129166        3.971429  \n",
       "2                0.119830  0.162611  0.453702  117.909627        3.929412  \n",
       "3                0.206267  0.201147  0.198265  102.729101        3.663366  "
      ]
     },
     "execution_count": 56,
     "metadata": {},
     "output_type": "execute_result"
    }
   ],
   "source": [
    "df.groupby('cluster').mean()"
   ]
  },
  {
   "cell_type": "markdown",
   "metadata": {
    "id": "Dt55CprVSyI6"
   },
   "source": [
    "- Cluster 0 are unpopular tracks all in major.\n",
    "- Cluster 1 are quieter, acoustic, lower-tempo, lower-energy tracks.\n",
    "- Cluster 2 tracks that rank from 50-100 in popularity.\n",
    "- Cluster 3 are unpopular tracks all in minor."
   ]
  },
  {
   "cell_type": "markdown",
   "metadata": {
    "id": "cWBQYQ77wbXW"
   },
   "source": [
    "# Clustering with DBScan"
   ]
  },
  {
   "cell_type": "code",
   "execution_count": 57,
   "metadata": {},
   "outputs": [],
   "source": [
    "data = df[['loudness', 'energy']].dropna().values"
   ]
  },
  {
   "cell_type": "code",
   "execution_count": 58,
   "metadata": {},
   "outputs": [],
   "source": [
    "# DBSCAN parameters\n",
    "epsilon = 2\n",
    "min_samples = 10\n",
    "\n",
    "# Run DBSCAN\n",
    "db = DBSCAN(eps=epsilon, min_samples=min_samples).fit(data)\n",
    "labels = db.labels_\n",
    "\n",
    "scaled_data = StandardScaler().fit_transform(data)"
   ]
  },
  {
   "cell_type": "code",
   "execution_count": 59,
   "metadata": {},
   "outputs": [
    {
     "data": {
      "image/png": "[encoded data removed]",
      "text/plain": [
       "<Figure size 432x288 with 1 Axes>"
      ]
     },
     "metadata": {
      "needs_background": "light"
     },
     "output_type": "display_data"
    }
   ],
   "source": [
    "# Map labels to colors\n",
    "colors = list(map(lambda x: '#3b4cc0' if x == 1 else '#b40426' if x == 0 else '#9e9e9e', labels))\n",
    "\n",
    "plt.scatter(scaled_data[:, 1], data[:, 0], c=colors, marker=\"o\", picker=True)\n",
    "plt.title('DBSCAN Clustering on Tracks Data')\n",
    "plt.xlabel('Feature 1: Loudness')\n",
    "plt.ylabel('Feature 2: Energy')\n",
    "plt.show()"
   ]
  },
  {
   "cell_type": "code",
   "execution_count": 60,
   "metadata": {},
   "outputs": [
    {
     "name": "stderr",
     "output_type": "stream",
     "text": [
      "/Users/adamgreenan/opt/anaconda3/lib/python3.8/site-packages/sklearn/manifold/_mds.py:298: FutureWarning: The default value of `normalized_stress` will change to `'auto'` in version 1.4. To suppress this warning, manually set the value of `normalized_stress`.\n",
      "  warnings.warn(\n"
     ]
    },
    {
     "data": {
      "image/png": "[encoded data removed]",
      "text/plain": [
       "<Figure size 576x432 with 2 Axes>"
      ]
     },
     "metadata": {
      "needs_background": "light"
     },
     "output_type": "display_data"
    }
   ],
   "source": [
    "X = df.select_dtypes(include=['int64', 'float64'])\n",
    "\n",
    "# Apply DBSCAN clustering\n",
    "dbscan = DBSCAN(eps=0.5, min_samples=5)\n",
    "labels = dbscan.fit_predict(X)\n",
    "\n",
    "# Use t-SNE for visualization\n",
    "tsne = TSNE(n_components=2, random_state=42)\n",
    "X_tsne = tsne.fit_transform(X)\n",
    "\n",
    "mds = MDS(n_components=2, random_state=42)\n",
    "X_mds = mds.fit_transform(X)\n",
    "\n",
    "# Plot the results\n",
    "plt.figure(figsize=(8, 6))\n",
    "plt.scatter(X_tsne[:, 0], X_tsne[:, 1], c=labels, cmap='viridis', s=10)\n",
    "plt.title(\"DBSCAN Clusters with t-SNE Visualization\")\n",
    "plt.colorbar(label='Cluster Label')\n",
    "plt.show()"
   ]
  },
  {
   "cell_type": "code",
   "execution_count": 61,
   "metadata": {},
   "outputs": [
    {
     "data": {
      "image/png": "[encoded data removed]",
      "text/plain": [
       "<Figure size 576x432 with 2 Axes>"
      ]
     },
     "metadata": {
      "needs_background": "light"
     },
     "output_type": "display_data"
    }
   ],
   "source": [
    "plt.figure(figsize=(8, 6))\n",
    "plt.scatter(X_mds[:, 0], X_mds[:, 1], c=labels, cmap='viridis', s=10)\n",
    "plt.title(\"DBSCAN Clusters with MDS Visualization\")\n",
    "plt.colorbar(label='Cluster Label')\n",
    "plt.show()"
   ]
  },
  {
   "cell_type": "markdown",
   "metadata": {},
   "source": [
    "# Conclusion"
   ]
  },
  {
   "cell_type": "markdown",
   "metadata": {},
   "source": [
    "k-means clustering assumes that clusters are spherical and equally sized. It performed well in forming clear, compact clusters when the number of clusters (k) was appropriately chosen. However, it required setting k manually in advance, and its performance degraded if the true clusters were not globular or were very differently sized.\n",
    "\n",
    "DBSCAN (Density-Based Spatial Clustering of Applications with Noise), on the other hand, does not require specifying the number of clusters beforehand. It was able to discover clusters of arbitrary shape and effectively identified noise points (outliers). DBSCAN performed better when clusters were irregularly shaped but was sensitive to the choice of parameters like eps (neighborhood size) and min_samples (minimum points in a neighborhood)."
   ]
  }
 ],
 "metadata": {
  "accelerator": "GPU",
  "colab": {
   "gpuType": "T4",
   "provenance": []
  },
  "kernelspec": {
   "display_name": "Python 3",
   "language": "python",
   "name": "python3"
  },
  "language_info": {
   "codemirror_mode": {
    "name": "ipython",
    "version": 3
   },
   "file_extension": ".py",
   "mimetype": "text/x-python",
   "name": "python",
   "nbconvert_exporter": "python",
   "pygments_lexer": "ipython3",
   "version": "3.8.8"
  }
 },
 "nbformat": 4,
 "nbformat_minor": 1
}
