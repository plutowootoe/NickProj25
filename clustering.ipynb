{
 "cells": [
  {
   "cell_type": "markdown",
   "metadata": {
    "id": "B9xEH2HhSyIs"
   },
   "source": [
    "### Clustering\n",
    "\n",
    "---\n"
   ]
  },
  {
   "cell_type": "markdown",
   "metadata": {
    "id": "bmyxzpfESyIv"
   },
   "source": [
    "### A. Import Python Modules and Dataset"
   ]
  },
  {
   "cell_type": "code",
   "execution_count": 1,
   "metadata": {
    "ExecuteTime": {
     "end_time": "2025-04-27T19:54:17.982808Z",
     "start_time": "2025-04-27T19:54:14.040607Z"
    }
   },
   "outputs": [],
   "source": [
    "import pandas as pd\n",
    "import numpy as np\n",
    "import matplotlib.pyplot as plt\n",
    "\n",
    "from sklearn import manifold  #needed for and t-SNE\n",
    "from sklearn.manifold import TSNE, MDS\n",
    "from sklearn.cluster import DBSCAN\n",
    "from sklearn.metrics import silhouette_samples, silhouette_score\n",
    "from sklearn.preprocessing import StandardScaler\n",
    "from sklearn import cluster  #needed for k-Means clustering\n",
    "from sklearn import metrics  #needed for Silhouette method\n",
    "from sklearn import preprocessing  #needed for scaling attributes to the nterval [0,1]"
   ]
  },
  {
   "cell_type": "markdown",
   "metadata": {
    "id": "j7jOXo54SyIx"
   },
   "source": [
    "#### Load the dataset"
   ]
  },
  {
   "cell_type": "code",
   "execution_count": 2,
   "metadata": {
    "ExecuteTime": {
     "end_time": "2025-04-27T19:54:18.030810Z",
     "start_time": "2025-04-27T19:54:17.990812Z"
    },
    "colab": {
     "base_uri": "https://localhost:8080/",
     "height": 226
    },
    "id": "9iP_TLFLSyIx",
    "outputId": "b74bf9ce-fc25-4587-d1cd-b4dd59a74f84"
   },
   "outputs": [
    {
     "data": {
      "text/html": [
       "<div>\n",
       "<style scoped>\n",
       "    .dataframe tbody tr th:only-of-type {\n",
       "        vertical-align: middle;\n",
       "    }\n",
       "\n",
       "    .dataframe tbody tr th {\n",
       "        vertical-align: top;\n",
       "    }\n",
       "\n",
       "    .dataframe thead th {\n",
       "        text-align: right;\n",
       "    }\n",
       "</style>\n",
       "<table border=\"1\" class=\"dataframe\">\n",
       "  <thead>\n",
       "    <tr style=\"text-align: right;\">\n",
       "      <th></th>\n",
       "      <th>popularity</th>\n",
       "      <th>duration_ms</th>\n",
       "      <th>explicit</th>\n",
       "      <th>danceability</th>\n",
       "      <th>energy</th>\n",
       "      <th>key</th>\n",
       "      <th>loudness</th>\n",
       "      <th>mode</th>\n",
       "      <th>speechiness</th>\n",
       "      <th>acousticness</th>\n",
       "      <th>instrumentalness</th>\n",
       "      <th>liveness</th>\n",
       "      <th>valence</th>\n",
       "      <th>tempo</th>\n",
       "      <th>time_signature</th>\n",
       "      <th>track_genre</th>\n",
       "    </tr>\n",
       "  </thead>\n",
       "  <tbody>\n",
       "    <tr>\n",
       "      <th>1495</th>\n",
       "      <td>23</td>\n",
       "      <td>352371</td>\n",
       "      <td>False</td>\n",
       "      <td>0.273</td>\n",
       "      <td>0.122</td>\n",
       "      <td>0</td>\n",
       "      <td>-22.173</td>\n",
       "      <td>0</td>\n",
       "      <td>0.0575</td>\n",
       "      <td>0.960</td>\n",
       "      <td>0.003330</td>\n",
       "      <td>0.0635</td>\n",
       "      <td>0.0731</td>\n",
       "      <td>117.718</td>\n",
       "      <td>4</td>\n",
       "      <td>opera</td>\n",
       "    </tr>\n",
       "    <tr>\n",
       "      <th>1496</th>\n",
       "      <td>22</td>\n",
       "      <td>204310</td>\n",
       "      <td>False</td>\n",
       "      <td>0.457</td>\n",
       "      <td>0.498</td>\n",
       "      <td>6</td>\n",
       "      <td>-8.387</td>\n",
       "      <td>1</td>\n",
       "      <td>0.0368</td>\n",
       "      <td>0.766</td>\n",
       "      <td>0.000002</td>\n",
       "      <td>0.2890</td>\n",
       "      <td>0.2020</td>\n",
       "      <td>116.255</td>\n",
       "      <td>4</td>\n",
       "      <td>opera</td>\n",
       "    </tr>\n",
       "    <tr>\n",
       "      <th>1497</th>\n",
       "      <td>23</td>\n",
       "      <td>225506</td>\n",
       "      <td>False</td>\n",
       "      <td>0.241</td>\n",
       "      <td>0.207</td>\n",
       "      <td>1</td>\n",
       "      <td>-16.353</td>\n",
       "      <td>1</td>\n",
       "      <td>0.0374</td>\n",
       "      <td>0.982</td>\n",
       "      <td>0.002260</td>\n",
       "      <td>0.1140</td>\n",
       "      <td>0.0735</td>\n",
       "      <td>86.885</td>\n",
       "      <td>1</td>\n",
       "      <td>opera</td>\n",
       "    </tr>\n",
       "    <tr>\n",
       "      <th>1498</th>\n",
       "      <td>23</td>\n",
       "      <td>148600</td>\n",
       "      <td>False</td>\n",
       "      <td>0.280</td>\n",
       "      <td>0.208</td>\n",
       "      <td>5</td>\n",
       "      <td>-20.158</td>\n",
       "      <td>1</td>\n",
       "      <td>0.0521</td>\n",
       "      <td>0.941</td>\n",
       "      <td>0.000200</td>\n",
       "      <td>0.4100</td>\n",
       "      <td>0.2410</td>\n",
       "      <td>90.477</td>\n",
       "      <td>4</td>\n",
       "      <td>opera</td>\n",
       "    </tr>\n",
       "    <tr>\n",
       "      <th>1499</th>\n",
       "      <td>23</td>\n",
       "      <td>257800</td>\n",
       "      <td>False</td>\n",
       "      <td>0.244</td>\n",
       "      <td>0.205</td>\n",
       "      <td>3</td>\n",
       "      <td>-15.596</td>\n",
       "      <td>1</td>\n",
       "      <td>0.0367</td>\n",
       "      <td>0.984</td>\n",
       "      <td>0.329000</td>\n",
       "      <td>0.0788</td>\n",
       "      <td>0.0750</td>\n",
       "      <td>71.370</td>\n",
       "      <td>4</td>\n",
       "      <td>opera</td>\n",
       "    </tr>\n",
       "  </tbody>\n",
       "</table>\n",
       "</div>"
      ],
      "text/plain": [
       "      popularity  duration_ms  explicit  danceability  energy  key  loudness  \\\n",
       "1495          23       352371     False         0.273   0.122    0   -22.173   \n",
       "1496          22       204310     False         0.457   0.498    6    -8.387   \n",
       "1497          23       225506     False         0.241   0.207    1   -16.353   \n",
       "1498          23       148600     False         0.280   0.208    5   -20.158   \n",
       "1499          23       257800     False         0.244   0.205    3   -15.596   \n",
       "\n",
       "      mode  speechiness  acousticness  instrumentalness  liveness  valence  \\\n",
       "1495     0       0.0575         0.960          0.003330    0.0635   0.0731   \n",
       "1496     1       0.0368         0.766          0.000002    0.2890   0.2020   \n",
       "1497     1       0.0374         0.982          0.002260    0.1140   0.0735   \n",
       "1498     1       0.0521         0.941          0.000200    0.4100   0.2410   \n",
       "1499     1       0.0367         0.984          0.329000    0.0788   0.0750   \n",
       "\n",
       "        tempo  time_signature track_genre  \n",
       "1495  117.718               4       opera  \n",
       "1496  116.255               4       opera  \n",
       "1497   86.885               1       opera  \n",
       "1498   90.477               4       opera  \n",
       "1499   71.370               4       opera  "
      ]
     },
     "execution_count": 2,
     "metadata": {},
     "output_type": "execute_result"
    }
   ],
   "source": [
    "df = pd.read_csv(\"./tracks.csv\")\n",
    "df.tail()"
   ]
  },
  {
   "cell_type": "code",
   "execution_count": 3,
   "metadata": {
    "ExecuteTime": {
     "end_time": "2025-04-27T19:54:19.017607Z",
     "start_time": "2025-04-27T19:54:19.003605Z"
    },
    "colab": {
     "base_uri": "https://localhost:8080/",
     "height": 586
    },
    "id": "pJfY3CyobJNk",
    "outputId": "562cb9ca-2feb-414e-9360-912a65c07e7f"
   },
   "outputs": [
    {
     "data": {
      "text/plain": [
       "popularity          0\n",
       "duration_ms         0\n",
       "explicit            0\n",
       "danceability        0\n",
       "energy              0\n",
       "key                 0\n",
       "loudness            0\n",
       "mode                0\n",
       "speechiness         0\n",
       "acousticness        0\n",
       "instrumentalness    0\n",
       "liveness            0\n",
       "valence             0\n",
       "tempo               0\n",
       "time_signature      0\n",
       "track_genre         0\n",
       "dtype: int64"
      ]
     },
     "execution_count": 3,
     "metadata": {},
     "output_type": "execute_result"
    }
   ],
   "source": [
    "df.isna().sum()"
   ]
  },
  {
   "cell_type": "markdown",
   "metadata": {
    "id": "12iSzdoS9MPC"
   },
   "source": [
    "# Parameter tuning"
   ]
  },
  {
   "cell_type": "markdown",
   "metadata": {
    "id": "vjmhIp3lsACw"
   },
   "source": [
    "Genre is dropped, as it is categorical data.\n",
    "\n",
    "Explicit is mapped to 0 and 1, to replace the bool, as well as to be more consistent with other features being in the range of 0-1\n",
    "\n",
    "Popularity is changed to a boolean value of 0 and 1, with songs ranked over 50 being considered popular. This produced better results for clustering and a more definitive silhouette coefficient."
   ]
  },
  {
   "cell_type": "code",
   "execution_count": 4,
   "metadata": {
    "ExecuteTime": {
     "end_time": "2025-04-27T19:54:19.128604Z",
     "start_time": "2025-04-27T19:54:19.100606Z"
    },
    "colab": {
     "base_uri": "https://localhost:8080/",
     "height": 226
    },
    "id": "CynoDm_RGn3k",
    "outputId": "ba51af3d-0bf1-4562-ea2e-4363db47e8a4"
   },
   "outputs": [
    {
     "data": {
      "text/html": [
       "<div>\n",
       "<style scoped>\n",
       "    .dataframe tbody tr th:only-of-type {\n",
       "        vertical-align: middle;\n",
       "    }\n",
       "\n",
       "    .dataframe tbody tr th {\n",
       "        vertical-align: top;\n",
       "    }\n",
       "\n",
       "    .dataframe thead th {\n",
       "        text-align: right;\n",
       "    }\n",
       "</style>\n",
       "<table border=\"1\" class=\"dataframe\">\n",
       "  <thead>\n",
       "    <tr style=\"text-align: right;\">\n",
       "      <th></th>\n",
       "      <th>popularity</th>\n",
       "      <th>duration_ms</th>\n",
       "      <th>explicit</th>\n",
       "      <th>danceability</th>\n",
       "      <th>energy</th>\n",
       "      <th>key</th>\n",
       "      <th>loudness</th>\n",
       "      <th>mode</th>\n",
       "      <th>speechiness</th>\n",
       "      <th>acousticness</th>\n",
       "      <th>instrumentalness</th>\n",
       "      <th>liveness</th>\n",
       "      <th>valence</th>\n",
       "      <th>tempo</th>\n",
       "      <th>time_signature</th>\n",
       "    </tr>\n",
       "  </thead>\n",
       "  <tbody>\n",
       "    <tr>\n",
       "      <th>1495</th>\n",
       "      <td>0</td>\n",
       "      <td>352371</td>\n",
       "      <td>0</td>\n",
       "      <td>0.273</td>\n",
       "      <td>0.122</td>\n",
       "      <td>0</td>\n",
       "      <td>-22.173</td>\n",
       "      <td>0</td>\n",
       "      <td>0.0575</td>\n",
       "      <td>0.960</td>\n",
       "      <td>0.003330</td>\n",
       "      <td>0.0635</td>\n",
       "      <td>0.0731</td>\n",
       "      <td>117.718</td>\n",
       "      <td>4</td>\n",
       "    </tr>\n",
       "    <tr>\n",
       "      <th>1496</th>\n",
       "      <td>0</td>\n",
       "      <td>204310</td>\n",
       "      <td>0</td>\n",
       "      <td>0.457</td>\n",
       "      <td>0.498</td>\n",
       "      <td>6</td>\n",
       "      <td>-8.387</td>\n",
       "      <td>1</td>\n",
       "      <td>0.0368</td>\n",
       "      <td>0.766</td>\n",
       "      <td>0.000002</td>\n",
       "      <td>0.2890</td>\n",
       "      <td>0.2020</td>\n",
       "      <td>116.255</td>\n",
       "      <td>4</td>\n",
       "    </tr>\n",
       "    <tr>\n",
       "      <th>1497</th>\n",
       "      <td>0</td>\n",
       "      <td>225506</td>\n",
       "      <td>0</td>\n",
       "      <td>0.241</td>\n",
       "      <td>0.207</td>\n",
       "      <td>1</td>\n",
       "      <td>-16.353</td>\n",
       "      <td>1</td>\n",
       "      <td>0.0374</td>\n",
       "      <td>0.982</td>\n",
       "      <td>0.002260</td>\n",
       "      <td>0.1140</td>\n",
       "      <td>0.0735</td>\n",
       "      <td>86.885</td>\n",
       "      <td>1</td>\n",
       "    </tr>\n",
       "    <tr>\n",
       "      <th>1498</th>\n",
       "      <td>0</td>\n",
       "      <td>148600</td>\n",
       "      <td>0</td>\n",
       "      <td>0.280</td>\n",
       "      <td>0.208</td>\n",
       "      <td>5</td>\n",
       "      <td>-20.158</td>\n",
       "      <td>1</td>\n",
       "      <td>0.0521</td>\n",
       "      <td>0.941</td>\n",
       "      <td>0.000200</td>\n",
       "      <td>0.4100</td>\n",
       "      <td>0.2410</td>\n",
       "      <td>90.477</td>\n",
       "      <td>4</td>\n",
       "    </tr>\n",
       "    <tr>\n",
       "      <th>1499</th>\n",
       "      <td>0</td>\n",
       "      <td>257800</td>\n",
       "      <td>0</td>\n",
       "      <td>0.244</td>\n",
       "      <td>0.205</td>\n",
       "      <td>3</td>\n",
       "      <td>-15.596</td>\n",
       "      <td>1</td>\n",
       "      <td>0.0367</td>\n",
       "      <td>0.984</td>\n",
       "      <td>0.329000</td>\n",
       "      <td>0.0788</td>\n",
       "      <td>0.0750</td>\n",
       "      <td>71.370</td>\n",
       "      <td>4</td>\n",
       "    </tr>\n",
       "  </tbody>\n",
       "</table>\n",
       "</div>"
      ],
      "text/plain": [
       "      popularity  duration_ms  explicit  danceability  energy  key  loudness  \\\n",
       "1495           0       352371         0         0.273   0.122    0   -22.173   \n",
       "1496           0       204310         0         0.457   0.498    6    -8.387   \n",
       "1497           0       225506         0         0.241   0.207    1   -16.353   \n",
       "1498           0       148600         0         0.280   0.208    5   -20.158   \n",
       "1499           0       257800         0         0.244   0.205    3   -15.596   \n",
       "\n",
       "      mode  speechiness  acousticness  instrumentalness  liveness  valence  \\\n",
       "1495     0       0.0575         0.960          0.003330    0.0635   0.0731   \n",
       "1496     1       0.0368         0.766          0.000002    0.2890   0.2020   \n",
       "1497     1       0.0374         0.982          0.002260    0.1140   0.0735   \n",
       "1498     1       0.0521         0.941          0.000200    0.4100   0.2410   \n",
       "1499     1       0.0367         0.984          0.329000    0.0788   0.0750   \n",
       "\n",
       "        tempo  time_signature  \n",
       "1495  117.718               4  \n",
       "1496  116.255               4  \n",
       "1497   86.885               1  \n",
       "1498   90.477               4  \n",
       "1499   71.370               4  "
      ]
     },
     "execution_count": 4,
     "metadata": {},
     "output_type": "execute_result"
    }
   ],
   "source": [
    "df.drop(columns=[\"track_genre\"], inplace=True, errors='ignore')\n",
    "\n",
    "bool_mapper = {\n",
    "    False: 0,\n",
    "    True: 1,\n",
    "}\n",
    "df['popularity'] = df['popularity'].apply(lambda x: 1 if x > 50 else 0)\n",
    "df['explicit'] = df['explicit'].replace(bool_mapper)\n",
    "df.tail()"
   ]
  },
  {
   "cell_type": "markdown",
   "metadata": {
    "id": "PUcgTTtzE-0K"
   },
   "source": [
    "Here we created the `preprocess_pipeline` in order to make sure that the features of this dataset were appropriately scaled and transformed before being fed into the clustering model."
   ]
  },
  {
   "cell_type": "code",
   "execution_count": 5,
   "metadata": {
    "ExecuteTime": {
     "end_time": "2025-04-27T19:54:19.349178Z",
     "start_time": "2025-04-27T19:54:19.335178Z"
    },
    "id": "FThSk3-R__gE"
   },
   "outputs": [],
   "source": [
    "y = df['popularity']\n",
    "X = df.drop('popularity', axis=1)"
   ]
  },
  {
   "cell_type": "code",
   "execution_count": 6,
   "metadata": {
    "ExecuteTime": {
     "end_time": "2025-04-27T19:54:19.522506Z",
     "start_time": "2025-04-27T19:54:19.500191Z"
    }
   },
   "outputs": [],
   "source": [
    "from sklearn.preprocessing import OneHotEncoder\n",
    "from sklearn.compose import ColumnTransformer\n",
    "from sklearn.pipeline import Pipeline\n",
    "\n",
    "# outliers\n",
    "# - duration\n",
    "# - loudness\n",
    "# - speechiness\n",
    "# - instrumentalness\n",
    "# - liveness\n",
    "# - tempo\n",
    "\n",
    "\n",
    "columns_outliers_no_skew = [\"speechiness\", \"instrumentalness\", \"liveness\"]\n",
    "\n",
    "columns_outliers_skewed = ['duration_ms', 'loudness', 'tempo']\n",
    "\n",
    "columns_no_outliers_skewed = [\"duration_ms\",\n",
    "                              \"danceability\",\n",
    "                              \"energy\",\n",
    "                              \"loudness\",\n",
    "                              \"speechiness\",\n",
    "                              \"acousticness\",\n",
    "                              \"instrumentalness\",\n",
    "                              \"liveness\",\n",
    "                              \"valence\",\n",
    "                              \"tempo\",\n",
    "                              ]\n",
    "\n",
    "columns_no_outliers_no_skew = [col for col in X.columns if\n",
    "                               col not in columns_outliers_no_skew and col not in columns_no_outliers_skewed and col not in columns_outliers_skewed]\n",
    "\n",
    "outliers_no_skew_pipeline = Pipeline(\n",
    "    steps=[\n",
    "        (\"log_transform\", preprocessing.PowerTransformer(method=\"yeo-johnson\")),\n",
    "        (\"scaler\", preprocessing.RobustScaler())\n",
    "    ]\n",
    ")\n",
    "\n",
    "outliers_skewed_pipeline = Pipeline(steps=[\n",
    "    (\"log_transform\", preprocessing.PowerTransformer(method=\"yeo-johnson\")),\n",
    "    ('scale', preprocessing.RobustScaler())\n",
    "])\n",
    "\n",
    "no_outliers_skewed_pipeline = Pipeline(\n",
    "    steps=[\n",
    "        (\"log_transform\", preprocessing.PowerTransformer(method=\"yeo-johnson\")),\n",
    "        (\"scaler\", preprocessing.MinMaxScaler())\n",
    "    ]\n",
    ")\n",
    "\n",
    "no_outliers_no_skew_pipeline = Pipeline(\n",
    "    steps=[\n",
    "        (\"scaler\", preprocessing.MinMaxScaler())\n",
    "    ]\n",
    ")\n",
    "\n",
    "preprocess_pipeline = ColumnTransformer(\n",
    "    transformers=[\n",
    "        (\"outliers_skewed\", outliers_skewed_pipeline, columns_outliers_skewed),\n",
    "        (\"outliers_not_skewed\", outliers_no_skew_pipeline, columns_outliers_no_skew),\n",
    "        (\"no_outliers_skewed\", no_outliers_skewed_pipeline, columns_no_outliers_skewed),\n",
    "        (\"no_outliers_no_skew\", no_outliers_no_skew_pipeline, columns_no_outliers_no_skew)\n",
    "    ],\n",
    "    remainder=\"passthrough\"\n",
    ")"
   ]
  },
  {
   "cell_type": "markdown",
   "metadata": {},
   "source": [
    "- Firsly, for features with strong outliers and no skew, we applied a Yeo-Johnson transform followed by scaling with the RobustScaler.\n",
    "- Then, for highly skewed features with significant outliers, we applied a Yeo-Johnson power transformation followed by robust scaling to mitigate the impact of extreme values.\n",
    "- Then for moderately skewed features without strong outliers, we applied a Yeo-Johnson transform followed by MinMax scaling.\n",
    "- And lastly, features without noticeable skew or outliers were scaled directly using a MinMax scaler.\n",
    "\n",
    "**Note**: We chose the Yeo-Johnson transformation over a log transformation because it can handle both positive and negative values, including zeros, without requiring manual data shifts, providing a more flexible and robust normalization method. (reference [here](https://scikit-learn.org/stable/modules/generated/sklearn.preprocessing.PowerTransformer.html))\n",
    "\n"
   ]
  },
  {
   "cell_type": "code",
   "execution_count": 7,
   "metadata": {},
   "outputs": [
    {
     "name": "stdout",
     "output_type": "stream",
     "text": [
      "(number of examples, number of attributes):  (1500, 15)\n"
     ]
    }
   ],
   "source": [
    "data = np.array(df.values, dtype=float)\n",
    "print('(number of examples, number of attributes): ', data.shape)"
   ]
  },
  {
   "cell_type": "markdown",
   "metadata": {
    "id": "Wdxj1CXPSyIz"
   },
   "source": [
    "---\n",
    "\n",
    "### Scatterplot\n",
    "\n",
    "\n"
   ]
  },
  {
   "cell_type": "code",
   "execution_count": 8,
   "metadata": {
    "ExecuteTime": {
     "end_time": "2025-04-27T19:54:19.886506Z",
     "start_time": "2025-04-27T19:54:19.867502Z"
    }
   },
   "outputs": [],
   "source": [
    "colors = np.array(['orange', 'blue', 'lime', 'khaki', 'pink', 'green', 'purple'])\n",
    "\n",
    "\n",
    "# points - a 2D array of (x,y) coordinates of data points\n",
    "# labels - an array of numeric labels in the interval [0..k-1], one for each point\n",
    "# centers - a 2D array of (x, y) coordinates of cluster centers\n",
    "# title - title of the plot\n",
    "\n",
    "\n",
    "def clustering_scatterplot(points, labels, centers, title):\n",
    "    n_clusters = np.unique(labels).size\n",
    "    for i in range(n_clusters):\n",
    "        h = plt.scatter(points[labels == i, 0],\n",
    "                        points[labels == i, 1],\n",
    "                        c=colors[i % colors.size],\n",
    "                        label='cluster ' + str(i))\n",
    "\n",
    "    # plot the centers of the clusters\n",
    "    if centers is not None:\n",
    "        plt.scatter(centers[:, 0], centers[:, 1], c='r', marker='*', s=500)\n",
    "\n",
    "    _ = plt.title(title)\n",
    "    _ = plt.legend()\n",
    "    _ = plt.xlabel('x')\n",
    "    _ = plt.ylabel('y')"
   ]
  },
  {
   "cell_type": "markdown",
   "metadata": {
    "id": "aPnzX-9hSyI0"
   },
   "source": [
    "---\n",
    "### K-Means Clustering (Roy)"
   ]
  },
  {
   "cell_type": "markdown",
   "metadata": {
    "id": "jArjQRDESyI1"
   },
   "source": [
    "Number of clusters $k$."
   ]
  },
  {
   "cell_type": "markdown",
   "metadata": {
    "id": "CSbe_GSyukPV"
   },
   "source": [
    "For determining the ideal value of K, the elbow-method was used, mapping the sum of squares of the clusters to the graph. When the decline starts to flatten, like a bent elbow, that is the ideal value of k.\n",
    "\n",
    "Through this, k=3 was the ideal value of k"
   ]
  },
  {
   "cell_type": "code",
   "execution_count": 9,
   "metadata": {
    "ExecuteTime": {
     "end_time": "2025-04-27T19:54:21.755746Z",
     "start_time": "2025-04-27T19:54:20.030503Z"
    }
   },
   "outputs": [
    {
     "data": {
      "image/png": "[encoded data removed]",
      "text/plain": [
       "<Figure size 576x360 with 1 Axes>"
      ]
     },
     "metadata": {
      "needs_background": "light"
     },
     "output_type": "display_data"
    }
   ],
   "source": [
    "inertias = []  # the sum of squared distances\n",
    "k_values = range(1, 11)\n",
    "\n",
    "for k in k_values:\n",
    "    kmeans = cluster.KMeans(n_clusters=k, random_state=42, n_init=10)\n",
    "    kmeans.fit(data)\n",
    "    inertias.append(kmeans.inertia_)\n",
    "\n",
    "plt.figure(figsize=(8, 5))\n",
    "plt.plot(k_values, inertias, marker='o', linestyle='--')\n",
    "plt.xlabel('Number of Clusters (k)')\n",
    "plt.ylabel('Within-Cluster Sum of Squares (inertias)')\n",
    "plt.title('Elbow Method for Optimal k')\n",
    "plt.grid(True)\n",
    "plt.show()"
   ]
  },
  {
   "cell_type": "code",
   "execution_count": 10,
   "metadata": {
    "ExecuteTime": {
     "end_time": "2025-04-27T20:34:14.349015Z",
     "start_time": "2025-04-27T20:34:14.340018Z"
    }
   },
   "outputs": [],
   "source": [
    "k = 3"
   ]
  },
  {
   "cell_type": "markdown",
   "metadata": {
    "id": "NvwTlsC1SyI1"
   },
   "source": [
    "#### Run k-Means"
   ]
  },
  {
   "cell_type": "markdown",
   "metadata": {
    "id": "74IbDnmaOaoy"
   },
   "source": [
    "This creates a pipeline that runs the preprocessing pipeline, and then kmeans"
   ]
  },
  {
   "cell_type": "code",
   "execution_count": 11,
   "metadata": {
    "ExecuteTime": {
     "end_time": "2025-04-27T20:42:58.211150Z",
     "start_time": "2025-04-27T20:42:47.585825Z"
    }
   },
   "outputs": [
    {
     "name": "stdout",
     "output_type": "stream",
     "text": [
      "Best params: {'kMeans__n_clusters': 3, 'kMeans__n_init': 1, 'pca__n_components': 5, 'pca__whiten': False}\n",
      "Best silhouette score: 0.2479349924177337\n"
     ]
    },
    {
     "data": {
      "text/plain": [
       "array([[ 0.36315303, -0.34985339,  0.8208697 , -0.36610747, -0.08906604],\n",
       "       [ 0.52737664, -0.27282678,  0.60266913, -0.80950881, -0.34196655],\n",
       "       [ 0.24411565,  1.33881464, -1.11809807,  0.51891598,  0.08034597],\n",
       "       ...,\n",
       "       [ 1.24730588, -0.59510777,  1.24199102, -0.23732374,  0.03613835],\n",
       "       [ 0.46441114,  0.31865434,  1.86088808,  0.89815031,  0.93334392],\n",
       "       [ 2.53735184,  0.49227063,  0.14892872, -0.12045053, -0.82941818]])"
      ]
     },
     "execution_count": 11,
     "metadata": {},
     "output_type": "execute_result"
    }
   ],
   "source": [
    "from sklearn.decomposition import PCA\n",
    "from sklearn.model_selection import GridSearchCV\n",
    "\n",
    "kmeans_pipeline = Pipeline(steps=[\n",
    "    ('preprocess', preprocess_pipeline),\n",
    "    ('pca', PCA()),  # dimensionality reduction\n",
    "    ('kMeans', cluster.KMeans(n_init=10, n_clusters=k, max_iter=300))\n",
    "])\n",
    "\n",
    "param_grid = {\n",
    "    'kMeans__n_clusters': [3, 4, 5, 8, 10],  # want at least 3 as per elbow method\n",
    "    'kMeans__n_init': [1, 2, 3, 4, 5, 10],\n",
    "\n",
    "    'pca__n_components': [None, 5, 10, 15],  # None = keep all attributes\n",
    "    'pca__whiten': [False, True],\n",
    "}\n",
    "\n",
    "\n",
    "def silhouette_scorer(estimator, X, y=None):\n",
    "    # pipelines generally used for supervised learning, but clustering is unsupervised\n",
    "    # this method allows us to use silhouette score as our sort of supervision\n",
    "    # to do this, we follow same steps as pipeline, then cluster using the given config\n",
    "    # and use silhouette score to evaluate it\n",
    "    # using this in grid search will allow it to pick best params for clustering\n",
    "    transformed = estimator.named_steps['preprocess'].transform(X)\n",
    "    pca_done = estimator.named_steps['pca'].transform(transformed)\n",
    "    labels = estimator.named_steps['kMeans'].predict(pca_done)\n",
    "    # If we got only one cluster, silhouette is undefined\n",
    "    if len(np.unique(labels)) < 2:\n",
    "        return -1.0\n",
    "    return silhouette_score(pca_done, labels)\n",
    "\n",
    "\n",
    "grid_search = GridSearchCV(\n",
    "    estimator=kmeans_pipeline,\n",
    "    param_grid=param_grid,\n",
    "    cv=5,\n",
    "    scoring=silhouette_scorer,\n",
    "    n_jobs=-1\n",
    ")\n",
    "\n",
    "grid_search.fit(df)\n",
    "\n",
    "print(\"Best params:\", grid_search.best_params_)\n",
    "print(\"Best silhouette score:\", grid_search.best_score_)\n",
    "best_pipeline = grid_search.best_estimator_\n",
    "\n",
    "clustered_model = best_pipeline\n",
    "preprocessed_data = clustered_model[\"preprocess\"].transform(df)\n",
    "preprocessed_data = clustered_model[\"pca\"].transform(preprocessed_data)\n",
    "preprocessed_data"
   ]
  },
  {
   "cell_type": "markdown",
   "metadata": {},
   "source": [
    "Note here how value of k found to be best differs from that of elbow method"
   ]
  },
  {
   "cell_type": "markdown",
   "metadata": {
    "id": "7I5zHtP2SyI2"
   },
   "source": [
    "### E. Apply a manifold-learning technique to project the data set to a 2D space\n",
    "\n",
    "https://scikit-learn.org/stable/modules/manifold.html"
   ]
  },
  {
   "cell_type": "markdown",
   "metadata": {
    "id": "uylJksO9SyI2"
   },
   "source": [
    "Append the cluster centers to the dataset."
   ]
  },
  {
   "cell_type": "code",
   "execution_count": 12,
   "metadata": {
    "ExecuteTime": {
     "end_time": "2025-04-27T20:43:01.379689Z",
     "start_time": "2025-04-27T20:43:01.365678Z"
    }
   },
   "outputs": [],
   "source": [
    "data_and_centers = np.r_[preprocessed_data, clustered_model['kMeans'].cluster_centers_]"
   ]
  },
  {
   "cell_type": "markdown",
   "metadata": {},
   "source": [
    "#### E1. Apply multi-dimensional scaling (MDS) to project both the data and the k-Means cluster centers to a 2D space"
   ]
  },
  {
   "cell_type": "code",
   "execution_count": 13,
   "metadata": {
    "ExecuteTime": {
     "end_time": "2025-04-27T20:45:04.776791Z",
     "start_time": "2025-04-27T20:43:43.680987Z"
    }
   },
   "outputs": [
    {
     "name": "stdout",
     "output_type": "stream",
     "text": [
      "transformation complete\n"
     ]
    }
   ],
   "source": [
    "XYcoordinates = manifold.MDS(n_components=2, normalized_stress='auto').fit_transform(data_and_centers)\n",
    "print(\"transformation complete\")"
   ]
  },
  {
   "cell_type": "code",
   "execution_count": 14,
   "metadata": {
    "ExecuteTime": {
     "end_time": "2025-04-27T20:45:18.140345Z",
     "start_time": "2025-04-27T20:45:17.931088Z"
    }
   },
   "outputs": [
    {
     "data": {
      "image/png": "[encoded data removed]",
      "text/plain": [
       "<Figure size 432x288 with 1 Axes>"
      ]
     },
     "metadata": {
      "needs_background": "light"
     },
     "output_type": "display_data"
    }
   ],
   "source": [
    "clustering_scatterplot(points=XYcoordinates[:-k, :],\n",
    "                       labels=clustered_model['kMeans'].labels_,\n",
    "                       centers=XYcoordinates[-k:, :],\n",
    "                       title='MDS')"
   ]
  },
  {
   "cell_type": "markdown",
   "metadata": {},
   "source": [
    "TODO conclusions from MDS clustering"
   ]
  },
  {
   "cell_type": "markdown",
   "metadata": {
    "id": "Skv4QLH2SyI3"
   },
   "source": [
    "#### E2. Apply t-SNE to project both the data and the k-Means cluster centers to a 2D space"
   ]
  },
  {
   "cell_type": "markdown",
   "metadata": {
    "id": "y2EGUrZESyI4"
   },
   "source": [
    "Project both the data and the k-Means cluster centers to 2D."
   ]
  },
  {
   "cell_type": "code",
   "execution_count": 15,
   "metadata": {
    "ExecuteTime": {
     "end_time": "2025-04-27T20:43:06.611227Z",
     "start_time": "2025-04-27T20:43:03.024634Z"
    }
   },
   "outputs": [
    {
     "name": "stdout",
     "output_type": "stream",
     "text": [
      "transformation complete\n"
     ]
    }
   ],
   "source": [
    "XYcoordinates = manifold.TSNE(n_components=2).fit_transform(data_and_centers)\n",
    "print(\"transformation complete\")"
   ]
  },
  {
   "cell_type": "code",
   "execution_count": 16,
   "metadata": {
    "ExecuteTime": {
     "end_time": "2025-04-27T20:43:06.946226Z",
     "start_time": "2025-04-27T20:43:06.706228Z"
    }
   },
   "outputs": [
    {
     "data": {
      "image/png": "[encoded data removed]",
      "text/plain": [
       "<Figure size 432x288 with 1 Axes>"
      ]
     },
     "metadata": {
      "needs_background": "light"
     },
     "output_type": "display_data"
    }
   ],
   "source": [
    "clustering_scatterplot(points=XYcoordinates[:-k, :],\n",
    "                       labels=clustered_model['kMeans'].labels_,\n",
    "                       centers=XYcoordinates[-k:, :],\n",
    "                       title='Tracks clustered by T-SNE')"
   ]
  },
  {
   "cell_type": "markdown",
   "metadata": {
    "id": "SeHJehewSyI4"
   },
   "source": [
    "### F. Cluster Analysis"
   ]
  },
  {
   "cell_type": "markdown",
   "metadata": {
    "id": "J08Vn5RPSyI5"
   },
   "source": [
    "#### Add the cluster labels as an extra column in the original dataframe"
   ]
  },
  {
   "cell_type": "code",
   "execution_count": 17,
   "metadata": {
    "ExecuteTime": {
     "end_time": "2025-04-27T19:57:28.012328Z",
     "start_time": "2025-04-27T19:57:27.999328Z"
    }
   },
   "outputs": [],
   "source": [
    "df['cluster'] = pd.Series(clustered_model['kMeans'].labels_, index=df.index)"
   ]
  },
  {
   "cell_type": "code",
   "execution_count": 18,
   "metadata": {
    "ExecuteTime": {
     "end_time": "2025-04-27T19:57:34.392300Z",
     "start_time": "2025-04-27T19:57:34.377300Z"
    }
   },
   "outputs": [
    {
     "data": {
      "text/html": [
       "<div>\n",
       "<style scoped>\n",
       "    .dataframe tbody tr th:only-of-type {\n",
       "        vertical-align: middle;\n",
       "    }\n",
       "\n",
       "    .dataframe tbody tr th {\n",
       "        vertical-align: top;\n",
       "    }\n",
       "\n",
       "    .dataframe thead th {\n",
       "        text-align: right;\n",
       "    }\n",
       "</style>\n",
       "<table border=\"1\" class=\"dataframe\">\n",
       "  <thead>\n",
       "    <tr style=\"text-align: right;\">\n",
       "      <th></th>\n",
       "      <th>popularity</th>\n",
       "      <th>duration_ms</th>\n",
       "      <th>explicit</th>\n",
       "      <th>danceability</th>\n",
       "      <th>energy</th>\n",
       "      <th>key</th>\n",
       "      <th>loudness</th>\n",
       "      <th>mode</th>\n",
       "      <th>speechiness</th>\n",
       "      <th>acousticness</th>\n",
       "      <th>instrumentalness</th>\n",
       "      <th>liveness</th>\n",
       "      <th>valence</th>\n",
       "      <th>tempo</th>\n",
       "      <th>time_signature</th>\n",
       "      <th>cluster</th>\n",
       "    </tr>\n",
       "  </thead>\n",
       "  <tbody>\n",
       "    <tr>\n",
       "      <th>1495</th>\n",
       "      <td>0</td>\n",
       "      <td>352371</td>\n",
       "      <td>0</td>\n",
       "      <td>0.273</td>\n",
       "      <td>0.122</td>\n",
       "      <td>0</td>\n",
       "      <td>-22.173</td>\n",
       "      <td>0</td>\n",
       "      <td>0.0575</td>\n",
       "      <td>0.960</td>\n",
       "      <td>0.003330</td>\n",
       "      <td>0.0635</td>\n",
       "      <td>0.0731</td>\n",
       "      <td>117.718</td>\n",
       "      <td>4</td>\n",
       "      <td>0</td>\n",
       "    </tr>\n",
       "    <tr>\n",
       "      <th>1496</th>\n",
       "      <td>0</td>\n",
       "      <td>204310</td>\n",
       "      <td>0</td>\n",
       "      <td>0.457</td>\n",
       "      <td>0.498</td>\n",
       "      <td>6</td>\n",
       "      <td>-8.387</td>\n",
       "      <td>1</td>\n",
       "      <td>0.0368</td>\n",
       "      <td>0.766</td>\n",
       "      <td>0.000002</td>\n",
       "      <td>0.2890</td>\n",
       "      <td>0.2020</td>\n",
       "      <td>116.255</td>\n",
       "      <td>4</td>\n",
       "      <td>0</td>\n",
       "    </tr>\n",
       "    <tr>\n",
       "      <th>1497</th>\n",
       "      <td>0</td>\n",
       "      <td>225506</td>\n",
       "      <td>0</td>\n",
       "      <td>0.241</td>\n",
       "      <td>0.207</td>\n",
       "      <td>1</td>\n",
       "      <td>-16.353</td>\n",
       "      <td>1</td>\n",
       "      <td>0.0374</td>\n",
       "      <td>0.982</td>\n",
       "      <td>0.002260</td>\n",
       "      <td>0.1140</td>\n",
       "      <td>0.0735</td>\n",
       "      <td>86.885</td>\n",
       "      <td>1</td>\n",
       "      <td>0</td>\n",
       "    </tr>\n",
       "    <tr>\n",
       "      <th>1498</th>\n",
       "      <td>0</td>\n",
       "      <td>148600</td>\n",
       "      <td>0</td>\n",
       "      <td>0.280</td>\n",
       "      <td>0.208</td>\n",
       "      <td>5</td>\n",
       "      <td>-20.158</td>\n",
       "      <td>1</td>\n",
       "      <td>0.0521</td>\n",
       "      <td>0.941</td>\n",
       "      <td>0.000200</td>\n",
       "      <td>0.4100</td>\n",
       "      <td>0.2410</td>\n",
       "      <td>90.477</td>\n",
       "      <td>4</td>\n",
       "      <td>0</td>\n",
       "    </tr>\n",
       "    <tr>\n",
       "      <th>1499</th>\n",
       "      <td>0</td>\n",
       "      <td>257800</td>\n",
       "      <td>0</td>\n",
       "      <td>0.244</td>\n",
       "      <td>0.205</td>\n",
       "      <td>3</td>\n",
       "      <td>-15.596</td>\n",
       "      <td>1</td>\n",
       "      <td>0.0367</td>\n",
       "      <td>0.984</td>\n",
       "      <td>0.329000</td>\n",
       "      <td>0.0788</td>\n",
       "      <td>0.0750</td>\n",
       "      <td>71.370</td>\n",
       "      <td>4</td>\n",
       "      <td>1</td>\n",
       "    </tr>\n",
       "  </tbody>\n",
       "</table>\n",
       "</div>"
      ],
      "text/plain": [
       "      popularity  duration_ms  explicit  danceability  energy  key  loudness  \\\n",
       "1495           0       352371         0         0.273   0.122    0   -22.173   \n",
       "1496           0       204310         0         0.457   0.498    6    -8.387   \n",
       "1497           0       225506         0         0.241   0.207    1   -16.353   \n",
       "1498           0       148600         0         0.280   0.208    5   -20.158   \n",
       "1499           0       257800         0         0.244   0.205    3   -15.596   \n",
       "\n",
       "      mode  speechiness  acousticness  instrumentalness  liveness  valence  \\\n",
       "1495     0       0.0575         0.960          0.003330    0.0635   0.0731   \n",
       "1496     1       0.0368         0.766          0.000002    0.2890   0.2020   \n",
       "1497     1       0.0374         0.982          0.002260    0.1140   0.0735   \n",
       "1498     1       0.0521         0.941          0.000200    0.4100   0.2410   \n",
       "1499     1       0.0367         0.984          0.329000    0.0788   0.0750   \n",
       "\n",
       "        tempo  time_signature  cluster  \n",
       "1495  117.718               4        0  \n",
       "1496  116.255               4        0  \n",
       "1497   86.885               1        0  \n",
       "1498   90.477               4        0  \n",
       "1499   71.370               4        1  "
      ]
     },
     "execution_count": 18,
     "metadata": {},
     "output_type": "execute_result"
    }
   ],
   "source": [
    "df.tail()"
   ]
  },
  {
   "cell_type": "markdown",
   "metadata": {
    "id": "fswl5KBiSyI6"
   },
   "source": [
    "#### Compute the mean value of each attribute for each cluster"
   ]
  },
  {
   "cell_type": "code",
   "execution_count": 19,
   "metadata": {
    "ExecuteTime": {
     "end_time": "2025-04-27T19:57:39.741406Z",
     "start_time": "2025-04-27T19:57:39.718406Z"
    },
    "colab": {
     "base_uri": "https://localhost:8080/",
     "height": 226
    },
    "id": "kVulG_1uSyI6",
    "outputId": "c3901526-7f80-401d-ada5-3992abfb6fc3"
   },
   "outputs": [
    {
     "data": {
      "text/html": [
       "<div>\n",
       "<style scoped>\n",
       "    .dataframe tbody tr th:only-of-type {\n",
       "        vertical-align: middle;\n",
       "    }\n",
       "\n",
       "    .dataframe tbody tr th {\n",
       "        vertical-align: top;\n",
       "    }\n",
       "\n",
       "    .dataframe thead th {\n",
       "        text-align: right;\n",
       "    }\n",
       "</style>\n",
       "<table border=\"1\" class=\"dataframe\">\n",
       "  <thead>\n",
       "    <tr style=\"text-align: right;\">\n",
       "      <th></th>\n",
       "      <th>popularity</th>\n",
       "      <th>duration_ms</th>\n",
       "      <th>explicit</th>\n",
       "      <th>danceability</th>\n",
       "      <th>energy</th>\n",
       "      <th>key</th>\n",
       "      <th>loudness</th>\n",
       "      <th>mode</th>\n",
       "      <th>speechiness</th>\n",
       "      <th>acousticness</th>\n",
       "      <th>instrumentalness</th>\n",
       "      <th>liveness</th>\n",
       "      <th>valence</th>\n",
       "      <th>tempo</th>\n",
       "      <th>time_signature</th>\n",
       "    </tr>\n",
       "    <tr>\n",
       "      <th>cluster</th>\n",
       "      <th></th>\n",
       "      <th></th>\n",
       "      <th></th>\n",
       "      <th></th>\n",
       "      <th></th>\n",
       "      <th></th>\n",
       "      <th></th>\n",
       "      <th></th>\n",
       "      <th></th>\n",
       "      <th></th>\n",
       "      <th></th>\n",
       "      <th></th>\n",
       "      <th></th>\n",
       "      <th></th>\n",
       "      <th></th>\n",
       "    </tr>\n",
       "  </thead>\n",
       "  <tbody>\n",
       "    <tr>\n",
       "      <th>0</th>\n",
       "      <td>0.164179</td>\n",
       "      <td>243881.379531</td>\n",
       "      <td>0.023454</td>\n",
       "      <td>0.399129</td>\n",
       "      <td>0.400342</td>\n",
       "      <td>4.912580</td>\n",
       "      <td>-10.862842</td>\n",
       "      <td>0.763326</td>\n",
       "      <td>0.042217</td>\n",
       "      <td>0.645876</td>\n",
       "      <td>0.015774</td>\n",
       "      <td>0.193666</td>\n",
       "      <td>0.264003</td>\n",
       "      <td>106.786011</td>\n",
       "      <td>3.739872</td>\n",
       "    </tr>\n",
       "    <tr>\n",
       "      <th>1</th>\n",
       "      <td>0.173295</td>\n",
       "      <td>206738.750000</td>\n",
       "      <td>0.048295</td>\n",
       "      <td>0.497845</td>\n",
       "      <td>0.589144</td>\n",
       "      <td>4.613636</td>\n",
       "      <td>-10.493287</td>\n",
       "      <td>0.724432</td>\n",
       "      <td>0.063143</td>\n",
       "      <td>0.366969</td>\n",
       "      <td>0.680752</td>\n",
       "      <td>0.187990</td>\n",
       "      <td>0.251695</td>\n",
       "      <td>115.005193</td>\n",
       "      <td>3.857955</td>\n",
       "    </tr>\n",
       "    <tr>\n",
       "      <th>2</th>\n",
       "      <td>0.225331</td>\n",
       "      <td>187728.976436</td>\n",
       "      <td>0.189985</td>\n",
       "      <td>0.661517</td>\n",
       "      <td>0.731116</td>\n",
       "      <td>5.356406</td>\n",
       "      <td>-5.419361</td>\n",
       "      <td>0.541973</td>\n",
       "      <td>0.109262</td>\n",
       "      <td>0.132262</td>\n",
       "      <td>0.004243</td>\n",
       "      <td>0.199218</td>\n",
       "      <td>0.523428</td>\n",
       "      <td>124.922353</td>\n",
       "      <td>3.988218</td>\n",
       "    </tr>\n",
       "  </tbody>\n",
       "</table>\n",
       "</div>"
      ],
      "text/plain": [
       "         popularity    duration_ms  explicit  danceability    energy  \\\n",
       "cluster                                                                \n",
       "0          0.164179  243881.379531  0.023454      0.399129  0.400342   \n",
       "1          0.173295  206738.750000  0.048295      0.497845  0.589144   \n",
       "2          0.225331  187728.976436  0.189985      0.661517  0.731116   \n",
       "\n",
       "              key   loudness      mode  speechiness  acousticness  \\\n",
       "cluster                                                             \n",
       "0        4.912580 -10.862842  0.763326     0.042217      0.645876   \n",
       "1        4.613636 -10.493287  0.724432     0.063143      0.366969   \n",
       "2        5.356406  -5.419361  0.541973     0.109262      0.132262   \n",
       "\n",
       "         instrumentalness  liveness   valence       tempo  time_signature  \n",
       "cluster                                                                    \n",
       "0                0.015774  0.193666  0.264003  106.786011        3.739872  \n",
       "1                0.680752  0.187990  0.251695  115.005193        3.857955  \n",
       "2                0.004243  0.199218  0.523428  124.922353        3.988218  "
      ]
     },
     "execution_count": 19,
     "metadata": {},
     "output_type": "execute_result"
    }
   ],
   "source": [
    "df.groupby('cluster').mean()"
   ]
  },
  {
   "cell_type": "markdown",
   "metadata": {
    "id": "Dt55CprVSyI6"
   },
   "source": [
    "Each cluster falls under the following trends:\n",
    "\n",
    "\n",
    "One cluster are more popular tracks.\n",
    "\n",
    "One cluster are tracks that are louder, more energetic and danceable,\n",
    "\n",
    "One cluster is quieter, acoustic, lower-tempo, lower-energy tracks.\n",
    "\n",
    "As evident from the scatter-plots, the cluster with acoustic, lower-energy tracks is the smallest, while the other two are equal in size."
   ]
  },
  {
   "cell_type": "markdown",
   "metadata": {},
   "source": [
    "# Clustering with DBScan"
   ]
  },
  {
   "cell_type": "markdown",
   "metadata": {},
   "source": [
    "DBSCAN Pipeline"
   ]
  },
  {
   "cell_type": "code",
   "execution_count": 21,
   "metadata": {},
   "outputs": [
    {
     "name": "stdout",
     "output_type": "stream",
     "text": [
      "Best parameters: {'dbscan__eps': 1.0, 'dbscan__min_samples': 3}\n"
     ]
    }
   ],
   "source": [
    "from sklearn.pipeline import Pipeline\n",
    "from sklearn.cluster import DBSCAN\n",
    "from sklearn.model_selection import GridSearchCV\n",
    "from sklearn.metrics import silhouette_score\n",
    "\n",
    "# Define Clustering Pipeline\n",
    "clustering_pipeline = Pipeline(steps=[\n",
    "    ('preprocess', preprocess_pipeline),\n",
    "    ('dbscan', DBSCAN())\n",
    "])\n",
    "\n",
    "# Grid Search Param Grid\n",
    "param_grid = {\n",
    "    'dbscan__eps': [0.3, 0.5, 0.7, 1.0],\n",
    "    'dbscan__min_samples': [3, 5, 10],\n",
    "}\n",
    "\n",
    "# Custom silhouette scorer\n",
    "def silhouette_scorer(estimator, X, y=None):\n",
    "    transformed = estimator.named_steps['preprocess'].transform(X)\n",
    "    labels = estimator.named_steps['dbscan'].fit_predict(transformed)\n",
    "    \n",
    "    if len(np.unique(labels)) <= 1 or (len(np.unique(labels)) == 2 and -1 in np.unique(labels)):\n",
    "        return -1.0\n",
    "    return silhouette_score(transformed, labels)\n",
    "\n",
    "# Grid Search\n",
    "grid_search = GridSearchCV(\n",
    "    estimator=clustering_pipeline,\n",
    "    param_grid=param_grid,\n",
    "    cv=5,\n",
    "    scoring=silhouette_scorer,\n",
    "    n_jobs=-1\n",
    ")\n",
    "\n",
    "# Fit Grid Search\n",
    "grid_search.fit(df)\n",
    "\n",
    "# Best model\n",
    "best_cluster_pipeline = grid_search.best_estimator_\n",
    "\n",
    "print(\"Best parameters:\", grid_search.best_params_)\n"
   ]
  },
  {
   "cell_type": "markdown",
   "metadata": {},
   "source": [
    "## Visualisation Pipeline TSNE"
   ]
  },
  {
   "cell_type": "code",
   "execution_count": 29,
   "metadata": {},
   "outputs": [],
   "source": [
    "from sklearn.manifold import TSNE\n",
    "\n",
    "# Visualization pipeline\n",
    "visualization_pipeline = Pipeline(steps=[\n",
    "    ('preprocess', preprocess_pipeline),  # Same preprocessing!\n",
    "    ('tsne', TSNE(n_components=3, random_state=42))\n",
    "])\n",
    "\n",
    "# Run visualization\n",
    "tsne_data = visualization_pipeline.fit_transform(df)"
   ]
  },
  {
   "cell_type": "code",
   "execution_count": 26,
   "metadata": {},
   "outputs": [
    {
     "data": {
      "image/png": "[encoded data removed]",
      "text/plain": [
       "<Figure size 576x432 with 2 Axes>"
      ]
     },
     "metadata": {
      "needs_background": "light"
     },
     "output_type": "display_data"
    }
   ],
   "source": [
    "# Predict cluster labels\n",
    "preprocessed_data = best_cluster_pipeline[\"preprocess\"].transform(df)\n",
    "labels = best_cluster_pipeline[\"dbscan\"].fit_predict(preprocessed_data)\n",
    "\n",
    "# Plot t-SNE visualization\n",
    "plt.figure(figsize=(8, 6))\n",
    "plt.scatter(tsne_data[:, 0], tsne_data[:, 1], c=labels, cmap='viridis', s=10)\n",
    "plt.title(\"DBSCAN Clustering with t-SNE Visualization\")\n",
    "plt.colorbar(label='Cluster Label')\n",
    "plt.show()"
   ]
  },
  {
   "cell_type": "markdown",
   "metadata": {},
   "source": [
    "# MDS"
   ]
  },
  {
   "cell_type": "code",
   "execution_count": 28,
   "metadata": {
    "scrolled": true
   },
   "outputs": [
    {
     "name": "stderr",
     "output_type": "stream",
     "text": [
      "/Users/adamgreenan/opt/anaconda3/lib/python3.8/site-packages/sklearn/manifold/_mds.py:298: FutureWarning: The default value of `normalized_stress` will change to `'auto'` in version 1.4. To suppress this warning, manually set the value of `normalized_stress`.\n",
      "  warnings.warn(\n"
     ]
    },
    {
     "data": {
      "image/png": "[encoded data removed]",
      "text/plain": [
       "<Figure size 576x432 with 2 Axes>"
      ]
     },
     "metadata": {
      "needs_background": "light"
     },
     "output_type": "display_data"
    }
   ],
   "source": [
    "from sklearn.manifold import MDS\n",
    "\n",
    "mds_pipeline = Pipeline(steps=[\n",
    "    ('preprocess', preprocess_pipeline),\n",
    "    ('mds', MDS(n_components=3, random_state=42))\n",
    "])\n",
    "\n",
    "mds_data = mds_pipeline.fit_transform(df)\n",
    "\n",
    "# Plot\n",
    "plt.figure(figsize=(8, 6))\n",
    "plt.scatter(mds_data[:, 0], mds_data[:, 1], c=labels, cmap='plasma', s=10)\n",
    "plt.title(\"DBSCAN Clustering with MDS Visualization\")\n",
    "plt.colorbar(label='Cluster Label')\n",
    "plt.show()"
   ]
  },
  {
   "cell_type": "markdown",
   "metadata": {},
   "source": [
    "## DB Scan Conclusion"
   ]
  },
  {
   "cell_type": "markdown",
   "metadata": {},
   "source": [
    "MDS' visualisation is clearly sparse and spread out. No distinct clustering forming and overall poor.\n",
    "\n",
    "t-SNE on the other hand provides clear clustering with DBScan. Showing clear clumping of data points, compared to MDS' sparse visualisation.\n",
    "\n",
    "Overall, t-SNE provides a clearer and more interpretable visualization of the DBSCAN clustering results in this case. MDS tends to blur the local structures, while t-SNE highlights them sharply, making it the better choice for visualizing complex, non-linear cluster shapes in high-dimensional data."
   ]
  },
  {
   "cell_type": "markdown",
   "metadata": {
    "id": "rzj9vHOR8-Mq"
   },
   "source": [
    "# Conclusion"
   ]
  },
  {
   "cell_type": "markdown",
   "metadata": {
    "id": "xeqFEH5q8-Mq"
   },
   "source": [
    "k-means clustering assumes that clusters are spherical and equally sized. It performed well in forming clear, compact clusters when the number of clusters (k) was appropriately chosen. However, it required setting k manually in advance, and its performance degraded if the true clusters were not globular or were very differently sized.\n",
    "\n",
    "DBSCAN does not need you to set the number of clusters beforehand. It can find clusters of any shape and also detect noise points (outliers). It worked well for irregular clusters but is sensitive to the eps (distance) and min_samples (density) settings, which can affect the results a lot."
   ]
  }
 ],
 "metadata": {
  "colab": {
   "provenance": []
  },
  "kernelspec": {
   "display_name": "Python 3",
   "language": "python",
   "name": "python3"
  },
  "language_info": {
   "codemirror_mode": {
    "name": "ipython",
    "version": 3
   },
   "file_extension": ".py",
   "mimetype": "text/x-python",
   "name": "python",
   "nbconvert_exporter": "python",
   "pygments_lexer": "ipython3",
   "version": "3.8.8"
  }
 },
 "nbformat": 4,
 "nbformat_minor": 1
}
