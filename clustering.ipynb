{
  "cells": [
    {
      "cell_type": "markdown",
      "metadata": {
        "id": "B9xEH2HhSyIs"
      },
      "source": [
        "### Clustering\n",
        "\n",
        "---\n"
      ]
    },
    {
      "cell_type": "markdown",
      "metadata": {
        "id": "bmyxzpfESyIv"
      },
      "source": [
        "### A. Import Python Modules and Dataset"
      ]
    },
    {
      "cell_type": "code",
      "execution_count": null,
      "metadata": {
        "id": "XHOgOna7SyIw"
      },
      "outputs": [],
      "source": [
        "import pandas as pd\n",
        "import numpy as np\n",
        "import matplotlib.pyplot as plt\n",
        "\n",
        "from sklearn import manifold #needed for and t-SNE\n",
        "from sklearn.manifold import TSNE,MDS\n",
        "from sklearn.cluster import DBSCAN\n",
        "from sklearn.metrics import silhouette_samples, silhouette_score\n",
        "from sklearn.preprocessing import StandardScaler\n",
        "from sklearn import cluster #needed for k-Means clustering\n",
        "from sklearn import metrics #needed for Silhouette method\n",
        "from sklearn import preprocessing #needed for scaling attributes to the nterval [0,1]"
      ]
    },
    {
      "cell_type": "markdown",
      "metadata": {
        "id": "j7jOXo54SyIx"
      },
      "source": [
        "#### Load the dataset"
      ]
    },
    {
      "cell_type": "code",
      "execution_count": null,
      "metadata": {
        "colab": {
          "base_uri": "https://localhost:8080/",
          "height": 226
        },
        "id": "9iP_TLFLSyIx",
        "outputId": "b74bf9ce-fc25-4587-d1cd-b4dd59a74f84"
      },
      "outputs": [
        {
          "output_type": "execute_result",
          "data": {
            "text/plain": [
              "      popularity  duration_ms  explicit  danceability  energy  key  loudness  \\\n",
              "1495          23       352371     False         0.273   0.122    0   -22.173   \n",
              "1496          22       204310     False         0.457   0.498    6    -8.387   \n",
              "1497          23       225506     False         0.241   0.207    1   -16.353   \n",
              "1498          23       148600     False         0.280   0.208    5   -20.158   \n",
              "1499          23       257800     False         0.244   0.205    3   -15.596   \n",
              "\n",
              "      mode  speechiness  acousticness  instrumentalness  liveness  valence  \\\n",
              "1495     0       0.0575         0.960          0.003330    0.0635   0.0731   \n",
              "1496     1       0.0368         0.766          0.000002    0.2890   0.2020   \n",
              "1497     1       0.0374         0.982          0.002260    0.1140   0.0735   \n",
              "1498     1       0.0521         0.941          0.000200    0.4100   0.2410   \n",
              "1499     1       0.0367         0.984          0.329000    0.0788   0.0750   \n",
              "\n",
              "        tempo  time_signature track_genre  \n",
              "1495  117.718               4       opera  \n",
              "1496  116.255               4       opera  \n",
              "1497   86.885               1       opera  \n",
              "1498   90.477               4       opera  \n",
              "1499   71.370               4       opera  "
            ],
            "text/html": [
              "\n",
              "  <div id=\"df-2d91eb3e-3d62-4b8b-b818-e258f1f61e34\" class=\"colab-df-container\">\n",
              "    <div>\n",
              "<style scoped>\n",
              "    .dataframe tbody tr th:only-of-type {\n",
              "        vertical-align: middle;\n",
              "    }\n",
              "\n",
              "    .dataframe tbody tr th {\n",
              "        vertical-align: top;\n",
              "    }\n",
              "\n",
              "    .dataframe thead th {\n",
              "        text-align: right;\n",
              "    }\n",
              "</style>\n",
              "<table border=\"1\" class=\"dataframe\">\n",
              "  <thead>\n",
              "    <tr style=\"text-align: right;\">\n",
              "      <th></th>\n",
              "      <th>popularity</th>\n",
              "      <th>duration_ms</th>\n",
              "      <th>explicit</th>\n",
              "      <th>danceability</th>\n",
              "      <th>energy</th>\n",
              "      <th>key</th>\n",
              "      <th>loudness</th>\n",
              "      <th>mode</th>\n",
              "      <th>speechiness</th>\n",
              "      <th>acousticness</th>\n",
              "      <th>instrumentalness</th>\n",
              "      <th>liveness</th>\n",
              "      <th>valence</th>\n",
              "      <th>tempo</th>\n",
              "      <th>time_signature</th>\n",
              "      <th>track_genre</th>\n",
              "    </tr>\n",
              "  </thead>\n",
              "  <tbody>\n",
              "    <tr>\n",
              "      <th>1495</th>\n",
              "      <td>23</td>\n",
              "      <td>352371</td>\n",
              "      <td>False</td>\n",
              "      <td>0.273</td>\n",
              "      <td>0.122</td>\n",
              "      <td>0</td>\n",
              "      <td>-22.173</td>\n",
              "      <td>0</td>\n",
              "      <td>0.0575</td>\n",
              "      <td>0.960</td>\n",
              "      <td>0.003330</td>\n",
              "      <td>0.0635</td>\n",
              "      <td>0.0731</td>\n",
              "      <td>117.718</td>\n",
              "      <td>4</td>\n",
              "      <td>opera</td>\n",
              "    </tr>\n",
              "    <tr>\n",
              "      <th>1496</th>\n",
              "      <td>22</td>\n",
              "      <td>204310</td>\n",
              "      <td>False</td>\n",
              "      <td>0.457</td>\n",
              "      <td>0.498</td>\n",
              "      <td>6</td>\n",
              "      <td>-8.387</td>\n",
              "      <td>1</td>\n",
              "      <td>0.0368</td>\n",
              "      <td>0.766</td>\n",
              "      <td>0.000002</td>\n",
              "      <td>0.2890</td>\n",
              "      <td>0.2020</td>\n",
              "      <td>116.255</td>\n",
              "      <td>4</td>\n",
              "      <td>opera</td>\n",
              "    </tr>\n",
              "    <tr>\n",
              "      <th>1497</th>\n",
              "      <td>23</td>\n",
              "      <td>225506</td>\n",
              "      <td>False</td>\n",
              "      <td>0.241</td>\n",
              "      <td>0.207</td>\n",
              "      <td>1</td>\n",
              "      <td>-16.353</td>\n",
              "      <td>1</td>\n",
              "      <td>0.0374</td>\n",
              "      <td>0.982</td>\n",
              "      <td>0.002260</td>\n",
              "      <td>0.1140</td>\n",
              "      <td>0.0735</td>\n",
              "      <td>86.885</td>\n",
              "      <td>1</td>\n",
              "      <td>opera</td>\n",
              "    </tr>\n",
              "    <tr>\n",
              "      <th>1498</th>\n",
              "      <td>23</td>\n",
              "      <td>148600</td>\n",
              "      <td>False</td>\n",
              "      <td>0.280</td>\n",
              "      <td>0.208</td>\n",
              "      <td>5</td>\n",
              "      <td>-20.158</td>\n",
              "      <td>1</td>\n",
              "      <td>0.0521</td>\n",
              "      <td>0.941</td>\n",
              "      <td>0.000200</td>\n",
              "      <td>0.4100</td>\n",
              "      <td>0.2410</td>\n",
              "      <td>90.477</td>\n",
              "      <td>4</td>\n",
              "      <td>opera</td>\n",
              "    </tr>\n",
              "    <tr>\n",
              "      <th>1499</th>\n",
              "      <td>23</td>\n",
              "      <td>257800</td>\n",
              "      <td>False</td>\n",
              "      <td>0.244</td>\n",
              "      <td>0.205</td>\n",
              "      <td>3</td>\n",
              "      <td>-15.596</td>\n",
              "      <td>1</td>\n",
              "      <td>0.0367</td>\n",
              "      <td>0.984</td>\n",
              "      <td>0.329000</td>\n",
              "      <td>0.0788</td>\n",
              "      <td>0.0750</td>\n",
              "      <td>71.370</td>\n",
              "      <td>4</td>\n",
              "      <td>opera</td>\n",
              "    </tr>\n",
              "  </tbody>\n",
              "</table>\n",
              "</div>\n",
              "    <div class=\"colab-df-buttons\">\n",
              "\n",
              "  <div class=\"colab-df-container\">\n",
              "    <button class=\"colab-df-convert\" onclick=\"convertToInteractive('df-2d91eb3e-3d62-4b8b-b818-e258f1f61e34')\"\n",
              "            title=\"Convert this dataframe to an interactive table.\"\n",
              "            style=\"display:none;\">\n",
              "\n",
              "  <svg xmlns=\"http://www.w3.org/2000/svg\" height=\"24px\" viewBox=\"0 -960 960 960\">\n",
              "    <path d=\"M120-120v-720h720v720H120Zm60-500h600v-160H180v160Zm220 220h160v-160H400v160Zm0 220h160v-160H400v160ZM180-400h160v-160H180v160Zm440 0h160v-160H620v160ZM180-180h160v-160H180v160Zm440 0h160v-160H620v160Z\"/>\n",
              "  </svg>\n",
              "    </button>\n",
              "\n",
              "  <style>\n",
              "    .colab-df-container {\n",
              "      display:flex;\n",
              "      gap: 12px;\n",
              "    }\n",
              "\n",
              "    .colab-df-convert {\n",
              "      background-color: #E8F0FE;\n",
              "      border: none;\n",
              "      border-radius: 50%;\n",
              "      cursor: pointer;\n",
              "      display: none;\n",
              "      fill: #1967D2;\n",
              "      height: 32px;\n",
              "      padding: 0 0 0 0;\n",
              "      width: 32px;\n",
              "    }\n",
              "\n",
              "    .colab-df-convert:hover {\n",
              "      background-color: #E2EBFA;\n",
              "      box-shadow: 0px 1px 2px rgba(60, 64, 67, 0.3), 0px 1px 3px 1px rgba(60, 64, 67, 0.15);\n",
              "      fill: #174EA6;\n",
              "    }\n",
              "\n",
              "    .colab-df-buttons div {\n",
              "      margin-bottom: 4px;\n",
              "    }\n",
              "\n",
              "    [theme=dark] .colab-df-convert {\n",
              "      background-color: #3B4455;\n",
              "      fill: #D2E3FC;\n",
              "    }\n",
              "\n",
              "    [theme=dark] .colab-df-convert:hover {\n",
              "      background-color: #434B5C;\n",
              "      box-shadow: 0px 1px 3px 1px rgba(0, 0, 0, 0.15);\n",
              "      filter: drop-shadow(0px 1px 2px rgba(0, 0, 0, 0.3));\n",
              "      fill: #FFFFFF;\n",
              "    }\n",
              "  </style>\n",
              "\n",
              "    <script>\n",
              "      const buttonEl =\n",
              "        document.querySelector('#df-2d91eb3e-3d62-4b8b-b818-e258f1f61e34 button.colab-df-convert');\n",
              "      buttonEl.style.display =\n",
              "        google.colab.kernel.accessAllowed ? 'block' : 'none';\n",
              "\n",
              "      async function convertToInteractive(key) {\n",
              "        const element = document.querySelector('#df-2d91eb3e-3d62-4b8b-b818-e258f1f61e34');\n",
              "        const dataTable =\n",
              "          await google.colab.kernel.invokeFunction('convertToInteractive',\n",
              "                                                    [key], {});\n",
              "        if (!dataTable) return;\n",
              "\n",
              "        const docLinkHtml = 'Like what you see? Visit the ' +\n",
              "          '<a target=\"_blank\" href=https://colab.research.google.com/notebooks/data_table.ipynb>data table notebook</a>'\n",
              "          + ' to learn more about interactive tables.';\n",
              "        element.innerHTML = '';\n",
              "        dataTable['output_type'] = 'display_data';\n",
              "        await google.colab.output.renderOutput(dataTable, element);\n",
              "        const docLink = document.createElement('div');\n",
              "        docLink.innerHTML = docLinkHtml;\n",
              "        element.appendChild(docLink);\n",
              "      }\n",
              "    </script>\n",
              "  </div>\n",
              "\n",
              "\n",
              "    <div id=\"df-261b5f16-6eb5-4d43-90f4-e647a625d706\">\n",
              "      <button class=\"colab-df-quickchart\" onclick=\"quickchart('df-261b5f16-6eb5-4d43-90f4-e647a625d706')\"\n",
              "                title=\"Suggest charts\"\n",
              "                style=\"display:none;\">\n",
              "\n",
              "<svg xmlns=\"http://www.w3.org/2000/svg\" height=\"24px\"viewBox=\"0 0 24 24\"\n",
              "     width=\"24px\">\n",
              "    <g>\n",
              "        <path d=\"M19 3H5c-1.1 0-2 .9-2 2v14c0 1.1.9 2 2 2h14c1.1 0 2-.9 2-2V5c0-1.1-.9-2-2-2zM9 17H7v-7h2v7zm4 0h-2V7h2v10zm4 0h-2v-4h2v4z\"/>\n",
              "    </g>\n",
              "</svg>\n",
              "      </button>\n",
              "\n",
              "<style>\n",
              "  .colab-df-quickchart {\n",
              "      --bg-color: #E8F0FE;\n",
              "      --fill-color: #1967D2;\n",
              "      --hover-bg-color: #E2EBFA;\n",
              "      --hover-fill-color: #174EA6;\n",
              "      --disabled-fill-color: #AAA;\n",
              "      --disabled-bg-color: #DDD;\n",
              "  }\n",
              "\n",
              "  [theme=dark] .colab-df-quickchart {\n",
              "      --bg-color: #3B4455;\n",
              "      --fill-color: #D2E3FC;\n",
              "      --hover-bg-color: #434B5C;\n",
              "      --hover-fill-color: #FFFFFF;\n",
              "      --disabled-bg-color: #3B4455;\n",
              "      --disabled-fill-color: #666;\n",
              "  }\n",
              "\n",
              "  .colab-df-quickchart {\n",
              "    background-color: var(--bg-color);\n",
              "    border: none;\n",
              "    border-radius: 50%;\n",
              "    cursor: pointer;\n",
              "    display: none;\n",
              "    fill: var(--fill-color);\n",
              "    height: 32px;\n",
              "    padding: 0;\n",
              "    width: 32px;\n",
              "  }\n",
              "\n",
              "  .colab-df-quickchart:hover {\n",
              "    background-color: var(--hover-bg-color);\n",
              "    box-shadow: 0 1px 2px rgba(60, 64, 67, 0.3), 0 1px 3px 1px rgba(60, 64, 67, 0.15);\n",
              "    fill: var(--button-hover-fill-color);\n",
              "  }\n",
              "\n",
              "  .colab-df-quickchart-complete:disabled,\n",
              "  .colab-df-quickchart-complete:disabled:hover {\n",
              "    background-color: var(--disabled-bg-color);\n",
              "    fill: var(--disabled-fill-color);\n",
              "    box-shadow: none;\n",
              "  }\n",
              "\n",
              "  .colab-df-spinner {\n",
              "    border: 2px solid var(--fill-color);\n",
              "    border-color: transparent;\n",
              "    border-bottom-color: var(--fill-color);\n",
              "    animation:\n",
              "      spin 1s steps(1) infinite;\n",
              "  }\n",
              "\n",
              "  @keyframes spin {\n",
              "    0% {\n",
              "      border-color: transparent;\n",
              "      border-bottom-color: var(--fill-color);\n",
              "      border-left-color: var(--fill-color);\n",
              "    }\n",
              "    20% {\n",
              "      border-color: transparent;\n",
              "      border-left-color: var(--fill-color);\n",
              "      border-top-color: var(--fill-color);\n",
              "    }\n",
              "    30% {\n",
              "      border-color: transparent;\n",
              "      border-left-color: var(--fill-color);\n",
              "      border-top-color: var(--fill-color);\n",
              "      border-right-color: var(--fill-color);\n",
              "    }\n",
              "    40% {\n",
              "      border-color: transparent;\n",
              "      border-right-color: var(--fill-color);\n",
              "      border-top-color: var(--fill-color);\n",
              "    }\n",
              "    60% {\n",
              "      border-color: transparent;\n",
              "      border-right-color: var(--fill-color);\n",
              "    }\n",
              "    80% {\n",
              "      border-color: transparent;\n",
              "      border-right-color: var(--fill-color);\n",
              "      border-bottom-color: var(--fill-color);\n",
              "    }\n",
              "    90% {\n",
              "      border-color: transparent;\n",
              "      border-bottom-color: var(--fill-color);\n",
              "    }\n",
              "  }\n",
              "</style>\n",
              "\n",
              "      <script>\n",
              "        async function quickchart(key) {\n",
              "          const quickchartButtonEl =\n",
              "            document.querySelector('#' + key + ' button');\n",
              "          quickchartButtonEl.disabled = true;  // To prevent multiple clicks.\n",
              "          quickchartButtonEl.classList.add('colab-df-spinner');\n",
              "          try {\n",
              "            const charts = await google.colab.kernel.invokeFunction(\n",
              "                'suggestCharts', [key], {});\n",
              "          } catch (error) {\n",
              "            console.error('Error during call to suggestCharts:', error);\n",
              "          }\n",
              "          quickchartButtonEl.classList.remove('colab-df-spinner');\n",
              "          quickchartButtonEl.classList.add('colab-df-quickchart-complete');\n",
              "        }\n",
              "        (() => {\n",
              "          let quickchartButtonEl =\n",
              "            document.querySelector('#df-261b5f16-6eb5-4d43-90f4-e647a625d706 button');\n",
              "          quickchartButtonEl.style.display =\n",
              "            google.colab.kernel.accessAllowed ? 'block' : 'none';\n",
              "        })();\n",
              "      </script>\n",
              "    </div>\n",
              "\n",
              "    </div>\n",
              "  </div>\n"
            ],
            "application/vnd.google.colaboratory.intrinsic+json": {
              "type": "dataframe",
              "summary": "{\n  \"name\": \"df\",\n  \"rows\": 5,\n  \"fields\": [\n    {\n      \"column\": \"popularity\",\n      \"properties\": {\n        \"dtype\": \"number\",\n        \"std\": 0,\n        \"min\": 22,\n        \"max\": 23,\n        \"num_unique_values\": 2,\n        \"samples\": [\n          22,\n          23\n        ],\n        \"semantic_type\": \"\",\n        \"description\": \"\"\n      }\n    },\n    {\n      \"column\": \"duration_ms\",\n      \"properties\": {\n        \"dtype\": \"number\",\n        \"std\": 75425,\n        \"min\": 148600,\n        \"max\": 352371,\n        \"num_unique_values\": 5,\n        \"samples\": [\n          204310,\n          257800\n        ],\n        \"semantic_type\": \"\",\n        \"description\": \"\"\n      }\n    },\n    {\n      \"column\": \"explicit\",\n      \"properties\": {\n        \"dtype\": \"boolean\",\n        \"num_unique_values\": 1,\n        \"samples\": [\n          false\n        ],\n        \"semantic_type\": \"\",\n        \"description\": \"\"\n      }\n    },\n    {\n      \"column\": \"danceability\",\n      \"properties\": {\n        \"dtype\": \"number\",\n        \"std\": 0.08998611003927219,\n        \"min\": 0.241,\n        \"max\": 0.457,\n        \"num_unique_values\": 5,\n        \"samples\": [\n          0.457\n        ],\n        \"semantic_type\": \"\",\n        \"description\": \"\"\n      }\n    },\n    {\n      \"column\": \"energy\",\n      \"properties\": {\n        \"dtype\": \"number\",\n        \"std\": 0.14448702363880295,\n        \"min\": 0.122,\n        \"max\": 0.498,\n        \"num_unique_values\": 5,\n        \"samples\": [\n          0.498\n        ],\n        \"semantic_type\": \"\",\n        \"description\": \"\"\n      }\n    },\n    {\n      \"column\": \"key\",\n      \"properties\": {\n        \"dtype\": \"number\",\n        \"std\": 2,\n        \"min\": 0,\n        \"max\": 6,\n        \"num_unique_values\": 5,\n        \"samples\": [\n          6\n        ],\n        \"semantic_type\": \"\",\n        \"description\": \"\"\n      }\n    },\n    {\n      \"column\": \"loudness\",\n      \"properties\": {\n        \"dtype\": \"number\",\n        \"std\": 5.2966477417324995,\n        \"min\": -22.173,\n        \"max\": -8.387,\n        \"num_unique_values\": 5,\n        \"samples\": [\n          -8.387\n        ],\n        \"semantic_type\": \"\",\n        \"description\": \"\"\n      }\n    },\n    {\n      \"column\": \"mode\",\n      \"properties\": {\n        \"dtype\": \"number\",\n        \"std\": 0,\n        \"min\": 0,\n        \"max\": 1,\n        \"num_unique_values\": 2,\n        \"samples\": [\n          1\n        ],\n        \"semantic_type\": \"\",\n        \"description\": \"\"\n      }\n    },\n    {\n      \"column\": \"speechiness\",\n      \"properties\": {\n        \"dtype\": \"number\",\n        \"std\": 0.009956153875869938,\n        \"min\": 0.0367,\n        \"max\": 0.0575,\n        \"num_unique_values\": 5,\n        \"samples\": [\n          0.0368\n        ],\n        \"semantic_type\": \"\",\n        \"description\": \"\"\n      }\n    },\n    {\n      \"column\": \"acousticness\",\n      \"properties\": {\n        \"dtype\": \"number\",\n        \"std\": 0.09148661104227217,\n        \"min\": 0.766,\n        \"max\": 0.984,\n        \"num_unique_values\": 5,\n        \"samples\": [\n          0.766\n        ],\n        \"semantic_type\": \"\",\n        \"description\": \"\"\n      }\n    },\n    {\n      \"column\": \"instrumentalness\",\n      \"properties\": {\n        \"dtype\": \"number\",\n        \"std\": 0.1464923703971549,\n        \"min\": 2.31e-06,\n        \"max\": 0.329,\n        \"num_unique_values\": 5,\n        \"samples\": [\n          2.31e-06\n        ],\n        \"semantic_type\": \"\",\n        \"description\": \"\"\n      }\n    },\n    {\n      \"column\": \"liveness\",\n      \"properties\": {\n        \"dtype\": \"number\",\n        \"std\": 0.1519367236714021,\n        \"min\": 0.0635,\n        \"max\": 0.41,\n        \"num_unique_values\": 5,\n        \"samples\": [\n          0.289\n        ],\n        \"semantic_type\": \"\",\n        \"description\": \"\"\n      }\n    },\n    {\n      \"column\": \"valence\",\n      \"properties\": {\n        \"dtype\": \"number\",\n        \"std\": 0.08203235337353183,\n        \"min\": 0.0731,\n        \"max\": 0.241,\n        \"num_unique_values\": 5,\n        \"samples\": [\n          0.202\n        ],\n        \"semantic_type\": \"\",\n        \"description\": \"\"\n      }\n    },\n    {\n      \"column\": \"tempo\",\n      \"properties\": {\n        \"dtype\": \"number\",\n        \"std\": 20.00435451345531,\n        \"min\": 71.37,\n        \"max\": 117.718,\n        \"num_unique_values\": 5,\n        \"samples\": [\n          116.255\n        ],\n        \"semantic_type\": \"\",\n        \"description\": \"\"\n      }\n    },\n    {\n      \"column\": \"time_signature\",\n      \"properties\": {\n        \"dtype\": \"number\",\n        \"std\": 1,\n        \"min\": 1,\n        \"max\": 4,\n        \"num_unique_values\": 2,\n        \"samples\": [\n          1\n        ],\n        \"semantic_type\": \"\",\n        \"description\": \"\"\n      }\n    },\n    {\n      \"column\": \"track_genre\",\n      \"properties\": {\n        \"dtype\": \"category\",\n        \"num_unique_values\": 1,\n        \"samples\": [\n          \"opera\"\n        ],\n        \"semantic_type\": \"\",\n        \"description\": \"\"\n      }\n    }\n  ]\n}"
            }
          },
          "metadata": {},
          "execution_count": 2
        }
      ],
      "source": [
        "df = pd.read_csv(\"./tracks.csv\")\n",
        "df.tail()"
      ]
    },
    {
      "cell_type": "code",
      "execution_count": null,
      "metadata": {
        "colab": {
          "base_uri": "https://localhost:8080/",
          "height": 586
        },
        "id": "pJfY3CyobJNk",
        "outputId": "562cb9ca-2feb-414e-9360-912a65c07e7f"
      },
      "outputs": [
        {
          "output_type": "execute_result",
          "data": {
            "text/plain": [
              "popularity          0\n",
              "duration_ms         0\n",
              "explicit            0\n",
              "danceability        0\n",
              "energy              0\n",
              "key                 0\n",
              "loudness            0\n",
              "mode                0\n",
              "speechiness         0\n",
              "acousticness        0\n",
              "instrumentalness    0\n",
              "liveness            0\n",
              "valence             0\n",
              "tempo               0\n",
              "time_signature      0\n",
              "track_genre         0\n",
              "dtype: int64"
            ],
            "text/html": [
              "<div>\n",
              "<style scoped>\n",
              "    .dataframe tbody tr th:only-of-type {\n",
              "        vertical-align: middle;\n",
              "    }\n",
              "\n",
              "    .dataframe tbody tr th {\n",
              "        vertical-align: top;\n",
              "    }\n",
              "\n",
              "    .dataframe thead th {\n",
              "        text-align: right;\n",
              "    }\n",
              "</style>\n",
              "<table border=\"1\" class=\"dataframe\">\n",
              "  <thead>\n",
              "    <tr style=\"text-align: right;\">\n",
              "      <th></th>\n",
              "      <th>0</th>\n",
              "    </tr>\n",
              "  </thead>\n",
              "  <tbody>\n",
              "    <tr>\n",
              "      <th>popularity</th>\n",
              "      <td>0</td>\n",
              "    </tr>\n",
              "    <tr>\n",
              "      <th>duration_ms</th>\n",
              "      <td>0</td>\n",
              "    </tr>\n",
              "    <tr>\n",
              "      <th>explicit</th>\n",
              "      <td>0</td>\n",
              "    </tr>\n",
              "    <tr>\n",
              "      <th>danceability</th>\n",
              "      <td>0</td>\n",
              "    </tr>\n",
              "    <tr>\n",
              "      <th>energy</th>\n",
              "      <td>0</td>\n",
              "    </tr>\n",
              "    <tr>\n",
              "      <th>key</th>\n",
              "      <td>0</td>\n",
              "    </tr>\n",
              "    <tr>\n",
              "      <th>loudness</th>\n",
              "      <td>0</td>\n",
              "    </tr>\n",
              "    <tr>\n",
              "      <th>mode</th>\n",
              "      <td>0</td>\n",
              "    </tr>\n",
              "    <tr>\n",
              "      <th>speechiness</th>\n",
              "      <td>0</td>\n",
              "    </tr>\n",
              "    <tr>\n",
              "      <th>acousticness</th>\n",
              "      <td>0</td>\n",
              "    </tr>\n",
              "    <tr>\n",
              "      <th>instrumentalness</th>\n",
              "      <td>0</td>\n",
              "    </tr>\n",
              "    <tr>\n",
              "      <th>liveness</th>\n",
              "      <td>0</td>\n",
              "    </tr>\n",
              "    <tr>\n",
              "      <th>valence</th>\n",
              "      <td>0</td>\n",
              "    </tr>\n",
              "    <tr>\n",
              "      <th>tempo</th>\n",
              "      <td>0</td>\n",
              "    </tr>\n",
              "    <tr>\n",
              "      <th>time_signature</th>\n",
              "      <td>0</td>\n",
              "    </tr>\n",
              "    <tr>\n",
              "      <th>track_genre</th>\n",
              "      <td>0</td>\n",
              "    </tr>\n",
              "  </tbody>\n",
              "</table>\n",
              "</div><br><label><b>dtype:</b> int64</label>"
            ]
          },
          "metadata": {},
          "execution_count": 3
        }
      ],
      "source": [
        "df.isna().sum()"
      ]
    },
    {
      "cell_type": "markdown",
      "source": [
        "# Parameter tuning"
      ],
      "metadata": {
        "id": "12iSzdoS9MPC"
      }
    },
    {
      "cell_type": "markdown",
      "metadata": {
        "id": "vjmhIp3lsACw"
      },
      "source": [
        "Genre is dropped, as it is categorical data.\n",
        "\n",
        "Explicit is mapped to 0 and 1, to replace the bool, as well as to be more consistent with other features being in the range of 0-1\n",
        "\n",
        "Popularity is changed to a boolean value of 0 and 1, with songs ranked over 50 being considered popular. This produced better results for clustering and a more definitive silhouette coefficient."
      ]
    },
    {
      "cell_type": "code",
      "execution_count": null,
      "metadata": {
        "colab": {
          "base_uri": "https://localhost:8080/",
          "height": 226
        },
        "id": "CynoDm_RGn3k",
        "outputId": "ba51af3d-0bf1-4562-ea2e-4363db47e8a4"
      },
      "outputs": [
        {
          "output_type": "execute_result",
          "data": {
            "text/plain": [
              "      popularity  duration_ms  explicit  danceability  energy  key  loudness  \\\n",
              "1495           0       352371         0         0.273   0.122    0   -22.173   \n",
              "1496           0       204310         0         0.457   0.498    6    -8.387   \n",
              "1497           0       225506         0         0.241   0.207    1   -16.353   \n",
              "1498           0       148600         0         0.280   0.208    5   -20.158   \n",
              "1499           0       257800         0         0.244   0.205    3   -15.596   \n",
              "\n",
              "      mode  speechiness  acousticness  instrumentalness  liveness  valence  \\\n",
              "1495     0       0.0575         0.960          0.003330    0.0635   0.0731   \n",
              "1496     1       0.0368         0.766          0.000002    0.2890   0.2020   \n",
              "1497     1       0.0374         0.982          0.002260    0.1140   0.0735   \n",
              "1498     1       0.0521         0.941          0.000200    0.4100   0.2410   \n",
              "1499     1       0.0367         0.984          0.329000    0.0788   0.0750   \n",
              "\n",
              "        tempo  time_signature  \n",
              "1495  117.718               4  \n",
              "1496  116.255               4  \n",
              "1497   86.885               1  \n",
              "1498   90.477               4  \n",
              "1499   71.370               4  "
            ],
            "text/html": [
              "\n",
              "  <div id=\"df-80db9919-57cc-469f-b5cb-e9d60bf98ada\" class=\"colab-df-container\">\n",
              "    <div>\n",
              "<style scoped>\n",
              "    .dataframe tbody tr th:only-of-type {\n",
              "        vertical-align: middle;\n",
              "    }\n",
              "\n",
              "    .dataframe tbody tr th {\n",
              "        vertical-align: top;\n",
              "    }\n",
              "\n",
              "    .dataframe thead th {\n",
              "        text-align: right;\n",
              "    }\n",
              "</style>\n",
              "<table border=\"1\" class=\"dataframe\">\n",
              "  <thead>\n",
              "    <tr style=\"text-align: right;\">\n",
              "      <th></th>\n",
              "      <th>popularity</th>\n",
              "      <th>duration_ms</th>\n",
              "      <th>explicit</th>\n",
              "      <th>danceability</th>\n",
              "      <th>energy</th>\n",
              "      <th>key</th>\n",
              "      <th>loudness</th>\n",
              "      <th>mode</th>\n",
              "      <th>speechiness</th>\n",
              "      <th>acousticness</th>\n",
              "      <th>instrumentalness</th>\n",
              "      <th>liveness</th>\n",
              "      <th>valence</th>\n",
              "      <th>tempo</th>\n",
              "      <th>time_signature</th>\n",
              "    </tr>\n",
              "  </thead>\n",
              "  <tbody>\n",
              "    <tr>\n",
              "      <th>1495</th>\n",
              "      <td>0</td>\n",
              "      <td>352371</td>\n",
              "      <td>0</td>\n",
              "      <td>0.273</td>\n",
              "      <td>0.122</td>\n",
              "      <td>0</td>\n",
              "      <td>-22.173</td>\n",
              "      <td>0</td>\n",
              "      <td>0.0575</td>\n",
              "      <td>0.960</td>\n",
              "      <td>0.003330</td>\n",
              "      <td>0.0635</td>\n",
              "      <td>0.0731</td>\n",
              "      <td>117.718</td>\n",
              "      <td>4</td>\n",
              "    </tr>\n",
              "    <tr>\n",
              "      <th>1496</th>\n",
              "      <td>0</td>\n",
              "      <td>204310</td>\n",
              "      <td>0</td>\n",
              "      <td>0.457</td>\n",
              "      <td>0.498</td>\n",
              "      <td>6</td>\n",
              "      <td>-8.387</td>\n",
              "      <td>1</td>\n",
              "      <td>0.0368</td>\n",
              "      <td>0.766</td>\n",
              "      <td>0.000002</td>\n",
              "      <td>0.2890</td>\n",
              "      <td>0.2020</td>\n",
              "      <td>116.255</td>\n",
              "      <td>4</td>\n",
              "    </tr>\n",
              "    <tr>\n",
              "      <th>1497</th>\n",
              "      <td>0</td>\n",
              "      <td>225506</td>\n",
              "      <td>0</td>\n",
              "      <td>0.241</td>\n",
              "      <td>0.207</td>\n",
              "      <td>1</td>\n",
              "      <td>-16.353</td>\n",
              "      <td>1</td>\n",
              "      <td>0.0374</td>\n",
              "      <td>0.982</td>\n",
              "      <td>0.002260</td>\n",
              "      <td>0.1140</td>\n",
              "      <td>0.0735</td>\n",
              "      <td>86.885</td>\n",
              "      <td>1</td>\n",
              "    </tr>\n",
              "    <tr>\n",
              "      <th>1498</th>\n",
              "      <td>0</td>\n",
              "      <td>148600</td>\n",
              "      <td>0</td>\n",
              "      <td>0.280</td>\n",
              "      <td>0.208</td>\n",
              "      <td>5</td>\n",
              "      <td>-20.158</td>\n",
              "      <td>1</td>\n",
              "      <td>0.0521</td>\n",
              "      <td>0.941</td>\n",
              "      <td>0.000200</td>\n",
              "      <td>0.4100</td>\n",
              "      <td>0.2410</td>\n",
              "      <td>90.477</td>\n",
              "      <td>4</td>\n",
              "    </tr>\n",
              "    <tr>\n",
              "      <th>1499</th>\n",
              "      <td>0</td>\n",
              "      <td>257800</td>\n",
              "      <td>0</td>\n",
              "      <td>0.244</td>\n",
              "      <td>0.205</td>\n",
              "      <td>3</td>\n",
              "      <td>-15.596</td>\n",
              "      <td>1</td>\n",
              "      <td>0.0367</td>\n",
              "      <td>0.984</td>\n",
              "      <td>0.329000</td>\n",
              "      <td>0.0788</td>\n",
              "      <td>0.0750</td>\n",
              "      <td>71.370</td>\n",
              "      <td>4</td>\n",
              "    </tr>\n",
              "  </tbody>\n",
              "</table>\n",
              "</div>\n",
              "    <div class=\"colab-df-buttons\">\n",
              "\n",
              "  <div class=\"colab-df-container\">\n",
              "    <button class=\"colab-df-convert\" onclick=\"convertToInteractive('df-80db9919-57cc-469f-b5cb-e9d60bf98ada')\"\n",
              "            title=\"Convert this dataframe to an interactive table.\"\n",
              "            style=\"display:none;\">\n",
              "\n",
              "  <svg xmlns=\"http://www.w3.org/2000/svg\" height=\"24px\" viewBox=\"0 -960 960 960\">\n",
              "    <path d=\"M120-120v-720h720v720H120Zm60-500h600v-160H180v160Zm220 220h160v-160H400v160Zm0 220h160v-160H400v160ZM180-400h160v-160H180v160Zm440 0h160v-160H620v160ZM180-180h160v-160H180v160Zm440 0h160v-160H620v160Z\"/>\n",
              "  </svg>\n",
              "    </button>\n",
              "\n",
              "  <style>\n",
              "    .colab-df-container {\n",
              "      display:flex;\n",
              "      gap: 12px;\n",
              "    }\n",
              "\n",
              "    .colab-df-convert {\n",
              "      background-color: #E8F0FE;\n",
              "      border: none;\n",
              "      border-radius: 50%;\n",
              "      cursor: pointer;\n",
              "      display: none;\n",
              "      fill: #1967D2;\n",
              "      height: 32px;\n",
              "      padding: 0 0 0 0;\n",
              "      width: 32px;\n",
              "    }\n",
              "\n",
              "    .colab-df-convert:hover {\n",
              "      background-color: #E2EBFA;\n",
              "      box-shadow: 0px 1px 2px rgba(60, 64, 67, 0.3), 0px 1px 3px 1px rgba(60, 64, 67, 0.15);\n",
              "      fill: #174EA6;\n",
              "    }\n",
              "\n",
              "    .colab-df-buttons div {\n",
              "      margin-bottom: 4px;\n",
              "    }\n",
              "\n",
              "    [theme=dark] .colab-df-convert {\n",
              "      background-color: #3B4455;\n",
              "      fill: #D2E3FC;\n",
              "    }\n",
              "\n",
              "    [theme=dark] .colab-df-convert:hover {\n",
              "      background-color: #434B5C;\n",
              "      box-shadow: 0px 1px 3px 1px rgba(0, 0, 0, 0.15);\n",
              "      filter: drop-shadow(0px 1px 2px rgba(0, 0, 0, 0.3));\n",
              "      fill: #FFFFFF;\n",
              "    }\n",
              "  </style>\n",
              "\n",
              "    <script>\n",
              "      const buttonEl =\n",
              "        document.querySelector('#df-80db9919-57cc-469f-b5cb-e9d60bf98ada button.colab-df-convert');\n",
              "      buttonEl.style.display =\n",
              "        google.colab.kernel.accessAllowed ? 'block' : 'none';\n",
              "\n",
              "      async function convertToInteractive(key) {\n",
              "        const element = document.querySelector('#df-80db9919-57cc-469f-b5cb-e9d60bf98ada');\n",
              "        const dataTable =\n",
              "          await google.colab.kernel.invokeFunction('convertToInteractive',\n",
              "                                                    [key], {});\n",
              "        if (!dataTable) return;\n",
              "\n",
              "        const docLinkHtml = 'Like what you see? Visit the ' +\n",
              "          '<a target=\"_blank\" href=https://colab.research.google.com/notebooks/data_table.ipynb>data table notebook</a>'\n",
              "          + ' to learn more about interactive tables.';\n",
              "        element.innerHTML = '';\n",
              "        dataTable['output_type'] = 'display_data';\n",
              "        await google.colab.output.renderOutput(dataTable, element);\n",
              "        const docLink = document.createElement('div');\n",
              "        docLink.innerHTML = docLinkHtml;\n",
              "        element.appendChild(docLink);\n",
              "      }\n",
              "    </script>\n",
              "  </div>\n",
              "\n",
              "\n",
              "    <div id=\"df-957b4b4d-a469-4470-93d6-04b85276971e\">\n",
              "      <button class=\"colab-df-quickchart\" onclick=\"quickchart('df-957b4b4d-a469-4470-93d6-04b85276971e')\"\n",
              "                title=\"Suggest charts\"\n",
              "                style=\"display:none;\">\n",
              "\n",
              "<svg xmlns=\"http://www.w3.org/2000/svg\" height=\"24px\"viewBox=\"0 0 24 24\"\n",
              "     width=\"24px\">\n",
              "    <g>\n",
              "        <path d=\"M19 3H5c-1.1 0-2 .9-2 2v14c0 1.1.9 2 2 2h14c1.1 0 2-.9 2-2V5c0-1.1-.9-2-2-2zM9 17H7v-7h2v7zm4 0h-2V7h2v10zm4 0h-2v-4h2v4z\"/>\n",
              "    </g>\n",
              "</svg>\n",
              "      </button>\n",
              "\n",
              "<style>\n",
              "  .colab-df-quickchart {\n",
              "      --bg-color: #E8F0FE;\n",
              "      --fill-color: #1967D2;\n",
              "      --hover-bg-color: #E2EBFA;\n",
              "      --hover-fill-color: #174EA6;\n",
              "      --disabled-fill-color: #AAA;\n",
              "      --disabled-bg-color: #DDD;\n",
              "  }\n",
              "\n",
              "  [theme=dark] .colab-df-quickchart {\n",
              "      --bg-color: #3B4455;\n",
              "      --fill-color: #D2E3FC;\n",
              "      --hover-bg-color: #434B5C;\n",
              "      --hover-fill-color: #FFFFFF;\n",
              "      --disabled-bg-color: #3B4455;\n",
              "      --disabled-fill-color: #666;\n",
              "  }\n",
              "\n",
              "  .colab-df-quickchart {\n",
              "    background-color: var(--bg-color);\n",
              "    border: none;\n",
              "    border-radius: 50%;\n",
              "    cursor: pointer;\n",
              "    display: none;\n",
              "    fill: var(--fill-color);\n",
              "    height: 32px;\n",
              "    padding: 0;\n",
              "    width: 32px;\n",
              "  }\n",
              "\n",
              "  .colab-df-quickchart:hover {\n",
              "    background-color: var(--hover-bg-color);\n",
              "    box-shadow: 0 1px 2px rgba(60, 64, 67, 0.3), 0 1px 3px 1px rgba(60, 64, 67, 0.15);\n",
              "    fill: var(--button-hover-fill-color);\n",
              "  }\n",
              "\n",
              "  .colab-df-quickchart-complete:disabled,\n",
              "  .colab-df-quickchart-complete:disabled:hover {\n",
              "    background-color: var(--disabled-bg-color);\n",
              "    fill: var(--disabled-fill-color);\n",
              "    box-shadow: none;\n",
              "  }\n",
              "\n",
              "  .colab-df-spinner {\n",
              "    border: 2px solid var(--fill-color);\n",
              "    border-color: transparent;\n",
              "    border-bottom-color: var(--fill-color);\n",
              "    animation:\n",
              "      spin 1s steps(1) infinite;\n",
              "  }\n",
              "\n",
              "  @keyframes spin {\n",
              "    0% {\n",
              "      border-color: transparent;\n",
              "      border-bottom-color: var(--fill-color);\n",
              "      border-left-color: var(--fill-color);\n",
              "    }\n",
              "    20% {\n",
              "      border-color: transparent;\n",
              "      border-left-color: var(--fill-color);\n",
              "      border-top-color: var(--fill-color);\n",
              "    }\n",
              "    30% {\n",
              "      border-color: transparent;\n",
              "      border-left-color: var(--fill-color);\n",
              "      border-top-color: var(--fill-color);\n",
              "      border-right-color: var(--fill-color);\n",
              "    }\n",
              "    40% {\n",
              "      border-color: transparent;\n",
              "      border-right-color: var(--fill-color);\n",
              "      border-top-color: var(--fill-color);\n",
              "    }\n",
              "    60% {\n",
              "      border-color: transparent;\n",
              "      border-right-color: var(--fill-color);\n",
              "    }\n",
              "    80% {\n",
              "      border-color: transparent;\n",
              "      border-right-color: var(--fill-color);\n",
              "      border-bottom-color: var(--fill-color);\n",
              "    }\n",
              "    90% {\n",
              "      border-color: transparent;\n",
              "      border-bottom-color: var(--fill-color);\n",
              "    }\n",
              "  }\n",
              "</style>\n",
              "\n",
              "      <script>\n",
              "        async function quickchart(key) {\n",
              "          const quickchartButtonEl =\n",
              "            document.querySelector('#' + key + ' button');\n",
              "          quickchartButtonEl.disabled = true;  // To prevent multiple clicks.\n",
              "          quickchartButtonEl.classList.add('colab-df-spinner');\n",
              "          try {\n",
              "            const charts = await google.colab.kernel.invokeFunction(\n",
              "                'suggestCharts', [key], {});\n",
              "          } catch (error) {\n",
              "            console.error('Error during call to suggestCharts:', error);\n",
              "          }\n",
              "          quickchartButtonEl.classList.remove('colab-df-spinner');\n",
              "          quickchartButtonEl.classList.add('colab-df-quickchart-complete');\n",
              "        }\n",
              "        (() => {\n",
              "          let quickchartButtonEl =\n",
              "            document.querySelector('#df-957b4b4d-a469-4470-93d6-04b85276971e button');\n",
              "          quickchartButtonEl.style.display =\n",
              "            google.colab.kernel.accessAllowed ? 'block' : 'none';\n",
              "        })();\n",
              "      </script>\n",
              "    </div>\n",
              "\n",
              "    </div>\n",
              "  </div>\n"
            ],
            "application/vnd.google.colaboratory.intrinsic+json": {
              "type": "dataframe",
              "summary": "{\n  \"name\": \"df\",\n  \"rows\": 5,\n  \"fields\": [\n    {\n      \"column\": \"popularity\",\n      \"properties\": {\n        \"dtype\": \"number\",\n        \"std\": 0,\n        \"min\": 0,\n        \"max\": 0,\n        \"num_unique_values\": 1,\n        \"samples\": [\n          0\n        ],\n        \"semantic_type\": \"\",\n        \"description\": \"\"\n      }\n    },\n    {\n      \"column\": \"duration_ms\",\n      \"properties\": {\n        \"dtype\": \"number\",\n        \"std\": 75425,\n        \"min\": 148600,\n        \"max\": 352371,\n        \"num_unique_values\": 5,\n        \"samples\": [\n          204310\n        ],\n        \"semantic_type\": \"\",\n        \"description\": \"\"\n      }\n    },\n    {\n      \"column\": \"explicit\",\n      \"properties\": {\n        \"dtype\": \"number\",\n        \"std\": 0,\n        \"min\": 0,\n        \"max\": 0,\n        \"num_unique_values\": 1,\n        \"samples\": [\n          0\n        ],\n        \"semantic_type\": \"\",\n        \"description\": \"\"\n      }\n    },\n    {\n      \"column\": \"danceability\",\n      \"properties\": {\n        \"dtype\": \"number\",\n        \"std\": 0.08998611003927219,\n        \"min\": 0.241,\n        \"max\": 0.457,\n        \"num_unique_values\": 5,\n        \"samples\": [\n          0.457\n        ],\n        \"semantic_type\": \"\",\n        \"description\": \"\"\n      }\n    },\n    {\n      \"column\": \"energy\",\n      \"properties\": {\n        \"dtype\": \"number\",\n        \"std\": 0.14448702363880295,\n        \"min\": 0.122,\n        \"max\": 0.498,\n        \"num_unique_values\": 5,\n        \"samples\": [\n          0.498\n        ],\n        \"semantic_type\": \"\",\n        \"description\": \"\"\n      }\n    },\n    {\n      \"column\": \"key\",\n      \"properties\": {\n        \"dtype\": \"number\",\n        \"std\": 2,\n        \"min\": 0,\n        \"max\": 6,\n        \"num_unique_values\": 5,\n        \"samples\": [\n          6\n        ],\n        \"semantic_type\": \"\",\n        \"description\": \"\"\n      }\n    },\n    {\n      \"column\": \"loudness\",\n      \"properties\": {\n        \"dtype\": \"number\",\n        \"std\": 5.2966477417324995,\n        \"min\": -22.173,\n        \"max\": -8.387,\n        \"num_unique_values\": 5,\n        \"samples\": [\n          -8.387\n        ],\n        \"semantic_type\": \"\",\n        \"description\": \"\"\n      }\n    },\n    {\n      \"column\": \"mode\",\n      \"properties\": {\n        \"dtype\": \"number\",\n        \"std\": 0,\n        \"min\": 0,\n        \"max\": 1,\n        \"num_unique_values\": 2,\n        \"samples\": [\n          1\n        ],\n        \"semantic_type\": \"\",\n        \"description\": \"\"\n      }\n    },\n    {\n      \"column\": \"speechiness\",\n      \"properties\": {\n        \"dtype\": \"number\",\n        \"std\": 0.009956153875869938,\n        \"min\": 0.0367,\n        \"max\": 0.0575,\n        \"num_unique_values\": 5,\n        \"samples\": [\n          0.0368\n        ],\n        \"semantic_type\": \"\",\n        \"description\": \"\"\n      }\n    },\n    {\n      \"column\": \"acousticness\",\n      \"properties\": {\n        \"dtype\": \"number\",\n        \"std\": 0.09148661104227217,\n        \"min\": 0.766,\n        \"max\": 0.984,\n        \"num_unique_values\": 5,\n        \"samples\": [\n          0.766\n        ],\n        \"semantic_type\": \"\",\n        \"description\": \"\"\n      }\n    },\n    {\n      \"column\": \"instrumentalness\",\n      \"properties\": {\n        \"dtype\": \"number\",\n        \"std\": 0.1464923703971549,\n        \"min\": 2.31e-06,\n        \"max\": 0.329,\n        \"num_unique_values\": 5,\n        \"samples\": [\n          2.31e-06\n        ],\n        \"semantic_type\": \"\",\n        \"description\": \"\"\n      }\n    },\n    {\n      \"column\": \"liveness\",\n      \"properties\": {\n        \"dtype\": \"number\",\n        \"std\": 0.1519367236714021,\n        \"min\": 0.0635,\n        \"max\": 0.41,\n        \"num_unique_values\": 5,\n        \"samples\": [\n          0.289\n        ],\n        \"semantic_type\": \"\",\n        \"description\": \"\"\n      }\n    },\n    {\n      \"column\": \"valence\",\n      \"properties\": {\n        \"dtype\": \"number\",\n        \"std\": 0.08203235337353183,\n        \"min\": 0.0731,\n        \"max\": 0.241,\n        \"num_unique_values\": 5,\n        \"samples\": [\n          0.202\n        ],\n        \"semantic_type\": \"\",\n        \"description\": \"\"\n      }\n    },\n    {\n      \"column\": \"tempo\",\n      \"properties\": {\n        \"dtype\": \"number\",\n        \"std\": 20.00435451345531,\n        \"min\": 71.37,\n        \"max\": 117.718,\n        \"num_unique_values\": 5,\n        \"samples\": [\n          116.255\n        ],\n        \"semantic_type\": \"\",\n        \"description\": \"\"\n      }\n    },\n    {\n      \"column\": \"time_signature\",\n      \"properties\": {\n        \"dtype\": \"number\",\n        \"std\": 1,\n        \"min\": 1,\n        \"max\": 4,\n        \"num_unique_values\": 2,\n        \"samples\": [\n          1\n        ],\n        \"semantic_type\": \"\",\n        \"description\": \"\"\n      }\n    }\n  ]\n}"
            }
          },
          "metadata": {},
          "execution_count": 11
        }
      ],
      "source": [
        "df.drop(columns=[\"track_genre\"], inplace=True, errors='ignore')\n",
        "\n",
        "bool_mapper = {\n",
        "    False: 0,\n",
        "    True: 1,\n",
        "}\n",
        "df['popularity'] = df['popularity'].apply(lambda x: 1 if x > 50 else 0)\n",
        "df['explicit'] = df['explicit'].replace(bool_mapper)\n",
        "df.tail()"
      ]
    },
    {
      "cell_type": "markdown",
      "source": [
        "Here we created the `preprocess_pipeline` in order to make sure that the features of this dataset were appropriately scaled and transformed before being fed into the clustering model."
      ],
      "metadata": {
        "id": "PUcgTTtzE-0K"
      }
    },
    {
      "cell_type": "code",
      "source": [
        "y = df['popularity']\n",
        "X = df.drop('popularity', axis=1)"
      ],
      "metadata": {
        "id": "FThSk3-R__gE"
      },
      "execution_count": null,
      "outputs": []
    },
    {
      "cell_type": "code",
      "source": [
        "from sklearn.preprocessing import OneHotEncoder\n",
        "from sklearn.compose import ColumnTransformer\n",
        "from sklearn.pipeline import Pipeline\n",
        "# outliers\n",
        "# - duration\n",
        "# - loudness\n",
        "# - speechiness\n",
        "# - instrumentalness\n",
        "# - liveness\n",
        "# - tempo\n",
        "\n",
        "\n",
        "columns_outliers_no_skew = [\"speechiness\", \"instrumentalness\", \"liveness\"]\n",
        "\n",
        "columns_outliers_skewed = ['duration_ms', 'loudness', 'tempo']\n",
        "\n",
        "columns_no_outliers_skewed = [\"duration_ms\",\n",
        "                              \"danceability\",\n",
        "                              \"energy\",\n",
        "                              \"loudness\",\n",
        "                              \"speechiness\",\n",
        "                              \"acousticness\",\n",
        "                              \"instrumentalness\",\n",
        "                              \"liveness\",\n",
        "                              \"valence\",\n",
        "                              \"tempo\",\n",
        "                              ]\n",
        "\n",
        "columns_no_outliers_no_skew = [col for col in X.columns if\n",
        "                               col not in columns_outliers_no_skew and col not in columns_no_outliers_skewed and col not in columns_outliers_skewed]\n",
        "\n",
        "outliers_no_skew_pipeline = Pipeline(\n",
        "    steps=[\n",
        "        (\"log_transform\", preprocessing.PowerTransformer(method=\"yeo-johnson\")),\n",
        "        (\"scaler\", preprocessing.RobustScaler())\n",
        "    ]\n",
        ")\n",
        "\n",
        "outliers_skewed_pipeline = Pipeline(steps=[\n",
        "    (\"log_transform\", preprocessing.PowerTransformer(method=\"yeo-johnson\")),\n",
        "    ('scale', preprocessing.RobustScaler())\n",
        "])\n",
        "\n",
        "no_outliers_skewed_pipeline = Pipeline(\n",
        "    steps=[\n",
        "        (\"log_transform\", preprocessing.PowerTransformer(method=\"yeo-johnson\")),\n",
        "        (\"scaler\", preprocessing.MinMaxScaler())\n",
        "    ]\n",
        ")\n",
        "\n",
        "no_outliers_no_skew_pipeline = Pipeline(\n",
        "    steps=[\n",
        "        (\"scaler\", preprocessing.MinMaxScaler())\n",
        "    ]\n",
        ")\n",
        "\n",
        "preprocess_pipeline = ColumnTransformer(\n",
        "    transformers=[\n",
        "        (\"outliers_skewed\", outliers_skewed_pipeline, columns_outliers_skewed),\n",
        "        (\"outliers_not_skewed\", outliers_no_skew_pipeline, columns_outliers_no_skew),\n",
        "        (\"no_outliers_skewed\", no_outliers_skewed_pipeline, columns_no_outliers_skewed),\n",
        "        (\"no_outliers_no_skew\", no_outliers_no_skew_pipeline, columns_no_outliers_no_skew)\n",
        "    ],\n",
        "    remainder=\"passthrough\"\n",
        ")"
      ],
      "metadata": {
        "id": "8Ji78H8F9K3C"
      },
      "execution_count": null,
      "outputs": []
    },
    {
      "cell_type": "markdown",
      "source": [
        "- Firsly, for features with strong outliers and no skew, we applied a Yeo-Johnson transform followed by scaling with the RobustScaler.\n",
        "- Then, for highly skewed features with significant outliers, we applied a Yeo-Johnson power transformation followed by robust scaling to mitigate the impact of extreme values.\n",
        "- Then for moderately skewed features without strong outliers, we applied a Yeo-Johnson transform followed by MinMax scaling.\n",
        "- And lastly, features without noticeable skew or outliers were scaled directly using a MinMax scaler.\n",
        "\n",
        "**Note**: We chose the Yeo-Johnson transformation over a log transformation because it can handle both positive and negative values, including zeros, without requiring manual data shifts, providing a more flexible and robust normalization method. (reference [here](https://scikit-learn.org/stable/modules/generated/sklearn.preprocessing.PowerTransformer.html))\n",
        "\n",
        "\n",
        "We're using Random Forest classifier, as it was tested with the best results in classification"
      ],
      "metadata": {
        "id": "StZYixy1Bo1I"
      }
    },
    {
      "cell_type": "code",
      "execution_count": null,
      "metadata": {
        "colab": {
          "base_uri": "https://localhost:8080/"
        },
        "id": "QWwWAKJAHvH2",
        "outputId": "d49567ed-3765-4f38-c9c5-3368d7d6fb11"
      },
      "outputs": [
        {
          "output_type": "stream",
          "name": "stdout",
          "text": [
            "(number of examples, number of attributes):  (1500, 15)\n"
          ]
        }
      ],
      "source": [
        "data = np.array(df.values, dtype=float)\n",
        "print('(number of examples, number of attributes): ', data.shape)"
      ]
    },
    {
      "cell_type": "markdown",
      "metadata": {
        "id": "Wdxj1CXPSyIz"
      },
      "source": [
        "---\n",
        "\n",
        "### Scatterplot\n",
        "\n",
        "\n"
      ]
    },
    {
      "cell_type": "code",
      "execution_count": null,
      "metadata": {
        "id": "ASm7QpxoSyIz"
      },
      "outputs": [],
      "source": [
        "colors = np.array(['orange', 'blue', 'lime', 'khaki', 'pink', 'green', 'purple'])\n",
        "\n",
        "# points - a 2D array of (x,y) coordinates of data points\n",
        "# labels - an array of numeric labels in the interval [0..k-1], one for each point\n",
        "# centers - a 2D array of (x, y) coordinates of cluster centers\n",
        "# title - title of the plot\n",
        "\n",
        "\n",
        "def clustering_scatterplot(points, labels, centers, title):\n",
        "\n",
        "\n",
        "    n_clusters = np.unique(labels).size\n",
        "    for i in range(n_clusters):\n",
        "        h = plt.scatter(points[labels==i,0],\n",
        "                        points[labels==i,1],\n",
        "                        c=colors[i%colors.size],\n",
        "                        label = 'cluster '+str(i))\n",
        "\n",
        "    # plot the centers of the clusters\n",
        "    if centers is not None:\n",
        "        plt.scatter(centers[:,0], centers[:,1], c='r', marker='*', s=500)\n",
        "\n",
        "    _ = plt.title(title)\n",
        "    _ = plt.legend()\n",
        "    _ = plt.xlabel('x')\n",
        "    _ = plt.ylabel('y')"
      ]
    },
    {
      "cell_type": "markdown",
      "metadata": {
        "id": "aPnzX-9hSyI0"
      },
      "source": [
        "---\n",
        "### K-Means Clustering (Roy)"
      ]
    },
    {
      "cell_type": "markdown",
      "metadata": {
        "id": "jArjQRDESyI1"
      },
      "source": [
        "Number of clusters $k$."
      ]
    },
    {
      "cell_type": "markdown",
      "metadata": {
        "id": "CSbe_GSyukPV"
      },
      "source": [
        "For determining the ideal value of K, the elbow-method was used, mapping the sum of squares of the clusters to the graph. When the decline starts to flatten, like a bent elbow, that is the ideal value of k.\n",
        "\n",
        "Through this, k=3 was the ideal value of k"
      ]
    },
    {
      "cell_type": "code",
      "execution_count": null,
      "metadata": {
        "colab": {
          "base_uri": "https://localhost:8080/",
          "height": 487
        },
        "id": "zuGHtbBMnZdu",
        "outputId": "61749507-ed15-446f-d78e-1f2494952738"
      },
      "outputs": [
        {
          "output_type": "display_data",
          "data": {
            "text/plain": [
              "<Figure size 800x500 with 1 Axes>"
            ],
            "image/png": "[encoded data removed]"
          },
          "metadata": {}
        }
      ],
      "source": [
        "inertias = [] # the sum of squared distances\n",
        "k_values = range(1, 11)\n",
        "\n",
        "for k in k_values:\n",
        "    kmeans = cluster.KMeans(n_clusters=k, random_state=42, n_init=10)\n",
        "    kmeans.fit(data)\n",
        "    inertias.append(kmeans.inertia_)\n",
        "\n",
        "plt.figure(figsize=(8, 5))\n",
        "plt.plot(k_values, inertias, marker='o', linestyle='--')\n",
        "plt.xlabel('Number of Clusters (k)')\n",
        "plt.ylabel('Within-Cluster Sum of Squares (inertias)')\n",
        "plt.title('Elbow Method for Optimal k')\n",
        "plt.grid(True)\n",
        "plt.show()"
      ]
    },
    {
      "cell_type": "code",
      "execution_count": null,
      "metadata": {
        "id": "ImxH7i9uSyI1"
      },
      "outputs": [],
      "source": [
        "k = 3"
      ]
    },
    {
      "cell_type": "markdown",
      "metadata": {
        "id": "NvwTlsC1SyI1"
      },
      "source": [
        "#### Run k-Means"
      ]
    },
    {
      "cell_type": "markdown",
      "source": [
        "This creates a pipeline that runs the preprocessing pipeline, and then kmeans"
      ],
      "metadata": {
        "id": "74IbDnmaOaoy"
      }
    },
    {
      "cell_type": "code",
      "execution_count": null,
      "metadata": {
        "id": "7aqgn9hXSyI1",
        "colab": {
          "base_uri": "https://localhost:8080/"
        },
        "outputId": "fff8072b-2add-40ed-94ae-f41985871c5a"
      },
      "outputs": [
        {
          "output_type": "execute_result",
          "data": {
            "text/plain": [
              "(array([[2.07723908, 1.3820374 , 2.61049984],\n",
              "        [2.07767857, 1.36979418, 2.42717346],\n",
              "        [2.47423213, 2.87115995, 1.34349106],\n",
              "        ...,\n",
              "        [2.71963625, 1.26909059, 2.79727146],\n",
              "        [2.73175686, 2.15057432, 3.06961166],\n",
              "        [3.7224944 , 2.57320151, 2.17340216]]),\n",
              " array([[-0.31801615,  0.37317869,  0.19804008,  0.64670748,  0.04790905,\n",
              "          0.19949926,  0.40175123,  0.62537095,  0.64445836,  0.3391516 ,\n",
              "          0.59969916,  0.22882352,  0.02288489,  0.55148327,  0.63992993,\n",
              "          0.60277641,  0.19785276,  0.48647518,  0.53680982,  0.79785276,\n",
              "          0.        ],\n",
              "        [ 0.41247392, -0.49869938, -0.30887625, -0.24872691,  0.10210926,\n",
              "          0.14038472,  0.47779833,  0.33883528,  0.31150476,  0.22249969,\n",
              "          0.23161416,  0.73316067,  0.04783844,  0.53107448,  0.35330949,\n",
              "          0.48670382,  0.02240326,  0.45121274,  0.75967413,  0.75152749,\n",
              "          0.        ],\n",
              "        [-0.05643724, -0.33819244, -0.09832405,  0.09132576,  2.05323566,\n",
              "          0.15349247,  0.4289827 ,  0.43455002,  0.5109453 ,  0.24397453,\n",
              "          0.37139915,  0.42667803,  0.94612909,  0.53559982,  0.31869701,\n",
              "          0.5349156 ,  0.04761905,  0.41736695,  0.72268908,  0.7697479 ,\n",
              "          0.        ]]))"
            ]
          },
          "metadata": {},
          "execution_count": 106
        }
      ],
      "source": [
        "kmeans_pipeline = Pipeline(steps=[\n",
        "    ('preprocess', preprocess_pipeline),\n",
        "    ('kMeans', cluster.KMeans(n_clusters=k, n_init=10, max_iter=300))\n",
        "])\n",
        "clustered_model = kmeans_pipeline.fit(df)\n",
        "preprocessed_data = clustered_model.transform(df)\n",
        "preprocessed_data,clustered_model['kMeans'].cluster_centers_"
      ]
    },
    {
      "cell_type": "markdown",
      "metadata": {
        "id": "7I5zHtP2SyI2"
      },
      "source": [
        "### E. Apply a manifold-learning technique to project the data set to a 2D space\n",
        "\n",
        "https://scikit-learn.org/stable/modules/manifold.html"
      ]
    },
    {
      "cell_type": "markdown",
      "metadata": {
        "id": "uylJksO9SyI2"
      },
      "source": [
        "Append the cluster centers to the dataset."
      ]
    },
    {
      "cell_type": "code",
      "execution_count": null,
      "metadata": {
        "id": "owttC7cFSyI2",
        "colab": {
          "base_uri": "https://localhost:8080/"
        },
        "outputId": "4dee7223-6410-40c3-b77a-3d0bda0d1a80"
      },
      "outputs": [
        {
          "output_type": "execute_result",
          "data": {
            "text/plain": [
              "(1521, 3)"
            ]
          },
          "metadata": {},
          "execution_count": 125
        }
      ],
      "source": [
        "preprocessed_data.shape\n",
        "data_and_centers = np.r_[preprocessed_data,clustered_model['kMeans'].cluster_centers_.T]\n",
        "data_and_centers.shape"
      ]
    },
    {
      "cell_type": "markdown",
      "metadata": {
        "id": "Skv4QLH2SyI3"
      },
      "source": [
        "#### E2. Apply t-SNE to project both the data and the k-Means cluster centers to a 2D space"
      ]
    },
    {
      "cell_type": "markdown",
      "metadata": {
        "id": "y2EGUrZESyI4"
      },
      "source": [
        "Project both the data and the k-Means cluster centers to 2D."
      ]
    },
    {
      "cell_type": "code",
      "execution_count": null,
      "metadata": {
        "colab": {
          "base_uri": "https://localhost:8080/"
        },
        "id": "6lKVri4WSyI4",
        "outputId": "9d6ac7d7-3a69-45e6-e19c-834cb16f9992"
      },
      "outputs": [
        {
          "output_type": "stream",
          "name": "stdout",
          "text": [
            "transformation complete\n"
          ]
        },
        {
          "output_type": "execute_result",
          "data": {
            "text/plain": [
              "(1521, 2)"
            ]
          },
          "metadata": {},
          "execution_count": 126
        }
      ],
      "source": [
        "XYcoordinates = manifold.TSNE(n_components=2).fit_transform(data_and_centers)\n",
        "print(\"transformation complete\")\n",
        "XYcoordinates.shape"
      ]
    },
    {
      "cell_type": "code",
      "execution_count": null,
      "metadata": {
        "colab": {
          "base_uri": "https://localhost:8080/",
          "height": 323
        },
        "id": "Ew4A5RN6SyI4",
        "outputId": "b4b1ff27-1c4d-4429-9328-894892183a7a"
      },
      "outputs": [
        {
          "output_type": "error",
          "ename": "IndexError",
          "evalue": "boolean index did not match indexed array along axis 0; size of axis is 1518 but size of corresponding boolean axis is 1500",
          "traceback": [
            "\u001b[0;31m---------------------------------------------------------------------------\u001b[0m",
            "\u001b[0;31mIndexError\u001b[0m                                Traceback (most recent call last)",
            "\u001b[0;32m<ipython-input-128-d1a4d765a051>\u001b[0m in \u001b[0;36m<cell line: 0>\u001b[0;34m()\u001b[0m\n\u001b[0;32m----> 1\u001b[0;31m clustering_scatterplot(points=XYcoordinates[:-k,:],\n\u001b[0m\u001b[1;32m      2\u001b[0m                        \u001b[0mlabels\u001b[0m\u001b[0;34m=\u001b[0m\u001b[0mclustered_model\u001b[0m\u001b[0;34m[\u001b[0m\u001b[0;34m'kMeans'\u001b[0m\u001b[0;34m]\u001b[0m\u001b[0;34m.\u001b[0m\u001b[0mlabels_\u001b[0m\u001b[0;34m,\u001b[0m\u001b[0;34m\u001b[0m\u001b[0;34m\u001b[0m\u001b[0m\n\u001b[1;32m      3\u001b[0m                        \u001b[0mcenters\u001b[0m\u001b[0;34m=\u001b[0m\u001b[0mXYcoordinates\u001b[0m\u001b[0;34m[\u001b[0m\u001b[0;34m-\u001b[0m\u001b[0mk\u001b[0m\u001b[0;34m:\u001b[0m\u001b[0;34m,\u001b[0m\u001b[0;34m:\u001b[0m\u001b[0;34m]\u001b[0m\u001b[0;34m,\u001b[0m\u001b[0;34m\u001b[0m\u001b[0;34m\u001b[0m\u001b[0m\n\u001b[1;32m      4\u001b[0m                        title='Tracks clustered by T-SNE')\n",
            "\u001b[0;32m<ipython-input-31-270f648aea84>\u001b[0m in \u001b[0;36mclustering_scatterplot\u001b[0;34m(points, labels, centers, title)\u001b[0m\n\u001b[1;32m     12\u001b[0m     \u001b[0mn_clusters\u001b[0m \u001b[0;34m=\u001b[0m \u001b[0mnp\u001b[0m\u001b[0;34m.\u001b[0m\u001b[0munique\u001b[0m\u001b[0;34m(\u001b[0m\u001b[0mlabels\u001b[0m\u001b[0;34m)\u001b[0m\u001b[0;34m.\u001b[0m\u001b[0msize\u001b[0m\u001b[0;34m\u001b[0m\u001b[0;34m\u001b[0m\u001b[0m\n\u001b[1;32m     13\u001b[0m     \u001b[0;32mfor\u001b[0m \u001b[0mi\u001b[0m \u001b[0;32min\u001b[0m \u001b[0mrange\u001b[0m\u001b[0;34m(\u001b[0m\u001b[0mn_clusters\u001b[0m\u001b[0;34m)\u001b[0m\u001b[0;34m:\u001b[0m\u001b[0;34m\u001b[0m\u001b[0;34m\u001b[0m\u001b[0m\n\u001b[0;32m---> 14\u001b[0;31m         h = plt.scatter(points[labels==i,0],\n\u001b[0m\u001b[1;32m     15\u001b[0m                         \u001b[0mpoints\u001b[0m\u001b[0;34m[\u001b[0m\u001b[0mlabels\u001b[0m\u001b[0;34m==\u001b[0m\u001b[0mi\u001b[0m\u001b[0;34m,\u001b[0m\u001b[0;36m1\u001b[0m\u001b[0;34m]\u001b[0m\u001b[0;34m,\u001b[0m\u001b[0;34m\u001b[0m\u001b[0;34m\u001b[0m\u001b[0m\n\u001b[1;32m     16\u001b[0m                         \u001b[0mc\u001b[0m\u001b[0;34m=\u001b[0m\u001b[0mcolors\u001b[0m\u001b[0;34m[\u001b[0m\u001b[0mi\u001b[0m\u001b[0;34m%\u001b[0m\u001b[0mcolors\u001b[0m\u001b[0;34m.\u001b[0m\u001b[0msize\u001b[0m\u001b[0;34m]\u001b[0m\u001b[0;34m,\u001b[0m\u001b[0;34m\u001b[0m\u001b[0;34m\u001b[0m\u001b[0m\n",
            "\u001b[0;31mIndexError\u001b[0m: boolean index did not match indexed array along axis 0; size of axis is 1518 but size of corresponding boolean axis is 1500"
          ]
        }
      ],
      "source": [
        "clustering_scatterplot(points=XYcoordinates[:-k,:],\n",
        "                       labels=clustered_model['kMeans'].labels_,\n",
        "                       centers=XYcoordinates[-k:,:],\n",
        "                       title='Tracks clustered by T-SNE')"
      ]
    },
    {
      "cell_type": "markdown",
      "metadata": {
        "id": "SeHJehewSyI4"
      },
      "source": [
        "### F. Cluster Analysis"
      ]
    },
    {
      "cell_type": "markdown",
      "metadata": {
        "id": "J08Vn5RPSyI5"
      },
      "source": [
        "#### Add the cluster labels as an extra column in the original dataframe"
      ]
    },
    {
      "cell_type": "code",
      "execution_count": null,
      "metadata": {
        "id": "jg1G54JMSyI5"
      },
      "outputs": [],
      "source": [
        "df['cluster'] = pd.Series(clustered_data_sklearn.labels_, index=df.index)"
      ]
    },
    {
      "cell_type": "code",
      "execution_count": null,
      "metadata": {
        "colab": {
          "base_uri": "https://localhost:8080/",
          "height": 226
        },
        "id": "ZBpA-q1eSyI5",
        "outputId": "21b49670-7764-46f4-baf1-d91cf5a82cdc"
      },
      "outputs": [
        {
          "data": {
            "text/html": [
              "<div>\n",
              "<style scoped>\n",
              "    .dataframe tbody tr th:only-of-type {\n",
              "        vertical-align: middle;\n",
              "    }\n",
              "\n",
              "    .dataframe tbody tr th {\n",
              "        vertical-align: top;\n",
              "    }\n",
              "\n",
              "    .dataframe thead th {\n",
              "        text-align: right;\n",
              "    }\n",
              "</style>\n",
              "<table border=\"1\" class=\"dataframe\">\n",
              "  <thead>\n",
              "    <tr style=\"text-align: right;\">\n",
              "      <th></th>\n",
              "      <th>popularity</th>\n",
              "      <th>duration_ms</th>\n",
              "      <th>explicit</th>\n",
              "      <th>danceability</th>\n",
              "      <th>energy</th>\n",
              "      <th>key</th>\n",
              "      <th>loudness</th>\n",
              "      <th>mode</th>\n",
              "      <th>speechiness</th>\n",
              "      <th>acousticness</th>\n",
              "      <th>instrumentalness</th>\n",
              "      <th>liveness</th>\n",
              "      <th>valence</th>\n",
              "      <th>tempo</th>\n",
              "      <th>time_signature</th>\n",
              "      <th>cluster</th>\n",
              "    </tr>\n",
              "  </thead>\n",
              "  <tbody>\n",
              "    <tr>\n",
              "      <th>1495</th>\n",
              "      <td>0</td>\n",
              "      <td>352371</td>\n",
              "      <td>0</td>\n",
              "      <td>0.273</td>\n",
              "      <td>0.122</td>\n",
              "      <td>0</td>\n",
              "      <td>-22.173</td>\n",
              "      <td>0</td>\n",
              "      <td>0.0575</td>\n",
              "      <td>0.960</td>\n",
              "      <td>0.003330</td>\n",
              "      <td>0.0635</td>\n",
              "      <td>0.0731</td>\n",
              "      <td>117.718</td>\n",
              "      <td>4</td>\n",
              "      <td>3</td>\n",
              "    </tr>\n",
              "    <tr>\n",
              "      <th>1496</th>\n",
              "      <td>0</td>\n",
              "      <td>204310</td>\n",
              "      <td>0</td>\n",
              "      <td>0.457</td>\n",
              "      <td>0.498</td>\n",
              "      <td>6</td>\n",
              "      <td>-8.387</td>\n",
              "      <td>1</td>\n",
              "      <td>0.0368</td>\n",
              "      <td>0.766</td>\n",
              "      <td>0.000002</td>\n",
              "      <td>0.2890</td>\n",
              "      <td>0.2020</td>\n",
              "      <td>116.255</td>\n",
              "      <td>4</td>\n",
              "      <td>3</td>\n",
              "    </tr>\n",
              "    <tr>\n",
              "      <th>1497</th>\n",
              "      <td>0</td>\n",
              "      <td>225506</td>\n",
              "      <td>0</td>\n",
              "      <td>0.241</td>\n",
              "      <td>0.207</td>\n",
              "      <td>1</td>\n",
              "      <td>-16.353</td>\n",
              "      <td>1</td>\n",
              "      <td>0.0374</td>\n",
              "      <td>0.982</td>\n",
              "      <td>0.002260</td>\n",
              "      <td>0.1140</td>\n",
              "      <td>0.0735</td>\n",
              "      <td>86.885</td>\n",
              "      <td>1</td>\n",
              "      <td>3</td>\n",
              "    </tr>\n",
              "    <tr>\n",
              "      <th>1498</th>\n",
              "      <td>0</td>\n",
              "      <td>148600</td>\n",
              "      <td>0</td>\n",
              "      <td>0.280</td>\n",
              "      <td>0.208</td>\n",
              "      <td>5</td>\n",
              "      <td>-20.158</td>\n",
              "      <td>1</td>\n",
              "      <td>0.0521</td>\n",
              "      <td>0.941</td>\n",
              "      <td>0.000200</td>\n",
              "      <td>0.4100</td>\n",
              "      <td>0.2410</td>\n",
              "      <td>90.477</td>\n",
              "      <td>4</td>\n",
              "      <td>3</td>\n",
              "    </tr>\n",
              "    <tr>\n",
              "      <th>1499</th>\n",
              "      <td>0</td>\n",
              "      <td>257800</td>\n",
              "      <td>0</td>\n",
              "      <td>0.244</td>\n",
              "      <td>0.205</td>\n",
              "      <td>3</td>\n",
              "      <td>-15.596</td>\n",
              "      <td>1</td>\n",
              "      <td>0.0367</td>\n",
              "      <td>0.984</td>\n",
              "      <td>0.329000</td>\n",
              "      <td>0.0788</td>\n",
              "      <td>0.0750</td>\n",
              "      <td>71.370</td>\n",
              "      <td>4</td>\n",
              "      <td>3</td>\n",
              "    </tr>\n",
              "  </tbody>\n",
              "</table>\n",
              "</div>"
            ],
            "text/plain": [
              "      popularity  duration_ms  explicit  danceability  energy  key  loudness  \\\n",
              "1495           0       352371         0         0.273   0.122    0   -22.173   \n",
              "1496           0       204310         0         0.457   0.498    6    -8.387   \n",
              "1497           0       225506         0         0.241   0.207    1   -16.353   \n",
              "1498           0       148600         0         0.280   0.208    5   -20.158   \n",
              "1499           0       257800         0         0.244   0.205    3   -15.596   \n",
              "\n",
              "      mode  speechiness  acousticness  instrumentalness  liveness  valence  \\\n",
              "1495     0       0.0575         0.960          0.003330    0.0635   0.0731   \n",
              "1496     1       0.0368         0.766          0.000002    0.2890   0.2020   \n",
              "1497     1       0.0374         0.982          0.002260    0.1140   0.0735   \n",
              "1498     1       0.0521         0.941          0.000200    0.4100   0.2410   \n",
              "1499     1       0.0367         0.984          0.329000    0.0788   0.0750   \n",
              "\n",
              "        tempo  time_signature  cluster  \n",
              "1495  117.718               4        3  \n",
              "1496  116.255               4        3  \n",
              "1497   86.885               1        3  \n",
              "1498   90.477               4        3  \n",
              "1499   71.370               4        3  "
            ]
          },
          "execution_count": 55,
          "metadata": {},
          "output_type": "execute_result"
        }
      ],
      "source": [
        "df.tail()"
      ]
    },
    {
      "cell_type": "markdown",
      "metadata": {
        "id": "fswl5KBiSyI6"
      },
      "source": [
        "#### Compute the mean value of each attribute for each cluster"
      ]
    },
    {
      "cell_type": "code",
      "execution_count": null,
      "metadata": {
        "colab": {
          "base_uri": "https://localhost:8080/",
          "height": 226
        },
        "id": "kVulG_1uSyI6",
        "outputId": "c3901526-7f80-401d-ada5-3992abfb6fc3"
      },
      "outputs": [
        {
          "data": {
            "text/html": [
              "<div>\n",
              "<style scoped>\n",
              "    .dataframe tbody tr th:only-of-type {\n",
              "        vertical-align: middle;\n",
              "    }\n",
              "\n",
              "    .dataframe tbody tr th {\n",
              "        vertical-align: top;\n",
              "    }\n",
              "\n",
              "    .dataframe thead th {\n",
              "        text-align: right;\n",
              "    }\n",
              "</style>\n",
              "<table border=\"1\" class=\"dataframe\">\n",
              "  <thead>\n",
              "    <tr style=\"text-align: right;\">\n",
              "      <th></th>\n",
              "      <th>popularity</th>\n",
              "      <th>duration_ms</th>\n",
              "      <th>explicit</th>\n",
              "      <th>danceability</th>\n",
              "      <th>energy</th>\n",
              "      <th>key</th>\n",
              "      <th>loudness</th>\n",
              "      <th>mode</th>\n",
              "      <th>speechiness</th>\n",
              "      <th>acousticness</th>\n",
              "      <th>instrumentalness</th>\n",
              "      <th>liveness</th>\n",
              "      <th>valence</th>\n",
              "      <th>tempo</th>\n",
              "      <th>time_signature</th>\n",
              "    </tr>\n",
              "    <tr>\n",
              "      <th>cluster</th>\n",
              "      <th></th>\n",
              "      <th></th>\n",
              "      <th></th>\n",
              "      <th></th>\n",
              "      <th></th>\n",
              "      <th></th>\n",
              "      <th></th>\n",
              "      <th></th>\n",
              "      <th></th>\n",
              "      <th></th>\n",
              "      <th></th>\n",
              "      <th></th>\n",
              "      <th></th>\n",
              "      <th></th>\n",
              "      <th></th>\n",
              "    </tr>\n",
              "  </thead>\n",
              "  <tbody>\n",
              "    <tr>\n",
              "      <th>0</th>\n",
              "      <td>0.000000</td>\n",
              "      <td>201258.824847</td>\n",
              "      <td>0.148676</td>\n",
              "      <td>0.632939</td>\n",
              "      <td>0.750532</td>\n",
              "      <td>4.680244</td>\n",
              "      <td>-5.696859</td>\n",
              "      <td>1.000000</td>\n",
              "      <td>0.094738</td>\n",
              "      <td>0.113558</td>\n",
              "      <td>0.199518</td>\n",
              "      <td>0.205758</td>\n",
              "      <td>0.445613</td>\n",
              "      <td>126.521436</td>\n",
              "      <td>3.967413</td>\n",
              "    </tr>\n",
              "    <tr>\n",
              "      <th>1</th>\n",
              "      <td>0.000000</td>\n",
              "      <td>206556.031429</td>\n",
              "      <td>0.165714</td>\n",
              "      <td>0.626766</td>\n",
              "      <td>0.711989</td>\n",
              "      <td>5.834286</td>\n",
              "      <td>-6.104851</td>\n",
              "      <td>0.000000</td>\n",
              "      <td>0.097500</td>\n",
              "      <td>0.156858</td>\n",
              "      <td>0.108718</td>\n",
              "      <td>0.195755</td>\n",
              "      <td>0.437807</td>\n",
              "      <td>119.129166</td>\n",
              "      <td>3.971429</td>\n",
              "    </tr>\n",
              "    <tr>\n",
              "      <th>2</th>\n",
              "      <td>1.000000</td>\n",
              "      <td>201642.031373</td>\n",
              "      <td>0.101961</td>\n",
              "      <td>0.620663</td>\n",
              "      <td>0.674706</td>\n",
              "      <td>4.992157</td>\n",
              "      <td>-5.984176</td>\n",
              "      <td>0.545098</td>\n",
              "      <td>0.067861</td>\n",
              "      <td>0.222890</td>\n",
              "      <td>0.119830</td>\n",
              "      <td>0.162611</td>\n",
              "      <td>0.453702</td>\n",
              "      <td>117.909627</td>\n",
              "      <td>3.929412</td>\n",
              "    </tr>\n",
              "    <tr>\n",
              "      <th>3</th>\n",
              "      <td>0.089109</td>\n",
              "      <td>227942.995050</td>\n",
              "      <td>0.000000</td>\n",
              "      <td>0.304934</td>\n",
              "      <td>0.252006</td>\n",
              "      <td>4.831683</td>\n",
              "      <td>-14.871869</td>\n",
              "      <td>0.868812</td>\n",
              "      <td>0.045222</td>\n",
              "      <td>0.877228</td>\n",
              "      <td>0.206267</td>\n",
              "      <td>0.201147</td>\n",
              "      <td>0.198265</td>\n",
              "      <td>102.729101</td>\n",
              "      <td>3.663366</td>\n",
              "    </tr>\n",
              "  </tbody>\n",
              "</table>\n",
              "</div>"
            ],
            "text/plain": [
              "         popularity    duration_ms  explicit  danceability    energy  \\\n",
              "cluster                                                                \n",
              "0          0.000000  201258.824847  0.148676      0.632939  0.750532   \n",
              "1          0.000000  206556.031429  0.165714      0.626766  0.711989   \n",
              "2          1.000000  201642.031373  0.101961      0.620663  0.674706   \n",
              "3          0.089109  227942.995050  0.000000      0.304934  0.252006   \n",
              "\n",
              "              key   loudness      mode  speechiness  acousticness  \\\n",
              "cluster                                                             \n",
              "0        4.680244  -5.696859  1.000000     0.094738      0.113558   \n",
              "1        5.834286  -6.104851  0.000000     0.097500      0.156858   \n",
              "2        4.992157  -5.984176  0.545098     0.067861      0.222890   \n",
              "3        4.831683 -14.871869  0.868812     0.045222      0.877228   \n",
              "\n",
              "         instrumentalness  liveness   valence       tempo  time_signature  \n",
              "cluster                                                                    \n",
              "0                0.199518  0.205758  0.445613  126.521436        3.967413  \n",
              "1                0.108718  0.195755  0.437807  119.129166        3.971429  \n",
              "2                0.119830  0.162611  0.453702  117.909627        3.929412  \n",
              "3                0.206267  0.201147  0.198265  102.729101        3.663366  "
            ]
          },
          "execution_count": 56,
          "metadata": {},
          "output_type": "execute_result"
        }
      ],
      "source": [
        "df.groupby('cluster').mean()"
      ]
    },
    {
      "cell_type": "markdown",
      "metadata": {
        "id": "Dt55CprVSyI6"
      },
      "source": [
        "- Cluster 0 are unpopular tracks all in major.\n",
        "- Cluster 1 are quieter, acoustic, lower-tempo, lower-energy tracks.\n",
        "- Cluster 2 tracks that rank from 50-100 in popularity.\n",
        "- Cluster 3 are unpopular tracks all in minor."
      ]
    },
    {
      "cell_type": "markdown",
      "metadata": {
        "id": "cWBQYQ77wbXW"
      },
      "source": [
        "# Clustering with DBScan"
      ]
    },
    {
      "cell_type": "code",
      "execution_count": null,
      "metadata": {
        "id": "B36ouybS8-Mp"
      },
      "outputs": [],
      "source": [
        "data = df[['loudness', 'energy']].dropna().values"
      ]
    },
    {
      "cell_type": "code",
      "execution_count": null,
      "metadata": {
        "id": "9jAMNt9b8-Mp"
      },
      "outputs": [],
      "source": [
        "# DBSCAN parameters\n",
        "epsilon = 2\n",
        "min_samples = 10\n",
        "\n",
        "# Run DBSCAN\n",
        "db = DBSCAN(eps=epsilon, min_samples=min_samples).fit(data)\n",
        "labels = db.labels_\n",
        "\n",
        "scaled_data = StandardScaler().fit_transform(data)"
      ]
    },
    {
      "cell_type": "code",
      "execution_count": null,
      "metadata": {
        "id": "UbiPhdBe8-Mp",
        "outputId": "bc87b8c9-ddb0-4ecc-9496-a2f6159a9cac"
      },
      "outputs": [
        {
          "data": {
            "image/png": "[encoded data removed]",
            "text/plain": [
              "<Figure size 432x288 with 1 Axes>"
            ]
          },
          "metadata": {
            "needs_background": "light"
          },
          "output_type": "display_data"
        }
      ],
      "source": [
        "# Map labels to colors\n",
        "colors = list(map(lambda x: '#3b4cc0' if x == 1 else '#b40426' if x == 0 else '#9e9e9e', labels))\n",
        "\n",
        "plt.scatter(scaled_data[:, 1], data[:, 0], c=colors, marker=\"o\", picker=True)\n",
        "plt.title('DBSCAN Clustering on Tracks Data')\n",
        "plt.xlabel('Feature 1: Loudness')\n",
        "plt.ylabel('Feature 2: Energy')\n",
        "plt.show()"
      ]
    },
    {
      "cell_type": "code",
      "execution_count": null,
      "metadata": {
        "id": "O3WWWxLo8-Mp",
        "outputId": "b6bfeeb1-eb96-4ed4-e398-119959c8427c"
      },
      "outputs": [
        {
          "name": "stderr",
          "output_type": "stream",
          "text": [
            "/Users/adamgreenan/opt/anaconda3/lib/python3.8/site-packages/sklearn/manifold/_mds.py:298: FutureWarning: The default value of `normalized_stress` will change to `'auto'` in version 1.4. To suppress this warning, manually set the value of `normalized_stress`.\n",
            "  warnings.warn(\n"
          ]
        },
        {
          "data": {
            "image/png": "[encoded data removed]",
            "text/plain": [
              "<Figure size 576x432 with 2 Axes>"
            ]
          },
          "metadata": {
            "needs_background": "light"
          },
          "output_type": "display_data"
        }
      ],
      "source": [
        "X = df.select_dtypes(include=['int64', 'float64'])\n",
        "\n",
        "# Apply DBSCAN clustering\n",
        "dbscan = DBSCAN(eps=0.5, min_samples=5)\n",
        "labels = dbscan.fit_predict(X)\n",
        "\n",
        "# Use t-SNE for visualization\n",
        "tsne = TSNE(n_components=2, random_state=42)\n",
        "X_tsne = tsne.fit_transform(X)\n",
        "\n",
        "mds = MDS(n_components=2, random_state=42)\n",
        "X_mds = mds.fit_transform(X)\n",
        "\n",
        "# Plot the results\n",
        "plt.figure(figsize=(8, 6))\n",
        "plt.scatter(X_tsne[:, 0], X_tsne[:, 1], c=labels, cmap='viridis', s=10)\n",
        "plt.title(\"DBSCAN Clusters with t-SNE Visualization\")\n",
        "plt.colorbar(label='Cluster Label')\n",
        "plt.show()"
      ]
    },
    {
      "cell_type": "code",
      "execution_count": null,
      "metadata": {
        "id": "9j3yZSyr8-Mq",
        "outputId": "7f144716-7b39-4eaf-8490-5fa739168bae"
      },
      "outputs": [
        {
          "data": {
            "image/png": "[encoded data removed]",
            "text/plain": [
              "<Figure size 576x432 with 2 Axes>"
            ]
          },
          "metadata": {
            "needs_background": "light"
          },
          "output_type": "display_data"
        }
      ],
      "source": [
        "plt.figure(figsize=(8, 6))\n",
        "plt.scatter(X_mds[:, 0], X_mds[:, 1], c=labels, cmap='viridis', s=10)\n",
        "plt.title(\"DBSCAN Clusters with MDS Visualization\")\n",
        "plt.colorbar(label='Cluster Label')\n",
        "plt.show()"
      ]
    },
    {
      "cell_type": "markdown",
      "metadata": {
        "id": "rzj9vHOR8-Mq"
      },
      "source": [
        "# Conclusion"
      ]
    },
    {
      "cell_type": "markdown",
      "metadata": {
        "id": "xeqFEH5q8-Mq"
      },
      "source": [
        "k-means clustering assumes that clusters are spherical and equally sized. It performed well in forming clear, compact clusters when the number of clusters (k) was appropriately chosen. However, it required setting k manually in advance, and its performance degraded if the true clusters were not globular or were very differently sized.\n",
        "\n",
        "DBSCAN (Density-Based Spatial Clustering of Applications with Noise), on the other hand, does not require specifying the number of clusters beforehand. It was able to discover clusters of arbitrary shape and effectively identified noise points (outliers). DBSCAN performed better when clusters were irregularly shaped but was sensitive to the choice of parameters like eps (neighborhood size) and min_samples (minimum points in a neighborhood)."
      ]
    }
  ],
  "metadata": {
    "colab": {
      "provenance": []
    },
    "kernelspec": {
      "display_name": "Python 3",
      "name": "python3"
    },
    "language_info": {
      "codemirror_mode": {
        "name": "ipython",
        "version": 3
      },
      "file_extension": ".py",
      "mimetype": "text/x-python",
      "name": "python",
      "nbconvert_exporter": "python",
      "pygments_lexer": "ipython3",
      "version": "3.8.8"
    }
  },
  "nbformat": 4,
  "nbformat_minor": 0
}